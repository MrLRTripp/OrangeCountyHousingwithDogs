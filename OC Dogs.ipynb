{
 "cells": [
  {
   "cell_type": "markdown",
   "metadata": {},
   "source": [
    "## Exploratory Data Analysis of Orange County, California Dog License data set and Census Housing.\n",
    "\n",
    "The Orange County, California dog license data was provided as part of a data request I made. (See 22-3152.pdf) It has about 7700 rows of data on dogs mostly from May and June 2022. A full 12 months would give a more accurate picture of the dogs that are registered in each zip code, but two months seems sufficient to compute the correlations with housing data from the Census.\n",
    "\n",
    "The data was provided as a text-based pdf file. Luckily, the Camelot package for python can extract the data.\n",
    "https://camelot-py.readthedocs.io/en/master/\n",
    "\n",
    "Census data can be found at:\n",
    "\n",
    "https://data.census.gov/cedsci/table?t=Housing%3AHousing%20Units%3AOccupancy%20Characteristics%3AOwner%2FRenter%20%28Householder%29%20Characteristics%3AOwner%2FRenter%20%28Tenure%29&g=0400000US06_0500000US06059,06059%248600000&y=2020&tid=ACSDP5Y2020.DP04\n",
    "\n",
    "The downloaded CSV file is: ACSDP5Y2020.DP04_data_with_overlays_2022-07-06T151600.csv\n",
    "\n",
    "## Conclusion\n",
    "\n",
    "Similar to what we saw with the Seattle data (https://github.com/MrLRTripp/SeattleHousingwithPets), dog ownership is highly correlated with a zip code's owner occupancy percentage as well as to the zip code's percentage of 4 and 5 bedroom homes. Not surprisingly, owner occupancy percentage is highly correlated with percentage of 4 and 5 bedroom homes.\n",
    "\n",
    "Unlike the Seattle data, we do see a moderate correlation with property value and rent. Again, because these are moderately correlated with 4 and 5 bedroom homes.\n",
    "\n",
    "Strong *negative* correlation with areas that have no bedrooms or 1 or 2 bedrooms.\n",
    "\n",
    "**Bottom line:** households with bigger homes with higher value are most likely to own a dog."
   ]
  },
  {
   "cell_type": "code",
   "execution_count": 6,
   "metadata": {},
   "outputs": [],
   "source": [
    "# Requests allows us to make HTTP requests which we will use to get data from an API\n",
    "import requests\n",
    "import pandas as pd\n",
    "import numpy as np\n",
    "\n",
    "import os\n",
    "\n",
    "import camelot\n",
    "\n",
    "import plotly.express as px\n",
    "import plotly.graph_objects as go\n",
    "# import make_subplots function from plotly.subplots\n",
    "# to make grid of plots\n",
    "from plotly.subplots import make_subplots"
   ]
  },
  {
   "cell_type": "code",
   "execution_count": null,
   "metadata": {},
   "outputs": [],
   "source": [
    "# Use Camelot to extract the data from pdf.\n",
    "# Since the values in the pdf are separated by whitespace, specify flavor='stream' otherwise it doesn't parse it.\n",
    "# After experimenting with one page (defaults to 1), provide the pages parameter to get all of them.\n",
    "# Exclude page 11,31,74\n",
    "path = 'E:/UserLo/source/repos/learning/OC Dogs/'\n",
    "file = '22-3152.pdf'\n"
   ]
  },
  {
   "cell_type": "code",
   "execution_count": 338,
   "metadata": {},
   "outputs": [
    {
     "name": "stdout",
     "output_type": "stream",
     "text": [
      "Problem on page 11\n",
      "Problem on page 31\n",
      "Problem on page 74\n",
      "Problem on page 95\n"
     ]
    }
   ],
   "source": [
    "# Use Camelot to extract the data from pdf.\n",
    "# Since the values in the pdf are separated by whitespace, specify flavor='stream' otherwise it doesn't parse it.\n",
    "# Camelot parses better if column breaks are specified.\n",
    "# There are four pages that throw an IndexError when columns are specified: 11,31,74,95\n",
    "# They all seem to parse when columns are not provided, however there is one row on page 31 that is a problem.\n",
    "# We'll just drop that row after the dataframe is created\n",
    "\n",
    "# Each element of the tables list has to be converted to a DataFrame and concatenated to form one large table\n",
    "license_data = pd.DataFrame(columns=range(6))\n",
    "\n",
    "for i in range(1,113):\n",
    "    try:\n",
    "        tables = camelot.read_pdf(path+file, flavor='stream', pages=str(i), columns=['176,243,367,469,511'])\n",
    "        license_data = pd.concat([license_data,tables[0].df])\n",
    "    except IndexError:\n",
    "        print(f'Problem on page {i}')\n",
    "        tables = camelot.read_pdf(path+file, flavor='stream', pages=str(i))\n",
    "        license_data = pd.concat([license_data,tables[0].df])\n",
    "\n"
   ]
  },
  {
   "cell_type": "code",
   "execution_count": 301,
   "metadata": {},
   "outputs": [
    {
     "data": {
      "text/html": [
       "<div>\n",
       "<style scoped>\n",
       "    .dataframe tbody tr th:only-of-type {\n",
       "        vertical-align: middle;\n",
       "    }\n",
       "\n",
       "    .dataframe tbody tr th {\n",
       "        vertical-align: top;\n",
       "    }\n",
       "\n",
       "    .dataframe thead th {\n",
       "        text-align: right;\n",
       "    }\n",
       "</style>\n",
       "<table border=\"1\" class=\"dataframe\">\n",
       "  <thead>\n",
       "    <tr style=\"text-align: right;\">\n",
       "      <th></th>\n",
       "      <th>dttmlic</th>\n",
       "      <th>Species</th>\n",
       "      <th>Primary Breed</th>\n",
       "      <th>Secondary Breed</th>\n",
       "      <th>ZIP Code</th>\n",
       "      <th>Senior</th>\n",
       "    </tr>\n",
       "  </thead>\n",
       "  <tbody>\n",
       "    <tr>\n",
       "      <th>68</th>\n",
       "      <td>6/29/2022  12:00:00 AM W22-092774 DOG</td>\n",
       "      <td></td>\n",
       "      <td>WEST HIGHLAND</td>\n",
       "      <td></td>\n",
       "      <td>92675</td>\n",
       "      <td></td>\n",
       "    </tr>\n",
       "  </tbody>\n",
       "</table>\n",
       "</div>"
      ],
      "text/plain": [
       "                                  dttmlic Species  Primary Breed  \\\n",
       "68  6/29/2022  12:00:00 AM W22-092774 DOG          WEST HIGHLAND   \n",
       "\n",
       "   Secondary Breed ZIP Code Senior  \n",
       "68                    92675         "
      ]
     },
     "execution_count": 301,
     "metadata": {},
     "output_type": "execute_result"
    }
   ],
   "source": [
    "Prob_tables = camelot.read_pdf(path+file, flavor='stream', pages='31')\n",
    "prob_df = Prob_tables[0].df\n",
    "prob_df = prob_df.rename(columns={0:'dttmlic', 1:'Species',2:'Primary Breed',3:'Secondary Breed',4:'ZIP Code',5:'Senior'})\n",
    "prob_df.groupby('Species').count()\n",
    "prob_df[prob_df['Species'] != 'DOG']"
   ]
  },
  {
   "cell_type": "code",
   "execution_count": 339,
   "metadata": {},
   "outputs": [
    {
     "data": {
      "text/html": [
       "<div>\n",
       "<style scoped>\n",
       "    .dataframe tbody tr th:only-of-type {\n",
       "        vertical-align: middle;\n",
       "    }\n",
       "\n",
       "    .dataframe tbody tr th {\n",
       "        vertical-align: top;\n",
       "    }\n",
       "\n",
       "    .dataframe thead th {\n",
       "        text-align: right;\n",
       "    }\n",
       "</style>\n",
       "<table border=\"1\" class=\"dataframe\">\n",
       "  <thead>\n",
       "    <tr style=\"text-align: right;\">\n",
       "      <th></th>\n",
       "      <th>index</th>\n",
       "      <th>dttmlic</th>\n",
       "      <th>Primary Breed</th>\n",
       "      <th>Secondary Breed</th>\n",
       "      <th>ZIP Code</th>\n",
       "      <th>Senior</th>\n",
       "    </tr>\n",
       "    <tr>\n",
       "      <th>Species</th>\n",
       "      <th></th>\n",
       "      <th></th>\n",
       "      <th></th>\n",
       "      <th></th>\n",
       "      <th></th>\n",
       "      <th></th>\n",
       "    </tr>\n",
       "  </thead>\n",
       "  <tbody>\n",
       "    <tr>\n",
       "      <th></th>\n",
       "      <td>200</td>\n",
       "      <td>200</td>\n",
       "      <td>200</td>\n",
       "      <td>200</td>\n",
       "      <td>200</td>\n",
       "      <td>200</td>\n",
       "    </tr>\n",
       "    <tr>\n",
       "      <th>CAT</th>\n",
       "      <td>60</td>\n",
       "      <td>60</td>\n",
       "      <td>60</td>\n",
       "      <td>60</td>\n",
       "      <td>60</td>\n",
       "      <td>60</td>\n",
       "    </tr>\n",
       "    <tr>\n",
       "      <th>DOG</th>\n",
       "      <td>7572</td>\n",
       "      <td>7572</td>\n",
       "      <td>7572</td>\n",
       "      <td>7572</td>\n",
       "      <td>7572</td>\n",
       "      <td>7572</td>\n",
       "    </tr>\n",
       "  </tbody>\n",
       "</table>\n",
       "</div>"
      ],
      "text/plain": [
       "         index  dttmlic  Primary Breed  Secondary Breed  ZIP Code  Senior\n",
       "Species                                                                  \n",
       "           200      200            200              200       200     200\n",
       "CAT         60       60             60               60        60      60\n",
       "DOG       7572     7572           7572             7572      7572    7572"
      ]
     },
     "execution_count": 339,
     "metadata": {},
     "output_type": "execute_result"
    }
   ],
   "source": [
    "license_data = license_data.rename(columns={0:'dttmlic', 1:'Species',2:'Primary Breed',3:'Secondary Breed',4:'ZIP Code',5:'Senior'})\n",
    "# Drop row 0\n",
    "license_data = license_data.drop(index=0)\n",
    "license_data = license_data.reset_index()\n",
    "license_data.groupby('Species').count()"
   ]
  },
  {
   "cell_type": "code",
   "execution_count": 340,
   "metadata": {},
   "outputs": [
    {
     "data": {
      "text/html": [
       "<div>\n",
       "<style scoped>\n",
       "    .dataframe tbody tr th:only-of-type {\n",
       "        vertical-align: middle;\n",
       "    }\n",
       "\n",
       "    .dataframe tbody tr th {\n",
       "        vertical-align: top;\n",
       "    }\n",
       "\n",
       "    .dataframe thead th {\n",
       "        text-align: right;\n",
       "    }\n",
       "</style>\n",
       "<table border=\"1\" class=\"dataframe\">\n",
       "  <thead>\n",
       "    <tr style=\"text-align: right;\">\n",
       "      <th></th>\n",
       "      <th>index</th>\n",
       "      <th>dttmlic</th>\n",
       "      <th>Species</th>\n",
       "      <th>Primary Breed</th>\n",
       "      <th>Secondary Breed</th>\n",
       "      <th>ZIP Code</th>\n",
       "      <th>Senior</th>\n",
       "    </tr>\n",
       "  </thead>\n",
       "  <tbody>\n",
       "    <tr>\n",
       "      <th>412</th>\n",
       "      <td>63</td>\n",
       "      <td>5/3/2022  12:00:00 AM W22-091933 DOG</td>\n",
       "      <td></td>\n",
       "      <td>MIX</td>\n",
       "      <td></td>\n",
       "      <td>92648</td>\n",
       "      <td></td>\n",
       "    </tr>\n",
       "    <tr>\n",
       "      <th>500</th>\n",
       "      <td>11</td>\n",
       "      <td>5/5/2022  12:00:00 AM W22-092017 CAT</td>\n",
       "      <td></td>\n",
       "      <td>DOMESTIC MH</td>\n",
       "      <td></td>\n",
       "      <td>92870</td>\n",
       "      <td></td>\n",
       "    </tr>\n",
       "    <tr>\n",
       "      <th>692</th>\n",
       "      <td>63</td>\n",
       "      <td>5/9/2022  12:00:00 AM W22-092100 DOG</td>\n",
       "      <td></td>\n",
       "      <td>WELSH CORGI PEM</td>\n",
       "      <td></td>\n",
       "      <td>92807</td>\n",
       "      <td></td>\n",
       "    </tr>\n",
       "    <tr>\n",
       "      <th>2167</th>\n",
       "      <td>68</td>\n",
       "      <td>6/29/2022  12:00:00 AM W22-092774 DOG</td>\n",
       "      <td></td>\n",
       "      <td>WEST HIGHLAND</td>\n",
       "      <td></td>\n",
       "      <td>92675</td>\n",
       "      <td></td>\n",
       "    </tr>\n",
       "    <tr>\n",
       "      <th>2175</th>\n",
       "      <td>6</td>\n",
       "      <td>6/1/2022  12:00:00 AM W22-092780 DOG</td>\n",
       "      <td></td>\n",
       "      <td>GERM WH POINT</td>\n",
       "      <td></td>\n",
       "      <td>92679</td>\n",
       "      <td></td>\n",
       "    </tr>\n",
       "  </tbody>\n",
       "</table>\n",
       "</div>"
      ],
      "text/plain": [
       "      index                                dttmlic Species    Primary Breed  \\\n",
       "412      63   5/3/2022  12:00:00 AM W22-091933 DOG                      MIX   \n",
       "500      11   5/5/2022  12:00:00 AM W22-092017 CAT              DOMESTIC MH   \n",
       "692      63   5/9/2022  12:00:00 AM W22-092100 DOG          WELSH CORGI PEM   \n",
       "2167     68  6/29/2022  12:00:00 AM W22-092774 DOG            WEST HIGHLAND   \n",
       "2175      6   6/1/2022  12:00:00 AM W22-092780 DOG            GERM WH POINT   \n",
       "\n",
       "     Secondary Breed ZIP Code Senior  \n",
       "412                     92648         \n",
       "500                     92870         \n",
       "692                     92807         \n",
       "2167                    92675         \n",
       "2175                    92679         "
      ]
     },
     "execution_count": 340,
     "metadata": {},
     "output_type": "execute_result"
    }
   ],
   "source": [
    "# Let's look at the blank species\n",
    "license_data[(license_data['Species']!= 'DOG') & (license_data['Species']!= 'CAT')].head()"
   ]
  },
  {
   "cell_type": "code",
   "execution_count": 315,
   "metadata": {},
   "outputs": [
    {
     "data": {
      "text/plain": [
       "['5/3/2022', '12:00:00', 'AM', 'W22-091933', 'DOG']"
      ]
     },
     "execution_count": 315,
     "metadata": {},
     "output_type": "execute_result"
    }
   ],
   "source": [
    "license_data.loc[412,'dttmlic'].split()"
   ]
  },
  {
   "cell_type": "code",
   "execution_count": 341,
   "metadata": {},
   "outputs": [
    {
     "data": {
      "text/html": [
       "<div>\n",
       "<style scoped>\n",
       "    .dataframe tbody tr th:only-of-type {\n",
       "        vertical-align: middle;\n",
       "    }\n",
       "\n",
       "    .dataframe tbody tr th {\n",
       "        vertical-align: top;\n",
       "    }\n",
       "\n",
       "    .dataframe thead th {\n",
       "        text-align: right;\n",
       "    }\n",
       "</style>\n",
       "<table border=\"1\" class=\"dataframe\">\n",
       "  <thead>\n",
       "    <tr style=\"text-align: right;\">\n",
       "      <th></th>\n",
       "      <th>index</th>\n",
       "      <th>dttmlic</th>\n",
       "      <th>Primary Breed</th>\n",
       "      <th>Secondary Breed</th>\n",
       "      <th>ZIP Code</th>\n",
       "      <th>Senior</th>\n",
       "    </tr>\n",
       "    <tr>\n",
       "      <th>Species</th>\n",
       "      <th></th>\n",
       "      <th></th>\n",
       "      <th></th>\n",
       "      <th></th>\n",
       "      <th></th>\n",
       "      <th></th>\n",
       "    </tr>\n",
       "  </thead>\n",
       "  <tbody>\n",
       "    <tr>\n",
       "      <th>CAT</th>\n",
       "      <td>66</td>\n",
       "      <td>66</td>\n",
       "      <td>66</td>\n",
       "      <td>66</td>\n",
       "      <td>66</td>\n",
       "      <td>66</td>\n",
       "    </tr>\n",
       "    <tr>\n",
       "      <th>DOG</th>\n",
       "      <td>7765</td>\n",
       "      <td>7765</td>\n",
       "      <td>7765</td>\n",
       "      <td>7765</td>\n",
       "      <td>7765</td>\n",
       "      <td>7765</td>\n",
       "    </tr>\n",
       "  </tbody>\n",
       "</table>\n",
       "</div>"
      ],
      "text/plain": [
       "         index  dttmlic  Primary Breed  Secondary Breed  ZIP Code  Senior\n",
       "Species                                                                  \n",
       "CAT         66       66             66               66        66      66\n",
       "DOG       7765     7765           7765             7765      7765    7765"
      ]
     },
     "execution_count": 341,
     "metadata": {},
     "output_type": "execute_result"
    }
   ],
   "source": [
    "# Camelot cannot properly parse those because the date time license and species are too close.\n",
    "# Split the 'dttmlic' and populate the Species\n",
    "fix_rows = license_data[(license_data['Species']!= 'DOG') & (license_data['Species']!= 'CAT')].index\n",
    "license_data.loc[fix_rows,'Species'] = (license_data[(license_data['Species']!= 'DOG') & (license_data['Species']!= 'CAT')]['dttmlic']).str.split(expand=True)[4]\n",
    "license_data.groupby('Species').count()"
   ]
  },
  {
   "cell_type": "markdown",
   "metadata": {},
   "source": [
    "### As a side note...\n",
    "\n",
    "Camelot provides a way to visualize the text/column parsing. This was used to extablish the columns prameter values"
   ]
  },
  {
   "cell_type": "code",
   "execution_count": null,
   "metadata": {},
   "outputs": [],
   "source": [
    "import matplotlib as mpl\n",
    "import matplotlib.pyplot as plt"
   ]
  },
  {
   "cell_type": "code",
   "execution_count": 285,
   "metadata": {},
   "outputs": [
    {
     "name": "stdout",
     "output_type": "stream",
     "text": [
      "Using matplotlib backend: QtAgg\n"
     ]
    }
   ],
   "source": [
    "%matplotlib\n",
    "# Don't use inline so you can zoom in on the plot in another window.\n",
    "fig = camelot.plot(Prob_tables[0], kind='text')\n",
    "fig.show()"
   ]
  },
  {
   "cell_type": "code",
   "execution_count": 342,
   "metadata": {},
   "outputs": [
    {
     "data": {
      "text/html": [
       "<div>\n",
       "<style scoped>\n",
       "    .dataframe tbody tr th:only-of-type {\n",
       "        vertical-align: middle;\n",
       "    }\n",
       "\n",
       "    .dataframe tbody tr th {\n",
       "        vertical-align: top;\n",
       "    }\n",
       "\n",
       "    .dataframe thead th {\n",
       "        text-align: right;\n",
       "    }\n",
       "</style>\n",
       "<table border=\"1\" class=\"dataframe\">\n",
       "  <thead>\n",
       "    <tr style=\"text-align: right;\">\n",
       "      <th></th>\n",
       "      <th>index</th>\n",
       "      <th>dttmlic</th>\n",
       "      <th>Primary Breed</th>\n",
       "      <th>Secondary Breed</th>\n",
       "      <th>ZIP Code</th>\n",
       "      <th>Senior</th>\n",
       "    </tr>\n",
       "    <tr>\n",
       "      <th>Species</th>\n",
       "      <th></th>\n",
       "      <th></th>\n",
       "      <th></th>\n",
       "      <th></th>\n",
       "      <th></th>\n",
       "      <th></th>\n",
       "    </tr>\n",
       "  </thead>\n",
       "  <tbody>\n",
       "    <tr>\n",
       "      <th>DOG</th>\n",
       "      <td>7765</td>\n",
       "      <td>7765</td>\n",
       "      <td>7765</td>\n",
       "      <td>7765</td>\n",
       "      <td>7765</td>\n",
       "      <td>7765</td>\n",
       "    </tr>\n",
       "  </tbody>\n",
       "</table>\n",
       "</div>"
      ],
      "text/plain": [
       "         index  dttmlic  Primary Breed  Secondary Breed  ZIP Code  Senior\n",
       "Species                                                                  \n",
       "DOG       7765     7765           7765             7765      7765    7765"
      ]
     },
     "execution_count": 342,
     "metadata": {},
     "output_type": "execute_result"
    }
   ],
   "source": [
    "# I only want Dog data\n",
    "drop_other_species = license_data[license_data['Species']!= 'DOG'].index\n",
    "license_data = license_data.drop(drop_other_species,axis=0)\n",
    "license_data.groupby('Species').count()"
   ]
  },
  {
   "cell_type": "code",
   "execution_count": 345,
   "metadata": {},
   "outputs": [],
   "source": [
    "# Drop duplicate index\n",
    "license_data.drop(columns=['index'],inplace=True)"
   ]
  },
  {
   "cell_type": "code",
   "execution_count": 346,
   "metadata": {},
   "outputs": [
    {
     "data": {
      "text/html": [
       "<div>\n",
       "<style scoped>\n",
       "    .dataframe tbody tr th:only-of-type {\n",
       "        vertical-align: middle;\n",
       "    }\n",
       "\n",
       "    .dataframe tbody tr th {\n",
       "        vertical-align: top;\n",
       "    }\n",
       "\n",
       "    .dataframe thead th {\n",
       "        text-align: right;\n",
       "    }\n",
       "</style>\n",
       "<table border=\"1\" class=\"dataframe\">\n",
       "  <thead>\n",
       "    <tr style=\"text-align: right;\">\n",
       "      <th></th>\n",
       "      <th>dttmlic</th>\n",
       "      <th>Species</th>\n",
       "      <th>Primary Breed</th>\n",
       "      <th>Secondary Breed</th>\n",
       "      <th>ZIP Code</th>\n",
       "      <th>Senior</th>\n",
       "      <th>Date</th>\n",
       "      <th>License Num</th>\n",
       "      <th>4</th>\n",
       "    </tr>\n",
       "  </thead>\n",
       "  <tbody>\n",
       "    <tr>\n",
       "      <th>0</th>\n",
       "      <td>5/9/2022  12:00:00 AM L22-599299</td>\n",
       "      <td>DOG</td>\n",
       "      <td>PIT BULL</td>\n",
       "      <td></td>\n",
       "      <td>92804</td>\n",
       "      <td>Senior</td>\n",
       "      <td>5/9/2022</td>\n",
       "      <td>L22-599299</td>\n",
       "      <td>None</td>\n",
       "    </tr>\n",
       "    <tr>\n",
       "      <th>1</th>\n",
       "      <td>5/18/2022  12:00:00 AM L22-468630</td>\n",
       "      <td>DOG</td>\n",
       "      <td>POMERANIAN</td>\n",
       "      <td></td>\n",
       "      <td>92805</td>\n",
       "      <td>Senior</td>\n",
       "      <td>5/18/2022</td>\n",
       "      <td>L22-468630</td>\n",
       "      <td>None</td>\n",
       "    </tr>\n",
       "    <tr>\n",
       "      <th>2</th>\n",
       "      <td>6/29/2022  12:00:00 AM L22-700236</td>\n",
       "      <td>DOG</td>\n",
       "      <td>POODLE MIN</td>\n",
       "      <td></td>\n",
       "      <td>92886</td>\n",
       "      <td>Senior</td>\n",
       "      <td>6/29/2022</td>\n",
       "      <td>L22-700236</td>\n",
       "      <td>None</td>\n",
       "    </tr>\n",
       "    <tr>\n",
       "      <th>3</th>\n",
       "      <td>5/19/2022  12:00:00 AM L22-564964</td>\n",
       "      <td>DOG</td>\n",
       "      <td>WELSH CORGI CAR</td>\n",
       "      <td>MIX</td>\n",
       "      <td>92808</td>\n",
       "      <td></td>\n",
       "      <td>5/19/2022</td>\n",
       "      <td>L22-564964</td>\n",
       "      <td>None</td>\n",
       "    </tr>\n",
       "    <tr>\n",
       "      <th>4</th>\n",
       "      <td>4/7/2022  12:00:00 AM L22-589065</td>\n",
       "      <td>DOG</td>\n",
       "      <td>MIX</td>\n",
       "      <td></td>\n",
       "      <td>90720</td>\n",
       "      <td>Senior</td>\n",
       "      <td>4/7/2022</td>\n",
       "      <td>L22-589065</td>\n",
       "      <td>None</td>\n",
       "    </tr>\n",
       "  </tbody>\n",
       "</table>\n",
       "</div>"
      ],
      "text/plain": [
       "                             dttmlic Species    Primary Breed Secondary Breed  \\\n",
       "0   5/9/2022  12:00:00 AM L22-599299     DOG         PIT BULL                   \n",
       "1  5/18/2022  12:00:00 AM L22-468630     DOG       POMERANIAN                   \n",
       "2  6/29/2022  12:00:00 AM L22-700236     DOG       POODLE MIN                   \n",
       "3  5/19/2022  12:00:00 AM L22-564964     DOG  WELSH CORGI CAR             MIX   \n",
       "4   4/7/2022  12:00:00 AM L22-589065     DOG              MIX                   \n",
       "\n",
       "  ZIP Code  Senior       Date License Num     4  \n",
       "0    92804  Senior   5/9/2022  L22-599299  None  \n",
       "1    92805  Senior  5/18/2022  L22-468630  None  \n",
       "2    92886  Senior  6/29/2022  L22-700236  None  \n",
       "3    92808          5/19/2022  L22-564964  None  \n",
       "4    90720  Senior   4/7/2022  L22-589065  None  "
      ]
     },
     "execution_count": 346,
     "metadata": {},
     "output_type": "execute_result"
    }
   ],
   "source": [
    "license_data = pd.concat([license_data,license_data.iloc[:,0].str.split(expand=True)],axis = 1)\n",
    "license_data = license_data.rename(columns={0:'Date',3:'License Num'})\n",
    "license_data.drop(columns=[1,2],inplace=True)\n",
    "license_data.head()"
   ]
  },
  {
   "cell_type": "code",
   "execution_count": 351,
   "metadata": {},
   "outputs": [],
   "source": [
    "license_data.drop(columns=[4],inplace=True)"
   ]
  },
  {
   "cell_type": "code",
   "execution_count": 352,
   "metadata": {},
   "outputs": [],
   "source": [
    "# Drop any rows with missing zip_code\n",
    "license_data.dropna(axis=0,subset=['ZIP Code'],inplace=True)\n"
   ]
  },
  {
   "cell_type": "code",
   "execution_count": 399,
   "metadata": {},
   "outputs": [],
   "source": [
    "license_data['Date']  = license_data['Date'].astype('datetime64')"
   ]
  },
  {
   "cell_type": "code",
   "execution_count": 416,
   "metadata": {},
   "outputs": [],
   "source": [
    "date_counts = license_data['Date'].value_counts()"
   ]
  },
  {
   "cell_type": "code",
   "execution_count": 418,
   "metadata": {},
   "outputs": [],
   "source": [
    "sorted_idx = date_counts.index.sort_values(ascending=False)"
   ]
  },
  {
   "cell_type": "code",
   "execution_count": 420,
   "metadata": {},
   "outputs": [
    {
     "data": {
      "text/plain": [
       "2022-06-30      6\n",
       "2022-06-29    134\n",
       "2022-06-28     81\n",
       "2022-06-27    136\n",
       "2022-06-26     50\n",
       "             ... \n",
       "2022-01-16      1\n",
       "2022-01-14      1\n",
       "2022-01-12      2\n",
       "2022-01-11      1\n",
       "2022-01-03      1\n",
       "Name: Date, Length: 134, dtype: int64"
      ]
     },
     "execution_count": 420,
     "metadata": {},
     "output_type": "execute_result"
    }
   ],
   "source": [
    "date_counts = date_counts.reindex(sorted_idx)\n",
    "date_counts"
   ]
  },
  {
   "cell_type": "code",
   "execution_count": 422,
   "metadata": {},
   "outputs": [
    {
     "data": {
      "text/plain": [
       "<AxesSubplot:>"
      ]
     },
     "execution_count": 422,
     "metadata": {},
     "output_type": "execute_result"
    }
   ],
   "source": [
    "date_counts.plot(kind='bar')"
   ]
  },
  {
   "cell_type": "markdown",
   "metadata": {},
   "source": [
    "### Use Census DP04 Housing Survey\n",
    "\n",
    "Use housing stats from the survey to compute:\n",
    "\n",
    "Percentage of households with dogs in ZCTAs. (Not exactly a percentage of **households** since one household can have multiple dogs, but the public data is not granular enough to determine it perfectly.)\n",
    "\n",
    "Then answer if percentages are correlated with tenure (rental, owner-occupied), medium home value, median rent, size of home (based on number of bedrooms)"
   ]
  },
  {
   "cell_type": "code",
   "execution_count": 359,
   "metadata": {},
   "outputs": [],
   "source": [
    "DP04_path = 'E:/UserLo/source/repos/learning/OC Dogs/'\n",
    "DP04file = 'ACSDP5Y2020.DP04_data_with_overlays_2022-07-06T151600.csv'\n",
    "\n",
    "DP04_df = pd.read_csv(DP04_path+DP04file)"
   ]
  },
  {
   "cell_type": "code",
   "execution_count": 54,
   "metadata": {},
   "outputs": [
    {
     "data": {
      "text/html": [
       "<div>\n",
       "<style scoped>\n",
       "    .dataframe tbody tr th:only-of-type {\n",
       "        vertical-align: middle;\n",
       "    }\n",
       "\n",
       "    .dataframe tbody tr th {\n",
       "        vertical-align: top;\n",
       "    }\n",
       "\n",
       "    .dataframe thead th {\n",
       "        text-align: right;\n",
       "    }\n",
       "</style>\n",
       "<table border=\"1\" class=\"dataframe\">\n",
       "  <thead>\n",
       "    <tr style=\"text-align: right;\">\n",
       "      <th></th>\n",
       "      <th>DP04_0001E</th>\n",
       "      <th>DP04_0001M</th>\n",
       "      <th>DP04_0001PE</th>\n",
       "      <th>DP04_0001PM</th>\n",
       "      <th>DP04_0002E</th>\n",
       "      <th>DP04_0002M</th>\n",
       "      <th>DP04_0002PE</th>\n",
       "      <th>DP04_0002PM</th>\n",
       "      <th>DP04_0003E</th>\n",
       "      <th>DP04_0003M</th>\n",
       "      <th>...</th>\n",
       "      <th>DP04_0142E</th>\n",
       "      <th>DP04_0142M</th>\n",
       "      <th>DP04_0142PE</th>\n",
       "      <th>DP04_0142PM</th>\n",
       "      <th>DP04_0143E</th>\n",
       "      <th>DP04_0143M</th>\n",
       "      <th>DP04_0143PE</th>\n",
       "      <th>DP04_0143PM</th>\n",
       "      <th>GEO_ID</th>\n",
       "      <th>NAME</th>\n",
       "    </tr>\n",
       "  </thead>\n",
       "  <tbody>\n",
       "    <tr>\n",
       "      <th>0</th>\n",
       "      <td>Estimate!!HOUSING OCCUPANCY!!Total housing units</td>\n",
       "      <td>Margin of Error!!HOUSING OCCUPANCY!!Total hous...</td>\n",
       "      <td>Percent!!HOUSING OCCUPANCY!!Total housing units</td>\n",
       "      <td>Percent Margin of Error!!HOUSING OCCUPANCY!!To...</td>\n",
       "      <td>Estimate!!HOUSING OCCUPANCY!!Total housing uni...</td>\n",
       "      <td>Margin of Error!!HOUSING OCCUPANCY!!Total hous...</td>\n",
       "      <td>Percent!!HOUSING OCCUPANCY!!Total housing unit...</td>\n",
       "      <td>Percent Margin of Error!!HOUSING OCCUPANCY!!To...</td>\n",
       "      <td>Estimate!!HOUSING OCCUPANCY!!Total housing uni...</td>\n",
       "      <td>Margin of Error!!HOUSING OCCUPANCY!!Total hous...</td>\n",
       "      <td>...</td>\n",
       "      <td>Estimate!!GROSS RENT AS A PERCENTAGE OF HOUSEH...</td>\n",
       "      <td>Margin of Error!!GROSS RENT AS A PERCENTAGE OF...</td>\n",
       "      <td>Percent!!GROSS RENT AS A PERCENTAGE OF HOUSEHO...</td>\n",
       "      <td>Percent Margin of Error!!GROSS RENT AS A PERCE...</td>\n",
       "      <td>Estimate!!GROSS RENT AS A PERCENTAGE OF HOUSEH...</td>\n",
       "      <td>Margin of Error!!GROSS RENT AS A PERCENTAGE OF...</td>\n",
       "      <td>Percent!!GROSS RENT AS A PERCENTAGE OF HOUSEHO...</td>\n",
       "      <td>Percent Margin of Error!!GROSS RENT AS A PERCE...</td>\n",
       "      <td>id</td>\n",
       "      <td>Geographic Area Name</td>\n",
       "    </tr>\n",
       "    <tr>\n",
       "      <th>1</th>\n",
       "      <td>13315</td>\n",
       "      <td>549</td>\n",
       "      <td>13315</td>\n",
       "      <td>(X)</td>\n",
       "      <td>12843</td>\n",
       "      <td>554</td>\n",
       "      <td>96.5</td>\n",
       "      <td>1.3</td>\n",
       "      <td>472</td>\n",
       "      <td>179</td>\n",
       "      <td>...</td>\n",
       "      <td>1553</td>\n",
       "      <td>331</td>\n",
       "      <td>47.4</td>\n",
       "      <td>7.1</td>\n",
       "      <td>228</td>\n",
       "      <td>89</td>\n",
       "      <td>(X)</td>\n",
       "      <td>(X)</td>\n",
       "      <td>8600000US90620</td>\n",
       "      <td>ZCTA5 90620</td>\n",
       "    </tr>\n",
       "    <tr>\n",
       "      <th>2</th>\n",
       "      <td>10709</td>\n",
       "      <td>488</td>\n",
       "      <td>10709</td>\n",
       "      <td>(X)</td>\n",
       "      <td>10224</td>\n",
       "      <td>522</td>\n",
       "      <td>95.5</td>\n",
       "      <td>1.8</td>\n",
       "      <td>485</td>\n",
       "      <td>194</td>\n",
       "      <td>...</td>\n",
       "      <td>2712</td>\n",
       "      <td>377</td>\n",
       "      <td>43.7</td>\n",
       "      <td>5.4</td>\n",
       "      <td>209</td>\n",
       "      <td>111</td>\n",
       "      <td>(X)</td>\n",
       "      <td>(X)</td>\n",
       "      <td>8600000US90621</td>\n",
       "      <td>ZCTA5 90621</td>\n",
       "    </tr>\n",
       "    <tr>\n",
       "      <th>3</th>\n",
       "      <td>5057</td>\n",
       "      <td>224</td>\n",
       "      <td>5057</td>\n",
       "      <td>(X)</td>\n",
       "      <td>4925</td>\n",
       "      <td>201</td>\n",
       "      <td>97.4</td>\n",
       "      <td>1.7</td>\n",
       "      <td>132</td>\n",
       "      <td>91</td>\n",
       "      <td>...</td>\n",
       "      <td>995</td>\n",
       "      <td>253</td>\n",
       "      <td>59.8</td>\n",
       "      <td>10.1</td>\n",
       "      <td>64</td>\n",
       "      <td>43</td>\n",
       "      <td>(X)</td>\n",
       "      <td>(X)</td>\n",
       "      <td>8600000US90623</td>\n",
       "      <td>ZCTA5 90623</td>\n",
       "    </tr>\n",
       "    <tr>\n",
       "      <th>4</th>\n",
       "      <td>16557</td>\n",
       "      <td>372</td>\n",
       "      <td>16557</td>\n",
       "      <td>(X)</td>\n",
       "      <td>15933</td>\n",
       "      <td>410</td>\n",
       "      <td>96.2</td>\n",
       "      <td>1.0</td>\n",
       "      <td>624</td>\n",
       "      <td>163</td>\n",
       "      <td>...</td>\n",
       "      <td>1940</td>\n",
       "      <td>306</td>\n",
       "      <td>43.3</td>\n",
       "      <td>5.8</td>\n",
       "      <td>442</td>\n",
       "      <td>266</td>\n",
       "      <td>(X)</td>\n",
       "      <td>(X)</td>\n",
       "      <td>8600000US90630</td>\n",
       "      <td>ZCTA5 90630</td>\n",
       "    </tr>\n",
       "  </tbody>\n",
       "</table>\n",
       "<p>5 rows × 574 columns</p>\n",
       "</div>"
      ],
      "text/plain": [
       "                                         DP04_0001E  \\\n",
       "0  Estimate!!HOUSING OCCUPANCY!!Total housing units   \n",
       "1                                             13315   \n",
       "2                                             10709   \n",
       "3                                              5057   \n",
       "4                                             16557   \n",
       "\n",
       "                                          DP04_0001M  \\\n",
       "0  Margin of Error!!HOUSING OCCUPANCY!!Total hous...   \n",
       "1                                                549   \n",
       "2                                                488   \n",
       "3                                                224   \n",
       "4                                                372   \n",
       "\n",
       "                                       DP04_0001PE  \\\n",
       "0  Percent!!HOUSING OCCUPANCY!!Total housing units   \n",
       "1                                            13315   \n",
       "2                                            10709   \n",
       "3                                             5057   \n",
       "4                                            16557   \n",
       "\n",
       "                                         DP04_0001PM  \\\n",
       "0  Percent Margin of Error!!HOUSING OCCUPANCY!!To...   \n",
       "1                                                (X)   \n",
       "2                                                (X)   \n",
       "3                                                (X)   \n",
       "4                                                (X)   \n",
       "\n",
       "                                          DP04_0002E  \\\n",
       "0  Estimate!!HOUSING OCCUPANCY!!Total housing uni...   \n",
       "1                                              12843   \n",
       "2                                              10224   \n",
       "3                                               4925   \n",
       "4                                              15933   \n",
       "\n",
       "                                          DP04_0002M  \\\n",
       "0  Margin of Error!!HOUSING OCCUPANCY!!Total hous...   \n",
       "1                                                554   \n",
       "2                                                522   \n",
       "3                                                201   \n",
       "4                                                410   \n",
       "\n",
       "                                         DP04_0002PE  \\\n",
       "0  Percent!!HOUSING OCCUPANCY!!Total housing unit...   \n",
       "1                                               96.5   \n",
       "2                                               95.5   \n",
       "3                                               97.4   \n",
       "4                                               96.2   \n",
       "\n",
       "                                         DP04_0002PM  \\\n",
       "0  Percent Margin of Error!!HOUSING OCCUPANCY!!To...   \n",
       "1                                                1.3   \n",
       "2                                                1.8   \n",
       "3                                                1.7   \n",
       "4                                                1.0   \n",
       "\n",
       "                                          DP04_0003E  \\\n",
       "0  Estimate!!HOUSING OCCUPANCY!!Total housing uni...   \n",
       "1                                                472   \n",
       "2                                                485   \n",
       "3                                                132   \n",
       "4                                                624   \n",
       "\n",
       "                                          DP04_0003M  ...  \\\n",
       "0  Margin of Error!!HOUSING OCCUPANCY!!Total hous...  ...   \n",
       "1                                                179  ...   \n",
       "2                                                194  ...   \n",
       "3                                                 91  ...   \n",
       "4                                                163  ...   \n",
       "\n",
       "                                          DP04_0142E  \\\n",
       "0  Estimate!!GROSS RENT AS A PERCENTAGE OF HOUSEH...   \n",
       "1                                               1553   \n",
       "2                                               2712   \n",
       "3                                                995   \n",
       "4                                               1940   \n",
       "\n",
       "                                          DP04_0142M  \\\n",
       "0  Margin of Error!!GROSS RENT AS A PERCENTAGE OF...   \n",
       "1                                                331   \n",
       "2                                                377   \n",
       "3                                                253   \n",
       "4                                                306   \n",
       "\n",
       "                                         DP04_0142PE  \\\n",
       "0  Percent!!GROSS RENT AS A PERCENTAGE OF HOUSEHO...   \n",
       "1                                               47.4   \n",
       "2                                               43.7   \n",
       "3                                               59.8   \n",
       "4                                               43.3   \n",
       "\n",
       "                                         DP04_0142PM  \\\n",
       "0  Percent Margin of Error!!GROSS RENT AS A PERCE...   \n",
       "1                                                7.1   \n",
       "2                                                5.4   \n",
       "3                                               10.1   \n",
       "4                                                5.8   \n",
       "\n",
       "                                          DP04_0143E  \\\n",
       "0  Estimate!!GROSS RENT AS A PERCENTAGE OF HOUSEH...   \n",
       "1                                                228   \n",
       "2                                                209   \n",
       "3                                                 64   \n",
       "4                                                442   \n",
       "\n",
       "                                          DP04_0143M  \\\n",
       "0  Margin of Error!!GROSS RENT AS A PERCENTAGE OF...   \n",
       "1                                                 89   \n",
       "2                                                111   \n",
       "3                                                 43   \n",
       "4                                                266   \n",
       "\n",
       "                                         DP04_0143PE  \\\n",
       "0  Percent!!GROSS RENT AS A PERCENTAGE OF HOUSEHO...   \n",
       "1                                                (X)   \n",
       "2                                                (X)   \n",
       "3                                                (X)   \n",
       "4                                                (X)   \n",
       "\n",
       "                                         DP04_0143PM          GEO_ID  \\\n",
       "0  Percent Margin of Error!!GROSS RENT AS A PERCE...              id   \n",
       "1                                                (X)  8600000US90620   \n",
       "2                                                (X)  8600000US90621   \n",
       "3                                                (X)  8600000US90623   \n",
       "4                                                (X)  8600000US90630   \n",
       "\n",
       "                   NAME  \n",
       "0  Geographic Area Name  \n",
       "1           ZCTA5 90620  \n",
       "2           ZCTA5 90621  \n",
       "3           ZCTA5 90623  \n",
       "4           ZCTA5 90630  \n",
       "\n",
       "[5 rows x 574 columns]"
      ]
     },
     "execution_count": 54,
     "metadata": {},
     "output_type": "execute_result"
    }
   ],
   "source": [
    "DP04_df.head()"
   ]
  },
  {
   "cell_type": "code",
   "execution_count": 360,
   "metadata": {},
   "outputs": [
    {
     "data": {
      "text/html": [
       "<div>\n",
       "<style scoped>\n",
       "    .dataframe tbody tr th:only-of-type {\n",
       "        vertical-align: middle;\n",
       "    }\n",
       "\n",
       "    .dataframe tbody tr th {\n",
       "        vertical-align: top;\n",
       "    }\n",
       "\n",
       "    .dataframe thead th {\n",
       "        text-align: right;\n",
       "    }\n",
       "</style>\n",
       "<table border=\"1\" class=\"dataframe\">\n",
       "  <thead>\n",
       "    <tr style=\"text-align: right;\">\n",
       "      <th></th>\n",
       "      <th>DP04_0001PE</th>\n",
       "      <th>DP04_0002E</th>\n",
       "      <th>DP04_0003E</th>\n",
       "      <th>DP04_0039PE</th>\n",
       "      <th>DP04_0040PE</th>\n",
       "      <th>DP04_0041PE</th>\n",
       "      <th>DP04_0042PE</th>\n",
       "      <th>DP04_0043PE</th>\n",
       "      <th>DP04_0044PE</th>\n",
       "      <th>DP04_0046PE</th>\n",
       "      <th>DP04_0047PE</th>\n",
       "      <th>DP04_0089E</th>\n",
       "      <th>DP04_0134E</th>\n",
       "      <th>GEO_ID</th>\n",
       "      <th>NAME</th>\n",
       "    </tr>\n",
       "  </thead>\n",
       "  <tbody>\n",
       "    <tr>\n",
       "      <th>0</th>\n",
       "      <td>Percent!!HOUSING OCCUPANCY!!Total housing units</td>\n",
       "      <td>Estimate!!HOUSING OCCUPANCY!!Total housing uni...</td>\n",
       "      <td>Estimate!!HOUSING OCCUPANCY!!Total housing uni...</td>\n",
       "      <td>Percent!!BEDROOMS!!Total housing units!!No bed...</td>\n",
       "      <td>Percent!!BEDROOMS!!Total housing units!!1 bedroom</td>\n",
       "      <td>Percent!!BEDROOMS!!Total housing units!!2 bedr...</td>\n",
       "      <td>Percent!!BEDROOMS!!Total housing units!!3 bedr...</td>\n",
       "      <td>Percent!!BEDROOMS!!Total housing units!!4 bedr...</td>\n",
       "      <td>Percent!!BEDROOMS!!Total housing units!!5 or m...</td>\n",
       "      <td>Percent!!HOUSING TENURE!!Occupied housing unit...</td>\n",
       "      <td>Percent!!HOUSING TENURE!!Occupied housing unit...</td>\n",
       "      <td>Estimate!!VALUE!!Owner-occupied units!!Median ...</td>\n",
       "      <td>Estimate!!GROSS RENT!!Occupied units paying re...</td>\n",
       "      <td>id</td>\n",
       "      <td>Geographic Area Name</td>\n",
       "    </tr>\n",
       "    <tr>\n",
       "      <th>1</th>\n",
       "      <td>13315</td>\n",
       "      <td>12843</td>\n",
       "      <td>472</td>\n",
       "      <td>1.6</td>\n",
       "      <td>3.2</td>\n",
       "      <td>16.6</td>\n",
       "      <td>49.0</td>\n",
       "      <td>25.9</td>\n",
       "      <td>3.7</td>\n",
       "      <td>72.7</td>\n",
       "      <td>27.3</td>\n",
       "      <td>607500</td>\n",
       "      <td>1892</td>\n",
       "      <td>8600000US90620</td>\n",
       "      <td>ZCTA5 90620</td>\n",
       "    </tr>\n",
       "    <tr>\n",
       "      <th>2</th>\n",
       "      <td>10709</td>\n",
       "      <td>10224</td>\n",
       "      <td>485</td>\n",
       "      <td>3.9</td>\n",
       "      <td>13.8</td>\n",
       "      <td>38.4</td>\n",
       "      <td>24.0</td>\n",
       "      <td>15.8</td>\n",
       "      <td>4.2</td>\n",
       "      <td>37.2</td>\n",
       "      <td>62.8</td>\n",
       "      <td>617100</td>\n",
       "      <td>1652</td>\n",
       "      <td>8600000US90621</td>\n",
       "      <td>ZCTA5 90621</td>\n",
       "    </tr>\n",
       "    <tr>\n",
       "      <th>3</th>\n",
       "      <td>5057</td>\n",
       "      <td>4925</td>\n",
       "      <td>132</td>\n",
       "      <td>1.5</td>\n",
       "      <td>8.2</td>\n",
       "      <td>18.7</td>\n",
       "      <td>26.3</td>\n",
       "      <td>36.2</td>\n",
       "      <td>9.1</td>\n",
       "      <td>64.9</td>\n",
       "      <td>35.1</td>\n",
       "      <td>688000</td>\n",
       "      <td>1854</td>\n",
       "      <td>8600000US90623</td>\n",
       "      <td>ZCTA5 90623</td>\n",
       "    </tr>\n",
       "    <tr>\n",
       "      <th>4</th>\n",
       "      <td>16557</td>\n",
       "      <td>15933</td>\n",
       "      <td>624</td>\n",
       "      <td>0.6</td>\n",
       "      <td>6.2</td>\n",
       "      <td>19.2</td>\n",
       "      <td>36.9</td>\n",
       "      <td>29.8</td>\n",
       "      <td>7.3</td>\n",
       "      <td>69.1</td>\n",
       "      <td>30.9</td>\n",
       "      <td>664700</td>\n",
       "      <td>1969</td>\n",
       "      <td>8600000US90630</td>\n",
       "      <td>ZCTA5 90630</td>\n",
       "    </tr>\n",
       "  </tbody>\n",
       "</table>\n",
       "</div>"
      ],
      "text/plain": [
       "                                       DP04_0001PE  \\\n",
       "0  Percent!!HOUSING OCCUPANCY!!Total housing units   \n",
       "1                                            13315   \n",
       "2                                            10709   \n",
       "3                                             5057   \n",
       "4                                            16557   \n",
       "\n",
       "                                          DP04_0002E  \\\n",
       "0  Estimate!!HOUSING OCCUPANCY!!Total housing uni...   \n",
       "1                                              12843   \n",
       "2                                              10224   \n",
       "3                                               4925   \n",
       "4                                              15933   \n",
       "\n",
       "                                          DP04_0003E  \\\n",
       "0  Estimate!!HOUSING OCCUPANCY!!Total housing uni...   \n",
       "1                                                472   \n",
       "2                                                485   \n",
       "3                                                132   \n",
       "4                                                624   \n",
       "\n",
       "                                         DP04_0039PE  \\\n",
       "0  Percent!!BEDROOMS!!Total housing units!!No bed...   \n",
       "1                                                1.6   \n",
       "2                                                3.9   \n",
       "3                                                1.5   \n",
       "4                                                0.6   \n",
       "\n",
       "                                         DP04_0040PE  \\\n",
       "0  Percent!!BEDROOMS!!Total housing units!!1 bedroom   \n",
       "1                                                3.2   \n",
       "2                                               13.8   \n",
       "3                                                8.2   \n",
       "4                                                6.2   \n",
       "\n",
       "                                         DP04_0041PE  \\\n",
       "0  Percent!!BEDROOMS!!Total housing units!!2 bedr...   \n",
       "1                                               16.6   \n",
       "2                                               38.4   \n",
       "3                                               18.7   \n",
       "4                                               19.2   \n",
       "\n",
       "                                         DP04_0042PE  \\\n",
       "0  Percent!!BEDROOMS!!Total housing units!!3 bedr...   \n",
       "1                                               49.0   \n",
       "2                                               24.0   \n",
       "3                                               26.3   \n",
       "4                                               36.9   \n",
       "\n",
       "                                         DP04_0043PE  \\\n",
       "0  Percent!!BEDROOMS!!Total housing units!!4 bedr...   \n",
       "1                                               25.9   \n",
       "2                                               15.8   \n",
       "3                                               36.2   \n",
       "4                                               29.8   \n",
       "\n",
       "                                         DP04_0044PE  \\\n",
       "0  Percent!!BEDROOMS!!Total housing units!!5 or m...   \n",
       "1                                                3.7   \n",
       "2                                                4.2   \n",
       "3                                                9.1   \n",
       "4                                                7.3   \n",
       "\n",
       "                                         DP04_0046PE  \\\n",
       "0  Percent!!HOUSING TENURE!!Occupied housing unit...   \n",
       "1                                               72.7   \n",
       "2                                               37.2   \n",
       "3                                               64.9   \n",
       "4                                               69.1   \n",
       "\n",
       "                                         DP04_0047PE  \\\n",
       "0  Percent!!HOUSING TENURE!!Occupied housing unit...   \n",
       "1                                               27.3   \n",
       "2                                               62.8   \n",
       "3                                               35.1   \n",
       "4                                               30.9   \n",
       "\n",
       "                                          DP04_0089E  \\\n",
       "0  Estimate!!VALUE!!Owner-occupied units!!Median ...   \n",
       "1                                             607500   \n",
       "2                                             617100   \n",
       "3                                             688000   \n",
       "4                                             664700   \n",
       "\n",
       "                                          DP04_0134E          GEO_ID  \\\n",
       "0  Estimate!!GROSS RENT!!Occupied units paying re...              id   \n",
       "1                                               1892  8600000US90620   \n",
       "2                                               1652  8600000US90621   \n",
       "3                                               1854  8600000US90623   \n",
       "4                                               1969  8600000US90630   \n",
       "\n",
       "                   NAME  \n",
       "0  Geographic Area Name  \n",
       "1           ZCTA5 90620  \n",
       "2           ZCTA5 90621  \n",
       "3           ZCTA5 90623  \n",
       "4           ZCTA5 90630  "
      ]
     },
     "execution_count": 360,
     "metadata": {},
     "output_type": "execute_result"
    }
   ],
   "source": [
    "# Get just the columns of interest\n",
    "DP04_select_df= DP04_df.loc[:,['DP04_0001PE',\n",
    "'DP04_0002E',\n",
    "'DP04_0003E',\n",
    "'DP04_0039PE',\n",
    "'DP04_0040PE',\n",
    "'DP04_0041PE',\n",
    "'DP04_0042PE',\n",
    "'DP04_0043PE',\n",
    "'DP04_0044PE',\n",
    "'DP04_0046PE',\n",
    "'DP04_0047PE',\n",
    "'DP04_0089E',\n",
    "'DP04_0134E',\n",
    "'GEO_ID','NAME']]\n",
    "\n",
    "DP04_select_df.head()\n"
   ]
  },
  {
   "cell_type": "code",
   "execution_count": 361,
   "metadata": {},
   "outputs": [
    {
     "data": {
      "text/html": [
       "<div>\n",
       "<style scoped>\n",
       "    .dataframe tbody tr th:only-of-type {\n",
       "        vertical-align: middle;\n",
       "    }\n",
       "\n",
       "    .dataframe tbody tr th {\n",
       "        vertical-align: top;\n",
       "    }\n",
       "\n",
       "    .dataframe thead th {\n",
       "        text-align: right;\n",
       "    }\n",
       "</style>\n",
       "<table border=\"1\" class=\"dataframe\">\n",
       "  <thead>\n",
       "    <tr style=\"text-align: right;\">\n",
       "      <th></th>\n",
       "      <th>DP04_0001PE</th>\n",
       "      <th>DP04_0002E</th>\n",
       "      <th>DP04_0003E</th>\n",
       "      <th>DP04_0039PE</th>\n",
       "      <th>DP04_0040PE</th>\n",
       "      <th>DP04_0041PE</th>\n",
       "      <th>DP04_0042PE</th>\n",
       "      <th>DP04_0043PE</th>\n",
       "      <th>DP04_0044PE</th>\n",
       "      <th>DP04_0046PE</th>\n",
       "      <th>DP04_0047PE</th>\n",
       "      <th>DP04_0089E</th>\n",
       "      <th>DP04_0134E</th>\n",
       "      <th>GEO_ID</th>\n",
       "      <th>NAME</th>\n",
       "    </tr>\n",
       "  </thead>\n",
       "  <tbody>\n",
       "    <tr>\n",
       "      <th>1</th>\n",
       "      <td>13315</td>\n",
       "      <td>12843</td>\n",
       "      <td>472</td>\n",
       "      <td>1.6</td>\n",
       "      <td>3.2</td>\n",
       "      <td>16.6</td>\n",
       "      <td>49.0</td>\n",
       "      <td>25.9</td>\n",
       "      <td>3.7</td>\n",
       "      <td>72.7</td>\n",
       "      <td>27.3</td>\n",
       "      <td>607500</td>\n",
       "      <td>1892</td>\n",
       "      <td>8600000US90620</td>\n",
       "      <td>ZCTA5 90620</td>\n",
       "    </tr>\n",
       "    <tr>\n",
       "      <th>2</th>\n",
       "      <td>10709</td>\n",
       "      <td>10224</td>\n",
       "      <td>485</td>\n",
       "      <td>3.9</td>\n",
       "      <td>13.8</td>\n",
       "      <td>38.4</td>\n",
       "      <td>24.0</td>\n",
       "      <td>15.8</td>\n",
       "      <td>4.2</td>\n",
       "      <td>37.2</td>\n",
       "      <td>62.8</td>\n",
       "      <td>617100</td>\n",
       "      <td>1652</td>\n",
       "      <td>8600000US90621</td>\n",
       "      <td>ZCTA5 90621</td>\n",
       "    </tr>\n",
       "    <tr>\n",
       "      <th>3</th>\n",
       "      <td>5057</td>\n",
       "      <td>4925</td>\n",
       "      <td>132</td>\n",
       "      <td>1.5</td>\n",
       "      <td>8.2</td>\n",
       "      <td>18.7</td>\n",
       "      <td>26.3</td>\n",
       "      <td>36.2</td>\n",
       "      <td>9.1</td>\n",
       "      <td>64.9</td>\n",
       "      <td>35.1</td>\n",
       "      <td>688000</td>\n",
       "      <td>1854</td>\n",
       "      <td>8600000US90623</td>\n",
       "      <td>ZCTA5 90623</td>\n",
       "    </tr>\n",
       "    <tr>\n",
       "      <th>4</th>\n",
       "      <td>16557</td>\n",
       "      <td>15933</td>\n",
       "      <td>624</td>\n",
       "      <td>0.6</td>\n",
       "      <td>6.2</td>\n",
       "      <td>19.2</td>\n",
       "      <td>36.9</td>\n",
       "      <td>29.8</td>\n",
       "      <td>7.3</td>\n",
       "      <td>69.1</td>\n",
       "      <td>30.9</td>\n",
       "      <td>664700</td>\n",
       "      <td>1969</td>\n",
       "      <td>8600000US90630</td>\n",
       "      <td>ZCTA5 90630</td>\n",
       "    </tr>\n",
       "    <tr>\n",
       "      <th>5</th>\n",
       "      <td>22251</td>\n",
       "      <td>21548</td>\n",
       "      <td>703</td>\n",
       "      <td>2.5</td>\n",
       "      <td>11.2</td>\n",
       "      <td>30.1</td>\n",
       "      <td>33.0</td>\n",
       "      <td>17.7</td>\n",
       "      <td>5.5</td>\n",
       "      <td>60.8</td>\n",
       "      <td>39.2</td>\n",
       "      <td>607300</td>\n",
       "      <td>1649</td>\n",
       "      <td>8600000US90631</td>\n",
       "      <td>ZCTA5 90631</td>\n",
       "    </tr>\n",
       "  </tbody>\n",
       "</table>\n",
       "</div>"
      ],
      "text/plain": [
       "  DP04_0001PE DP04_0002E DP04_0003E DP04_0039PE DP04_0040PE DP04_0041PE  \\\n",
       "1       13315      12843        472         1.6         3.2        16.6   \n",
       "2       10709      10224        485         3.9        13.8        38.4   \n",
       "3        5057       4925        132         1.5         8.2        18.7   \n",
       "4       16557      15933        624         0.6         6.2        19.2   \n",
       "5       22251      21548        703         2.5        11.2        30.1   \n",
       "\n",
       "  DP04_0042PE DP04_0043PE DP04_0044PE DP04_0046PE DP04_0047PE DP04_0089E  \\\n",
       "1        49.0        25.9         3.7        72.7        27.3     607500   \n",
       "2        24.0        15.8         4.2        37.2        62.8     617100   \n",
       "3        26.3        36.2         9.1        64.9        35.1     688000   \n",
       "4        36.9        29.8         7.3        69.1        30.9     664700   \n",
       "5        33.0        17.7         5.5        60.8        39.2     607300   \n",
       "\n",
       "  DP04_0134E          GEO_ID         NAME  \n",
       "1       1892  8600000US90620  ZCTA5 90620  \n",
       "2       1652  8600000US90621  ZCTA5 90621  \n",
       "3       1854  8600000US90623  ZCTA5 90623  \n",
       "4       1969  8600000US90630  ZCTA5 90630  \n",
       "5       1649  8600000US90631  ZCTA5 90631  "
      ]
     },
     "execution_count": 361,
     "metadata": {},
     "output_type": "execute_result"
    }
   ],
   "source": [
    "# Drop metadata row 0\n",
    "DP04_select_df.drop(index=0,inplace=True)\n",
    "DP04_select_df.head()"
   ]
  },
  {
   "cell_type": "code",
   "execution_count": 362,
   "metadata": {},
   "outputs": [],
   "source": [
    "# The built-in str.isnumeric() returns False for floating point, so use a custom function\n",
    "def is_number(n):\n",
    "    try:\n",
    "        float(n)   # Type-casting the string to `float`.\n",
    "                   # If string is not a valid `float`, \n",
    "                   # it'll raise `ValueError` exception\n",
    "    except ValueError:\n",
    "        return False\n",
    "    return True"
   ]
  },
  {
   "cell_type": "code",
   "execution_count": 363,
   "metadata": {},
   "outputs": [],
   "source": [
    "# Find any non-numeric values in the columns that will be converted to numeric\n",
    "numcheck = ~DP04_select_df.loc[:,['DP04_0001PE',\n",
    "'DP04_0002E',\n",
    "'DP04_0003E',\n",
    "'DP04_0039PE',\n",
    "'DP04_0040PE',\n",
    "'DP04_0041PE',\n",
    "'DP04_0042PE',\n",
    "'DP04_0043PE',\n",
    "'DP04_0044PE',\n",
    "'DP04_0046PE',\n",
    "'DP04_0047PE',\n",
    "'DP04_0089E',\n",
    "'DP04_0134E']].applymap(is_number).all(axis=1)\n"
   ]
  },
  {
   "cell_type": "code",
   "execution_count": 364,
   "metadata": {},
   "outputs": [
    {
     "data": {
      "text/html": [
       "<div>\n",
       "<style scoped>\n",
       "    .dataframe tbody tr th:only-of-type {\n",
       "        vertical-align: middle;\n",
       "    }\n",
       "\n",
       "    .dataframe tbody tr th {\n",
       "        vertical-align: top;\n",
       "    }\n",
       "\n",
       "    .dataframe thead th {\n",
       "        text-align: right;\n",
       "    }\n",
       "</style>\n",
       "<table border=\"1\" class=\"dataframe\">\n",
       "  <thead>\n",
       "    <tr style=\"text-align: right;\">\n",
       "      <th></th>\n",
       "      <th>DP04_0001PE</th>\n",
       "      <th>DP04_0002E</th>\n",
       "      <th>DP04_0003E</th>\n",
       "      <th>DP04_0039PE</th>\n",
       "      <th>DP04_0040PE</th>\n",
       "      <th>DP04_0041PE</th>\n",
       "      <th>DP04_0042PE</th>\n",
       "      <th>DP04_0043PE</th>\n",
       "      <th>DP04_0044PE</th>\n",
       "      <th>DP04_0046PE</th>\n",
       "      <th>DP04_0047PE</th>\n",
       "      <th>DP04_0089E</th>\n",
       "      <th>DP04_0134E</th>\n",
       "      <th>GEO_ID</th>\n",
       "      <th>NAME</th>\n",
       "    </tr>\n",
       "  </thead>\n",
       "  <tbody>\n",
       "    <tr>\n",
       "      <th>12</th>\n",
       "      <td>262</td>\n",
       "      <td>120</td>\n",
       "      <td>142</td>\n",
       "      <td>5.3</td>\n",
       "      <td>3.8</td>\n",
       "      <td>27.9</td>\n",
       "      <td>40.5</td>\n",
       "      <td>18.7</td>\n",
       "      <td>3.8</td>\n",
       "      <td>67.5</td>\n",
       "      <td>32.5</td>\n",
       "      <td>2,000,000+</td>\n",
       "      <td>-</td>\n",
       "      <td>8600000US90743</td>\n",
       "      <td>ZCTA5 90743</td>\n",
       "    </tr>\n",
       "    <tr>\n",
       "      <th>27</th>\n",
       "      <td>6819</td>\n",
       "      <td>5895</td>\n",
       "      <td>924</td>\n",
       "      <td>3.2</td>\n",
       "      <td>7.3</td>\n",
       "      <td>24.4</td>\n",
       "      <td>34.7</td>\n",
       "      <td>21.0</td>\n",
       "      <td>9.4</td>\n",
       "      <td>66.4</td>\n",
       "      <td>33.6</td>\n",
       "      <td>2,000,000+</td>\n",
       "      <td>3092</td>\n",
       "      <td>8600000US92625</td>\n",
       "      <td>ZCTA5 92625</td>\n",
       "    </tr>\n",
       "    <tr>\n",
       "      <th>41</th>\n",
       "      <td>4152</td>\n",
       "      <td>3689</td>\n",
       "      <td>463</td>\n",
       "      <td>0.0</td>\n",
       "      <td>4.8</td>\n",
       "      <td>16.8</td>\n",
       "      <td>23.4</td>\n",
       "      <td>29.8</td>\n",
       "      <td>25.2</td>\n",
       "      <td>80.2</td>\n",
       "      <td>19.8</td>\n",
       "      <td>2,000,000+</td>\n",
       "      <td>2660</td>\n",
       "      <td>8600000US92657</td>\n",
       "      <td>ZCTA5 92657</td>\n",
       "    </tr>\n",
       "    <tr>\n",
       "      <th>43</th>\n",
       "      <td>2798</td>\n",
       "      <td>1827</td>\n",
       "      <td>971</td>\n",
       "      <td>2.3</td>\n",
       "      <td>7.1</td>\n",
       "      <td>39.2</td>\n",
       "      <td>22.9</td>\n",
       "      <td>18.2</td>\n",
       "      <td>10.3</td>\n",
       "      <td>39.4</td>\n",
       "      <td>60.6</td>\n",
       "      <td>2,000,000+</td>\n",
       "      <td>2282</td>\n",
       "      <td>8600000US92661</td>\n",
       "      <td>ZCTA5 92661</td>\n",
       "    </tr>\n",
       "    <tr>\n",
       "      <th>44</th>\n",
       "      <td>1981</td>\n",
       "      <td>1297</td>\n",
       "      <td>684</td>\n",
       "      <td>2.7</td>\n",
       "      <td>8.1</td>\n",
       "      <td>27.4</td>\n",
       "      <td>40.3</td>\n",
       "      <td>18.6</td>\n",
       "      <td>2.9</td>\n",
       "      <td>59.1</td>\n",
       "      <td>40.9</td>\n",
       "      <td>2,000,000+</td>\n",
       "      <td>2141</td>\n",
       "      <td>8600000US92662</td>\n",
       "      <td>ZCTA5 92662</td>\n",
       "    </tr>\n",
       "    <tr>\n",
       "      <th>85</th>\n",
       "      <td>2046</td>\n",
       "      <td>1972</td>\n",
       "      <td>74</td>\n",
       "      <td>0.0</td>\n",
       "      <td>1.1</td>\n",
       "      <td>0.9</td>\n",
       "      <td>15.8</td>\n",
       "      <td>50.3</td>\n",
       "      <td>31.9</td>\n",
       "      <td>94.5</td>\n",
       "      <td>5.5</td>\n",
       "      <td>1239600</td>\n",
       "      <td>-</td>\n",
       "      <td>8600000US92861</td>\n",
       "      <td>ZCTA5 92861</td>\n",
       "    </tr>\n",
       "  </tbody>\n",
       "</table>\n",
       "</div>"
      ],
      "text/plain": [
       "   DP04_0001PE DP04_0002E DP04_0003E DP04_0039PE DP04_0040PE DP04_0041PE  \\\n",
       "12         262        120        142         5.3         3.8        27.9   \n",
       "27        6819       5895        924         3.2         7.3        24.4   \n",
       "41        4152       3689        463         0.0         4.8        16.8   \n",
       "43        2798       1827        971         2.3         7.1        39.2   \n",
       "44        1981       1297        684         2.7         8.1        27.4   \n",
       "85        2046       1972         74         0.0         1.1         0.9   \n",
       "\n",
       "   DP04_0042PE DP04_0043PE DP04_0044PE DP04_0046PE DP04_0047PE  DP04_0089E  \\\n",
       "12        40.5        18.7         3.8        67.5        32.5  2,000,000+   \n",
       "27        34.7        21.0         9.4        66.4        33.6  2,000,000+   \n",
       "41        23.4        29.8        25.2        80.2        19.8  2,000,000+   \n",
       "43        22.9        18.2        10.3        39.4        60.6  2,000,000+   \n",
       "44        40.3        18.6         2.9        59.1        40.9  2,000,000+   \n",
       "85        15.8        50.3        31.9        94.5         5.5     1239600   \n",
       "\n",
       "   DP04_0134E          GEO_ID         NAME  \n",
       "12          -  8600000US90743  ZCTA5 90743  \n",
       "27       3092  8600000US92625  ZCTA5 92625  \n",
       "41       2660  8600000US92657  ZCTA5 92657  \n",
       "43       2282  8600000US92661  ZCTA5 92661  \n",
       "44       2141  8600000US92662  ZCTA5 92662  \n",
       "85          -  8600000US92861  ZCTA5 92861  "
      ]
     },
     "execution_count": 364,
     "metadata": {},
     "output_type": "execute_result"
    }
   ],
   "source": [
    "DP04_select_df[numcheck]"
   ]
  },
  {
   "cell_type": "code",
   "execution_count": 365,
   "metadata": {},
   "outputs": [],
   "source": [
    "# Two rent values are missing. Replace them with mean of the values that are provided\n",
    "mean_rent = DP04_select_df[DP04_select_df['DP04_0134E'].map(is_number)]['DP04_0134E'].astype('float64').mean()\n",
    "DP04_select_df = DP04_select_df.replace(to_replace={'DP04_0134E':'-'},  value=mean_rent)"
   ]
  },
  {
   "cell_type": "code",
   "execution_count": 366,
   "metadata": {},
   "outputs": [],
   "source": [
    "# There are a few non-numeric home values for those $2M or more.\n",
    "# Just replace '2,000,000+' with '2000000' so it can be converted to numeric type\n",
    "DP04_select_df = DP04_select_df.replace(to_replace={'DP04_0089E':'2,000,000+'},  value='2000000')"
   ]
  },
  {
   "cell_type": "code",
   "execution_count": 367,
   "metadata": {},
   "outputs": [
    {
     "data": {
      "text/plain": [
       "DP04_0001PE    float64\n",
       "DP04_0002E     float64\n",
       "DP04_0003E     float64\n",
       "DP04_0039PE    float64\n",
       "DP04_0040PE    float64\n",
       "DP04_0041PE    float64\n",
       "DP04_0042PE    float64\n",
       "DP04_0043PE    float64\n",
       "DP04_0044PE    float64\n",
       "DP04_0046PE    float64\n",
       "DP04_0047PE    float64\n",
       "DP04_0089E     float64\n",
       "DP04_0134E     float64\n",
       "GEO_ID          object\n",
       "NAME            object\n",
       "dtype: object"
      ]
     },
     "execution_count": 367,
     "metadata": {},
     "output_type": "execute_result"
    }
   ],
   "source": [
    "# Convert numberical columns to numeric type\n",
    "DP04_select_df = DP04_select_df.astype({'DP04_0001PE':'float64',\n",
    "'DP04_0002E':'float64',\n",
    "'DP04_0003E':'float64',\n",
    "'DP04_0039PE':'float64',\n",
    "'DP04_0040PE':'float64',\n",
    "'DP04_0041PE':'float64',\n",
    "'DP04_0042PE':'float64',\n",
    "'DP04_0043PE':'float64',\n",
    "'DP04_0044PE':'float64',\n",
    "'DP04_0046PE':'float64',\n",
    "'DP04_0047PE':'float64',\n",
    "'DP04_0089E':'float64',\n",
    "'DP04_0134E':'float64'})\n",
    "\n",
    "DP04_select_df.dtypes"
   ]
  },
  {
   "cell_type": "code",
   "execution_count": 368,
   "metadata": {},
   "outputs": [],
   "source": [
    "# Get the ZCTA out of NAME\n",
    "DP04_select_df['ZCTA'] = DP04_select_df['NAME'].str[-5:]"
   ]
  },
  {
   "cell_type": "markdown",
   "metadata": {},
   "source": [
    "For each row in DP04_select, append count of dogs in the ZCTA."
   ]
  },
  {
   "cell_type": "code",
   "execution_count": 369,
   "metadata": {},
   "outputs": [],
   "source": [
    "zip_size = license_data[['ZIP Code','License Num']].groupby(['ZIP Code']).count()"
   ]
  },
  {
   "cell_type": "code",
   "execution_count": 370,
   "metadata": {},
   "outputs": [
    {
     "data": {
      "text/html": [
       "<div>\n",
       "<style scoped>\n",
       "    .dataframe tbody tr th:only-of-type {\n",
       "        vertical-align: middle;\n",
       "    }\n",
       "\n",
       "    .dataframe tbody tr th {\n",
       "        vertical-align: top;\n",
       "    }\n",
       "\n",
       "    .dataframe thead th {\n",
       "        text-align: right;\n",
       "    }\n",
       "</style>\n",
       "<table border=\"1\" class=\"dataframe\">\n",
       "  <thead>\n",
       "    <tr style=\"text-align: right;\">\n",
       "      <th></th>\n",
       "      <th>License Num</th>\n",
       "    </tr>\n",
       "    <tr>\n",
       "      <th>ZIP Code</th>\n",
       "      <th></th>\n",
       "    </tr>\n",
       "  </thead>\n",
       "  <tbody>\n",
       "    <tr>\n",
       "      <th>90630</th>\n",
       "      <td>284</td>\n",
       "    </tr>\n",
       "    <tr>\n",
       "      <th>90720</th>\n",
       "      <td>109</td>\n",
       "    </tr>\n",
       "    <tr>\n",
       "      <th>90742</th>\n",
       "      <td>5</td>\n",
       "    </tr>\n",
       "    <tr>\n",
       "      <th>90747</th>\n",
       "      <td>1</td>\n",
       "    </tr>\n",
       "    <tr>\n",
       "      <th>92610</th>\n",
       "      <td>111</td>\n",
       "    </tr>\n",
       "    <tr>\n",
       "      <th>92627</th>\n",
       "      <td>3</td>\n",
       "    </tr>\n",
       "    <tr>\n",
       "      <th>92630</th>\n",
       "      <td>361</td>\n",
       "    </tr>\n",
       "    <tr>\n",
       "      <th>92646</th>\n",
       "      <td>461</td>\n",
       "    </tr>\n",
       "    <tr>\n",
       "      <th>92647</th>\n",
       "      <td>326</td>\n",
       "    </tr>\n",
       "    <tr>\n",
       "      <th>92648</th>\n",
       "      <td>245</td>\n",
       "    </tr>\n",
       "    <tr>\n",
       "      <th>92649</th>\n",
       "      <td>243</td>\n",
       "    </tr>\n",
       "    <tr>\n",
       "      <th>92651</th>\n",
       "      <td>3</td>\n",
       "    </tr>\n",
       "    <tr>\n",
       "      <th>92654</th>\n",
       "      <td>1</td>\n",
       "    </tr>\n",
       "    <tr>\n",
       "      <th>92655</th>\n",
       "      <td>15</td>\n",
       "    </tr>\n",
       "    <tr>\n",
       "      <th>92675</th>\n",
       "      <td>222</td>\n",
       "    </tr>\n",
       "    <tr>\n",
       "      <th>92676</th>\n",
       "      <td>15</td>\n",
       "    </tr>\n",
       "    <tr>\n",
       "      <th>92678</th>\n",
       "      <td>1</td>\n",
       "    </tr>\n",
       "    <tr>\n",
       "      <th>92679</th>\n",
       "      <td>189</td>\n",
       "    </tr>\n",
       "    <tr>\n",
       "      <th>92688</th>\n",
       "      <td>35</td>\n",
       "    </tr>\n",
       "    <tr>\n",
       "      <th>92691</th>\n",
       "      <td>4</td>\n",
       "    </tr>\n",
       "    <tr>\n",
       "      <th>92694</th>\n",
       "      <td>208</td>\n",
       "    </tr>\n",
       "    <tr>\n",
       "      <th>92701</th>\n",
       "      <td>4</td>\n",
       "    </tr>\n",
       "    <tr>\n",
       "      <th>92703</th>\n",
       "      <td>5</td>\n",
       "    </tr>\n",
       "    <tr>\n",
       "      <th>92704</th>\n",
       "      <td>4</td>\n",
       "    </tr>\n",
       "    <tr>\n",
       "      <th>92705</th>\n",
       "      <td>202</td>\n",
       "    </tr>\n",
       "    <tr>\n",
       "      <th>92706</th>\n",
       "      <td>4</td>\n",
       "    </tr>\n",
       "    <tr>\n",
       "      <th>92707</th>\n",
       "      <td>4</td>\n",
       "    </tr>\n",
       "    <tr>\n",
       "      <th>92708</th>\n",
       "      <td>290</td>\n",
       "    </tr>\n",
       "    <tr>\n",
       "      <th>92780</th>\n",
       "      <td>205</td>\n",
       "    </tr>\n",
       "    <tr>\n",
       "      <th>92781</th>\n",
       "      <td>1</td>\n",
       "    </tr>\n",
       "    <tr>\n",
       "      <th>92782</th>\n",
       "      <td>139</td>\n",
       "    </tr>\n",
       "    <tr>\n",
       "      <th>92801</th>\n",
       "      <td>193</td>\n",
       "    </tr>\n",
       "    <tr>\n",
       "      <th>92802</th>\n",
       "      <td>129</td>\n",
       "    </tr>\n",
       "    <tr>\n",
       "      <th>92804</th>\n",
       "      <td>302</td>\n",
       "    </tr>\n",
       "    <tr>\n",
       "      <th>92805</th>\n",
       "      <td>242</td>\n",
       "    </tr>\n",
       "    <tr>\n",
       "      <th>92806</th>\n",
       "      <td>157</td>\n",
       "    </tr>\n",
       "    <tr>\n",
       "      <th>92807</th>\n",
       "      <td>274</td>\n",
       "    </tr>\n",
       "    <tr>\n",
       "      <th>92808</th>\n",
       "      <td>142</td>\n",
       "    </tr>\n",
       "    <tr>\n",
       "      <th>92809</th>\n",
       "      <td>1</td>\n",
       "    </tr>\n",
       "    <tr>\n",
       "      <th>92821</th>\n",
       "      <td>247</td>\n",
       "    </tr>\n",
       "    <tr>\n",
       "      <th>92823</th>\n",
       "      <td>36</td>\n",
       "    </tr>\n",
       "    <tr>\n",
       "      <th>92831</th>\n",
       "      <td>152</td>\n",
       "    </tr>\n",
       "    <tr>\n",
       "      <th>92832</th>\n",
       "      <td>90</td>\n",
       "    </tr>\n",
       "    <tr>\n",
       "      <th>92833</th>\n",
       "      <td>220</td>\n",
       "    </tr>\n",
       "    <tr>\n",
       "      <th>92835</th>\n",
       "      <td>160</td>\n",
       "    </tr>\n",
       "    <tr>\n",
       "      <th>92861</th>\n",
       "      <td>63</td>\n",
       "    </tr>\n",
       "    <tr>\n",
       "      <th>92865</th>\n",
       "      <td>116</td>\n",
       "    </tr>\n",
       "    <tr>\n",
       "      <th>92866</th>\n",
       "      <td>73</td>\n",
       "    </tr>\n",
       "    <tr>\n",
       "      <th>92867</th>\n",
       "      <td>251</td>\n",
       "    </tr>\n",
       "    <tr>\n",
       "      <th>92868</th>\n",
       "      <td>107</td>\n",
       "    </tr>\n",
       "    <tr>\n",
       "      <th>92869</th>\n",
       "      <td>243</td>\n",
       "    </tr>\n",
       "    <tr>\n",
       "      <th>92870</th>\n",
       "      <td>340</td>\n",
       "    </tr>\n",
       "    <tr>\n",
       "      <th>92886</th>\n",
       "      <td>366</td>\n",
       "    </tr>\n",
       "    <tr>\n",
       "      <th>92887</th>\n",
       "      <td>161</td>\n",
       "    </tr>\n",
       "  </tbody>\n",
       "</table>\n",
       "</div>"
      ],
      "text/plain": [
       "          License Num\n",
       "ZIP Code             \n",
       "90630             284\n",
       "90720             109\n",
       "90742               5\n",
       "90747               1\n",
       "92610             111\n",
       "92627               3\n",
       "92630             361\n",
       "92646             461\n",
       "92647             326\n",
       "92648             245\n",
       "92649             243\n",
       "92651               3\n",
       "92654               1\n",
       "92655              15\n",
       "92675             222\n",
       "92676              15\n",
       "92678               1\n",
       "92679             189\n",
       "92688              35\n",
       "92691               4\n",
       "92694             208\n",
       "92701               4\n",
       "92703               5\n",
       "92704               4\n",
       "92705             202\n",
       "92706               4\n",
       "92707               4\n",
       "92708             290\n",
       "92780             205\n",
       "92781               1\n",
       "92782             139\n",
       "92801             193\n",
       "92802             129\n",
       "92804             302\n",
       "92805             242\n",
       "92806             157\n",
       "92807             274\n",
       "92808             142\n",
       "92809               1\n",
       "92821             247\n",
       "92823              36\n",
       "92831             152\n",
       "92832              90\n",
       "92833             220\n",
       "92835             160\n",
       "92861              63\n",
       "92865             116\n",
       "92866              73\n",
       "92867             251\n",
       "92868             107\n",
       "92869             243\n",
       "92870             340\n",
       "92886             366\n",
       "92887             161"
      ]
     },
     "execution_count": 370,
     "metadata": {},
     "output_type": "execute_result"
    }
   ],
   "source": [
    "zip_size"
   ]
  },
  {
   "cell_type": "code",
   "execution_count": 371,
   "metadata": {},
   "outputs": [
    {
     "data": {
      "text/html": [
       "<div>\n",
       "<style scoped>\n",
       "    .dataframe tbody tr th:only-of-type {\n",
       "        vertical-align: middle;\n",
       "    }\n",
       "\n",
       "    .dataframe tbody tr th {\n",
       "        vertical-align: top;\n",
       "    }\n",
       "\n",
       "    .dataframe thead th {\n",
       "        text-align: right;\n",
       "    }\n",
       "</style>\n",
       "<table border=\"1\" class=\"dataframe\">\n",
       "  <thead>\n",
       "    <tr style=\"text-align: right;\">\n",
       "      <th></th>\n",
       "      <th>DP04_0001PE</th>\n",
       "      <th>DP04_0002E</th>\n",
       "      <th>DP04_0003E</th>\n",
       "      <th>DP04_0039PE</th>\n",
       "      <th>DP04_0040PE</th>\n",
       "      <th>DP04_0041PE</th>\n",
       "      <th>DP04_0042PE</th>\n",
       "      <th>DP04_0043PE</th>\n",
       "      <th>DP04_0044PE</th>\n",
       "      <th>DP04_0046PE</th>\n",
       "      <th>DP04_0047PE</th>\n",
       "      <th>DP04_0089E</th>\n",
       "      <th>DP04_0134E</th>\n",
       "      <th>GEO_ID</th>\n",
       "      <th>NAME</th>\n",
       "      <th>ZCTA</th>\n",
       "      <th>Count</th>\n",
       "    </tr>\n",
       "  </thead>\n",
       "  <tbody>\n",
       "    <tr>\n",
       "      <th>4</th>\n",
       "      <td>16557.0</td>\n",
       "      <td>15933.0</td>\n",
       "      <td>624.0</td>\n",
       "      <td>0.6</td>\n",
       "      <td>6.2</td>\n",
       "      <td>19.2</td>\n",
       "      <td>36.9</td>\n",
       "      <td>29.8</td>\n",
       "      <td>7.3</td>\n",
       "      <td>69.1</td>\n",
       "      <td>30.9</td>\n",
       "      <td>664700.0</td>\n",
       "      <td>1969.0</td>\n",
       "      <td>8600000US90630</td>\n",
       "      <td>ZCTA5 90630</td>\n",
       "      <td>90630</td>\n",
       "      <td>284</td>\n",
       "    </tr>\n",
       "    <tr>\n",
       "      <th>9</th>\n",
       "      <td>8179.0</td>\n",
       "      <td>8029.0</td>\n",
       "      <td>150.0</td>\n",
       "      <td>0.9</td>\n",
       "      <td>3.0</td>\n",
       "      <td>22.4</td>\n",
       "      <td>41.8</td>\n",
       "      <td>27.6</td>\n",
       "      <td>4.3</td>\n",
       "      <td>66.6</td>\n",
       "      <td>33.4</td>\n",
       "      <td>925800.0</td>\n",
       "      <td>2040.0</td>\n",
       "      <td>8600000US90720</td>\n",
       "      <td>ZCTA5 90720</td>\n",
       "      <td>90720</td>\n",
       "      <td>109</td>\n",
       "    </tr>\n",
       "    <tr>\n",
       "      <th>11</th>\n",
       "      <td>530.0</td>\n",
       "      <td>357.0</td>\n",
       "      <td>173.0</td>\n",
       "      <td>6.2</td>\n",
       "      <td>17.0</td>\n",
       "      <td>36.0</td>\n",
       "      <td>25.1</td>\n",
       "      <td>8.7</td>\n",
       "      <td>7.0</td>\n",
       "      <td>38.4</td>\n",
       "      <td>61.6</td>\n",
       "      <td>1135400.0</td>\n",
       "      <td>1914.0</td>\n",
       "      <td>8600000US90742</td>\n",
       "      <td>ZCTA5 90742</td>\n",
       "      <td>90742</td>\n",
       "      <td>5</td>\n",
       "    </tr>\n",
       "    <tr>\n",
       "      <th>20</th>\n",
       "      <td>6113.0</td>\n",
       "      <td>5774.0</td>\n",
       "      <td>339.0</td>\n",
       "      <td>1.0</td>\n",
       "      <td>8.8</td>\n",
       "      <td>19.5</td>\n",
       "      <td>36.0</td>\n",
       "      <td>25.2</td>\n",
       "      <td>9.5</td>\n",
       "      <td>70.4</td>\n",
       "      <td>29.6</td>\n",
       "      <td>793300.0</td>\n",
       "      <td>2387.0</td>\n",
       "      <td>8600000US92610</td>\n",
       "      <td>ZCTA5 92610</td>\n",
       "      <td>92610</td>\n",
       "      <td>111</td>\n",
       "    </tr>\n",
       "    <tr>\n",
       "      <th>29</th>\n",
       "      <td>22508.0</td>\n",
       "      <td>21706.0</td>\n",
       "      <td>802.0</td>\n",
       "      <td>3.6</td>\n",
       "      <td>17.1</td>\n",
       "      <td>39.9</td>\n",
       "      <td>29.1</td>\n",
       "      <td>8.3</td>\n",
       "      <td>2.0</td>\n",
       "      <td>39.2</td>\n",
       "      <td>60.8</td>\n",
       "      <td>817100.0</td>\n",
       "      <td>1829.0</td>\n",
       "      <td>8600000US92627</td>\n",
       "      <td>ZCTA5 92627</td>\n",
       "      <td>92627</td>\n",
       "      <td>3</td>\n",
       "    </tr>\n",
       "  </tbody>\n",
       "</table>\n",
       "</div>"
      ],
      "text/plain": [
       "    DP04_0001PE  DP04_0002E  DP04_0003E  DP04_0039PE  DP04_0040PE  \\\n",
       "4       16557.0     15933.0       624.0          0.6          6.2   \n",
       "9        8179.0      8029.0       150.0          0.9          3.0   \n",
       "11        530.0       357.0       173.0          6.2         17.0   \n",
       "20       6113.0      5774.0       339.0          1.0          8.8   \n",
       "29      22508.0     21706.0       802.0          3.6         17.1   \n",
       "\n",
       "    DP04_0041PE  DP04_0042PE  DP04_0043PE  DP04_0044PE  DP04_0046PE  \\\n",
       "4          19.2         36.9         29.8          7.3         69.1   \n",
       "9          22.4         41.8         27.6          4.3         66.6   \n",
       "11         36.0         25.1          8.7          7.0         38.4   \n",
       "20         19.5         36.0         25.2          9.5         70.4   \n",
       "29         39.9         29.1          8.3          2.0         39.2   \n",
       "\n",
       "    DP04_0047PE  DP04_0089E  DP04_0134E          GEO_ID         NAME   ZCTA  \\\n",
       "4          30.9    664700.0      1969.0  8600000US90630  ZCTA5 90630  90630   \n",
       "9          33.4    925800.0      2040.0  8600000US90720  ZCTA5 90720  90720   \n",
       "11         61.6   1135400.0      1914.0  8600000US90742  ZCTA5 90742  90742   \n",
       "20         29.6    793300.0      2387.0  8600000US92610  ZCTA5 92610  92610   \n",
       "29         60.8    817100.0      1829.0  8600000US92627  ZCTA5 92627  92627   \n",
       "\n",
       "    Count  \n",
       "4     284  \n",
       "9     109  \n",
       "11      5  \n",
       "20    111  \n",
       "29      3  "
      ]
     },
     "execution_count": 371,
     "metadata": {},
     "output_type": "execute_result"
    }
   ],
   "source": [
    "# Join DP04_select_df and zip_size on the zip code\n",
    "DP04_select_df = DP04_select_df.merge(zip_size,how='inner',left_on='ZCTA',right_index=True)\n",
    "DP04_select_df = DP04_select_df.rename(columns={'License Num':'Count'})\n",
    "DP04_select_df.head()"
   ]
  },
  {
   "cell_type": "code",
   "execution_count": 372,
   "metadata": {},
   "outputs": [
    {
     "data": {
      "text/plain": [
       "DP04_0001PE    float64\n",
       "DP04_0002E     float64\n",
       "DP04_0003E     float64\n",
       "DP04_0039PE    float64\n",
       "DP04_0040PE    float64\n",
       "DP04_0041PE    float64\n",
       "DP04_0042PE    float64\n",
       "DP04_0043PE    float64\n",
       "DP04_0044PE    float64\n",
       "DP04_0046PE    float64\n",
       "DP04_0047PE    float64\n",
       "DP04_0089E     float64\n",
       "DP04_0134E     float64\n",
       "GEO_ID          object\n",
       "NAME            object\n",
       "ZCTA            object\n",
       "Count            int64\n",
       "dtype: object"
      ]
     },
     "execution_count": 372,
     "metadata": {},
     "output_type": "execute_result"
    }
   ],
   "source": [
    "DP04_select_df.dtypes"
   ]
  },
  {
   "cell_type": "code",
   "execution_count": 374,
   "metadata": {},
   "outputs": [
    {
     "data": {
      "text/html": [
       "<div>\n",
       "<style scoped>\n",
       "    .dataframe tbody tr th:only-of-type {\n",
       "        vertical-align: middle;\n",
       "    }\n",
       "\n",
       "    .dataframe tbody tr th {\n",
       "        vertical-align: top;\n",
       "    }\n",
       "\n",
       "    .dataframe thead th {\n",
       "        text-align: right;\n",
       "    }\n",
       "</style>\n",
       "<table border=\"1\" class=\"dataframe\">\n",
       "  <thead>\n",
       "    <tr style=\"text-align: right;\">\n",
       "      <th></th>\n",
       "      <th>DP04_0001PE</th>\n",
       "      <th>DP04_0002E</th>\n",
       "      <th>DP04_0003E</th>\n",
       "      <th>DP04_0039PE</th>\n",
       "      <th>DP04_0040PE</th>\n",
       "      <th>DP04_0041PE</th>\n",
       "      <th>DP04_0042PE</th>\n",
       "      <th>DP04_0043PE</th>\n",
       "      <th>DP04_0044PE</th>\n",
       "      <th>DP04_0046PE</th>\n",
       "      <th>DP04_0047PE</th>\n",
       "      <th>DP04_0089E</th>\n",
       "      <th>DP04_0134E</th>\n",
       "      <th>GEO_ID</th>\n",
       "      <th>NAME</th>\n",
       "      <th>ZCTA</th>\n",
       "      <th>Count</th>\n",
       "      <th>households_with_dog_pct</th>\n",
       "    </tr>\n",
       "  </thead>\n",
       "  <tbody>\n",
       "    <tr>\n",
       "      <th>4</th>\n",
       "      <td>16557.0</td>\n",
       "      <td>15933.0</td>\n",
       "      <td>624.0</td>\n",
       "      <td>0.6</td>\n",
       "      <td>6.2</td>\n",
       "      <td>19.2</td>\n",
       "      <td>36.9</td>\n",
       "      <td>29.8</td>\n",
       "      <td>7.3</td>\n",
       "      <td>69.1</td>\n",
       "      <td>30.9</td>\n",
       "      <td>664700.0</td>\n",
       "      <td>1969.0</td>\n",
       "      <td>8600000US90630</td>\n",
       "      <td>ZCTA5 90630</td>\n",
       "      <td>90630</td>\n",
       "      <td>284</td>\n",
       "      <td>1.782464</td>\n",
       "    </tr>\n",
       "    <tr>\n",
       "      <th>9</th>\n",
       "      <td>8179.0</td>\n",
       "      <td>8029.0</td>\n",
       "      <td>150.0</td>\n",
       "      <td>0.9</td>\n",
       "      <td>3.0</td>\n",
       "      <td>22.4</td>\n",
       "      <td>41.8</td>\n",
       "      <td>27.6</td>\n",
       "      <td>4.3</td>\n",
       "      <td>66.6</td>\n",
       "      <td>33.4</td>\n",
       "      <td>925800.0</td>\n",
       "      <td>2040.0</td>\n",
       "      <td>8600000US90720</td>\n",
       "      <td>ZCTA5 90720</td>\n",
       "      <td>90720</td>\n",
       "      <td>109</td>\n",
       "      <td>1.357579</td>\n",
       "    </tr>\n",
       "    <tr>\n",
       "      <th>11</th>\n",
       "      <td>530.0</td>\n",
       "      <td>357.0</td>\n",
       "      <td>173.0</td>\n",
       "      <td>6.2</td>\n",
       "      <td>17.0</td>\n",
       "      <td>36.0</td>\n",
       "      <td>25.1</td>\n",
       "      <td>8.7</td>\n",
       "      <td>7.0</td>\n",
       "      <td>38.4</td>\n",
       "      <td>61.6</td>\n",
       "      <td>1135400.0</td>\n",
       "      <td>1914.0</td>\n",
       "      <td>8600000US90742</td>\n",
       "      <td>ZCTA5 90742</td>\n",
       "      <td>90742</td>\n",
       "      <td>5</td>\n",
       "      <td>1.400560</td>\n",
       "    </tr>\n",
       "    <tr>\n",
       "      <th>20</th>\n",
       "      <td>6113.0</td>\n",
       "      <td>5774.0</td>\n",
       "      <td>339.0</td>\n",
       "      <td>1.0</td>\n",
       "      <td>8.8</td>\n",
       "      <td>19.5</td>\n",
       "      <td>36.0</td>\n",
       "      <td>25.2</td>\n",
       "      <td>9.5</td>\n",
       "      <td>70.4</td>\n",
       "      <td>29.6</td>\n",
       "      <td>793300.0</td>\n",
       "      <td>2387.0</td>\n",
       "      <td>8600000US92610</td>\n",
       "      <td>ZCTA5 92610</td>\n",
       "      <td>92610</td>\n",
       "      <td>111</td>\n",
       "      <td>1.922411</td>\n",
       "    </tr>\n",
       "    <tr>\n",
       "      <th>29</th>\n",
       "      <td>22508.0</td>\n",
       "      <td>21706.0</td>\n",
       "      <td>802.0</td>\n",
       "      <td>3.6</td>\n",
       "      <td>17.1</td>\n",
       "      <td>39.9</td>\n",
       "      <td>29.1</td>\n",
       "      <td>8.3</td>\n",
       "      <td>2.0</td>\n",
       "      <td>39.2</td>\n",
       "      <td>60.8</td>\n",
       "      <td>817100.0</td>\n",
       "      <td>1829.0</td>\n",
       "      <td>8600000US92627</td>\n",
       "      <td>ZCTA5 92627</td>\n",
       "      <td>92627</td>\n",
       "      <td>3</td>\n",
       "      <td>0.013821</td>\n",
       "    </tr>\n",
       "  </tbody>\n",
       "</table>\n",
       "</div>"
      ],
      "text/plain": [
       "    DP04_0001PE  DP04_0002E  DP04_0003E  DP04_0039PE  DP04_0040PE  \\\n",
       "4       16557.0     15933.0       624.0          0.6          6.2   \n",
       "9        8179.0      8029.0       150.0          0.9          3.0   \n",
       "11        530.0       357.0       173.0          6.2         17.0   \n",
       "20       6113.0      5774.0       339.0          1.0          8.8   \n",
       "29      22508.0     21706.0       802.0          3.6         17.1   \n",
       "\n",
       "    DP04_0041PE  DP04_0042PE  DP04_0043PE  DP04_0044PE  DP04_0046PE  \\\n",
       "4          19.2         36.9         29.8          7.3         69.1   \n",
       "9          22.4         41.8         27.6          4.3         66.6   \n",
       "11         36.0         25.1          8.7          7.0         38.4   \n",
       "20         19.5         36.0         25.2          9.5         70.4   \n",
       "29         39.9         29.1          8.3          2.0         39.2   \n",
       "\n",
       "    DP04_0047PE  DP04_0089E  DP04_0134E          GEO_ID         NAME   ZCTA  \\\n",
       "4          30.9    664700.0      1969.0  8600000US90630  ZCTA5 90630  90630   \n",
       "9          33.4    925800.0      2040.0  8600000US90720  ZCTA5 90720  90720   \n",
       "11         61.6   1135400.0      1914.0  8600000US90742  ZCTA5 90742  90742   \n",
       "20         29.6    793300.0      2387.0  8600000US92610  ZCTA5 92610  92610   \n",
       "29         60.8    817100.0      1829.0  8600000US92627  ZCTA5 92627  92627   \n",
       "\n",
       "    Count  households_with_dog_pct  \n",
       "4     284                 1.782464  \n",
       "9     109                 1.357579  \n",
       "11      5                 1.400560  \n",
       "20    111                 1.922411  \n",
       "29      3                 0.013821  "
      ]
     },
     "execution_count": 374,
     "metadata": {},
     "output_type": "execute_result"
    }
   ],
   "source": [
    "DP04_select_df['households_with_dog_pct'] = (DP04_select_df['Count']/DP04_select_df['DP04_0002E'])*100\n",
    "DP04_select_df.head()"
   ]
  },
  {
   "cell_type": "markdown",
   "metadata": {},
   "source": [
    "### Let's make some visualizations\n",
    "\n",
    "Compute percentage of households with dogs using Total Occupied Housing Units DP04_0002E.\n",
    "\n",
    "| Column ID        | Description           |\n",
    "| ------------- |:-------------:|\n",
    "| DP04_0046PE | Percent!!HOUSING TENURE!!Occupied housing units!!Owner-occupied |\n",
    "| DP04_0047PE | Percent!!HOUSING TENURE!!Occupied housing units!!Renter-occupied |\n",
    "| DP04_0089E | Estimate!!VALUE!!Owner-occupied units!!Median (dollars) |\n",
    "| DP04_0134E |\tEstimate!!GROSS RENT!!Occupied units paying rent!!Median (dollars) |\n",
    "| DP04_0039PE |\tPercent!!BEDROOMS!!Total housing units!!No bedroom |\n",
    "| DP04_0040PE |\tPercent!!BEDROOMS!!Total housing units!!1 bedroom |\n",
    "| DP04_0041PE |\tPercent!!BEDROOMS!!Total housing units!!2 bedrooms |\n",
    "| DP04_0042PE |\tPercent!!BEDROOMS!!Total housing units!!3 bedrooms |\n",
    "| DP04_0043PE |\tPercent!!BEDROOMS!!Total housing units!!4 bedrooms |\n",
    "| DP04_0044PE |\tPercent!!BEDROOMS!!Total housing units!!5 or more bedrooms |\n",
    "\n"
   ]
  },
  {
   "cell_type": "code",
   "execution_count": 375,
   "metadata": {},
   "outputs": [],
   "source": [
    "# Rename the columns of interest to match description\n",
    "DP04_select_df.rename(columns={'DP04_0046PE':'Pct Owner Occ','DP04_0047PE':'Pct Renter Occ','DP04_0089E':'Owner Occ Median Val',\n",
    "'DP04_0134E':'Median Rent','DP04_0039PE':'Pct No Bedroom','DP04_0040PE':'Pct 1 Bedroom','DP04_0041PE':'Pct 2 Bedrooms','DP04_0042PE':'Pct 3 Bedrooms',\n",
    "'DP04_0043PE':'Pct 4 Bedrooms','DP04_0044PE':'Pct 5+ Bedrooms'},inplace=True)"
   ]
  },
  {
   "cell_type": "code",
   "execution_count": 376,
   "metadata": {},
   "outputs": [
    {
     "data": {
      "text/html": [
       "<div>\n",
       "<style scoped>\n",
       "    .dataframe tbody tr th:only-of-type {\n",
       "        vertical-align: middle;\n",
       "    }\n",
       "\n",
       "    .dataframe tbody tr th {\n",
       "        vertical-align: top;\n",
       "    }\n",
       "\n",
       "    .dataframe thead th {\n",
       "        text-align: right;\n",
       "    }\n",
       "</style>\n",
       "<table border=\"1\" class=\"dataframe\">\n",
       "  <thead>\n",
       "    <tr style=\"text-align: right;\">\n",
       "      <th></th>\n",
       "      <th>DP04_0001PE</th>\n",
       "      <th>DP04_0002E</th>\n",
       "      <th>DP04_0003E</th>\n",
       "      <th>Pct No Bedroom</th>\n",
       "      <th>Pct 1 Bedroom</th>\n",
       "      <th>Pct 2 Bedrooms</th>\n",
       "      <th>Pct 3 Bedrooms</th>\n",
       "      <th>Pct 4 Bedrooms</th>\n",
       "      <th>Pct 5+ Bedrooms</th>\n",
       "      <th>Pct Owner Occ</th>\n",
       "      <th>Pct Renter Occ</th>\n",
       "      <th>Owner Occ Median Val</th>\n",
       "      <th>Median Rent</th>\n",
       "      <th>GEO_ID</th>\n",
       "      <th>NAME</th>\n",
       "      <th>ZCTA</th>\n",
       "      <th>Count</th>\n",
       "      <th>households_with_dog_pct</th>\n",
       "    </tr>\n",
       "  </thead>\n",
       "  <tbody>\n",
       "    <tr>\n",
       "      <th>4</th>\n",
       "      <td>16557.0</td>\n",
       "      <td>15933.0</td>\n",
       "      <td>624.0</td>\n",
       "      <td>0.6</td>\n",
       "      <td>6.2</td>\n",
       "      <td>19.2</td>\n",
       "      <td>36.9</td>\n",
       "      <td>29.8</td>\n",
       "      <td>7.3</td>\n",
       "      <td>69.1</td>\n",
       "      <td>30.9</td>\n",
       "      <td>664700.0</td>\n",
       "      <td>1969.0</td>\n",
       "      <td>8600000US90630</td>\n",
       "      <td>ZCTA5 90630</td>\n",
       "      <td>90630</td>\n",
       "      <td>284</td>\n",
       "      <td>1.782464</td>\n",
       "    </tr>\n",
       "    <tr>\n",
       "      <th>9</th>\n",
       "      <td>8179.0</td>\n",
       "      <td>8029.0</td>\n",
       "      <td>150.0</td>\n",
       "      <td>0.9</td>\n",
       "      <td>3.0</td>\n",
       "      <td>22.4</td>\n",
       "      <td>41.8</td>\n",
       "      <td>27.6</td>\n",
       "      <td>4.3</td>\n",
       "      <td>66.6</td>\n",
       "      <td>33.4</td>\n",
       "      <td>925800.0</td>\n",
       "      <td>2040.0</td>\n",
       "      <td>8600000US90720</td>\n",
       "      <td>ZCTA5 90720</td>\n",
       "      <td>90720</td>\n",
       "      <td>109</td>\n",
       "      <td>1.357579</td>\n",
       "    </tr>\n",
       "    <tr>\n",
       "      <th>11</th>\n",
       "      <td>530.0</td>\n",
       "      <td>357.0</td>\n",
       "      <td>173.0</td>\n",
       "      <td>6.2</td>\n",
       "      <td>17.0</td>\n",
       "      <td>36.0</td>\n",
       "      <td>25.1</td>\n",
       "      <td>8.7</td>\n",
       "      <td>7.0</td>\n",
       "      <td>38.4</td>\n",
       "      <td>61.6</td>\n",
       "      <td>1135400.0</td>\n",
       "      <td>1914.0</td>\n",
       "      <td>8600000US90742</td>\n",
       "      <td>ZCTA5 90742</td>\n",
       "      <td>90742</td>\n",
       "      <td>5</td>\n",
       "      <td>1.400560</td>\n",
       "    </tr>\n",
       "    <tr>\n",
       "      <th>20</th>\n",
       "      <td>6113.0</td>\n",
       "      <td>5774.0</td>\n",
       "      <td>339.0</td>\n",
       "      <td>1.0</td>\n",
       "      <td>8.8</td>\n",
       "      <td>19.5</td>\n",
       "      <td>36.0</td>\n",
       "      <td>25.2</td>\n",
       "      <td>9.5</td>\n",
       "      <td>70.4</td>\n",
       "      <td>29.6</td>\n",
       "      <td>793300.0</td>\n",
       "      <td>2387.0</td>\n",
       "      <td>8600000US92610</td>\n",
       "      <td>ZCTA5 92610</td>\n",
       "      <td>92610</td>\n",
       "      <td>111</td>\n",
       "      <td>1.922411</td>\n",
       "    </tr>\n",
       "    <tr>\n",
       "      <th>29</th>\n",
       "      <td>22508.0</td>\n",
       "      <td>21706.0</td>\n",
       "      <td>802.0</td>\n",
       "      <td>3.6</td>\n",
       "      <td>17.1</td>\n",
       "      <td>39.9</td>\n",
       "      <td>29.1</td>\n",
       "      <td>8.3</td>\n",
       "      <td>2.0</td>\n",
       "      <td>39.2</td>\n",
       "      <td>60.8</td>\n",
       "      <td>817100.0</td>\n",
       "      <td>1829.0</td>\n",
       "      <td>8600000US92627</td>\n",
       "      <td>ZCTA5 92627</td>\n",
       "      <td>92627</td>\n",
       "      <td>3</td>\n",
       "      <td>0.013821</td>\n",
       "    </tr>\n",
       "  </tbody>\n",
       "</table>\n",
       "</div>"
      ],
      "text/plain": [
       "    DP04_0001PE  DP04_0002E  DP04_0003E  Pct No Bedroom  Pct 1 Bedroom  \\\n",
       "4       16557.0     15933.0       624.0             0.6            6.2   \n",
       "9        8179.0      8029.0       150.0             0.9            3.0   \n",
       "11        530.0       357.0       173.0             6.2           17.0   \n",
       "20       6113.0      5774.0       339.0             1.0            8.8   \n",
       "29      22508.0     21706.0       802.0             3.6           17.1   \n",
       "\n",
       "    Pct 2 Bedrooms  Pct 3 Bedrooms  Pct 4 Bedrooms  Pct 5+ Bedrooms  \\\n",
       "4             19.2            36.9            29.8              7.3   \n",
       "9             22.4            41.8            27.6              4.3   \n",
       "11            36.0            25.1             8.7              7.0   \n",
       "20            19.5            36.0            25.2              9.5   \n",
       "29            39.9            29.1             8.3              2.0   \n",
       "\n",
       "    Pct Owner Occ  Pct Renter Occ  Owner Occ Median Val  Median Rent  \\\n",
       "4            69.1            30.9              664700.0       1969.0   \n",
       "9            66.6            33.4              925800.0       2040.0   \n",
       "11           38.4            61.6             1135400.0       1914.0   \n",
       "20           70.4            29.6              793300.0       2387.0   \n",
       "29           39.2            60.8              817100.0       1829.0   \n",
       "\n",
       "            GEO_ID         NAME   ZCTA  Count  households_with_dog_pct  \n",
       "4   8600000US90630  ZCTA5 90630  90630    284                 1.782464  \n",
       "9   8600000US90720  ZCTA5 90720  90720    109                 1.357579  \n",
       "11  8600000US90742  ZCTA5 90742  90742      5                 1.400560  \n",
       "20  8600000US92610  ZCTA5 92610  92610    111                 1.922411  \n",
       "29  8600000US92627  ZCTA5 92627  92627      3                 0.013821  "
      ]
     },
     "execution_count": 376,
     "metadata": {},
     "output_type": "execute_result"
    }
   ],
   "source": [
    "DP04_select_df.head()"
   ]
  },
  {
   "cell_type": "code",
   "execution_count": 377,
   "metadata": {},
   "outputs": [
    {
     "data": {
      "application/vnd.plotly.v1+json": {
       "config": {
        "plotlyServerURL": "https://plot.ly"
       },
       "data": [
        {
         "mode": "lines+markers",
         "name": "Pct Households with Dog",
         "type": "scatter",
         "x": [
          "90630",
          "90720",
          "90742",
          "92610",
          "92627",
          "92630",
          "92646",
          "92647",
          "92648",
          "92649",
          "92651",
          "92655",
          "92675",
          "92676",
          "92678",
          "92679",
          "92688",
          "92691",
          "92694",
          "92701",
          "92703",
          "92704",
          "92705",
          "92706",
          "92707",
          "92708",
          "92780",
          "92782",
          "92801",
          "92802",
          "92804",
          "92805",
          "92806",
          "92807",
          "92808",
          "92821",
          "92823",
          "92831",
          "92832",
          "92833",
          "92835",
          "92861",
          "92865",
          "92866",
          "92867",
          "92868",
          "92869",
          "92870",
          "92886",
          "92887"
         ],
         "xaxis": "x",
         "y": [
          1.7824640682859474,
          1.3575787769336156,
          1.400560224089636,
          1.9224108070661587,
          0.013821063300469916,
          1.7188020758939198,
          2.1157464775804304,
          1.5148698884758365,
          1.2624310815685063,
          1.668956043956044,
          0.028694404591104734,
          0.5966587112171837,
          1.633313713949382,
          1.9867549668874174,
          0.46728971962616817,
          1.7169331395348837,
          0.2244596934521901,
          0.0239477938094953,
          2.495800335973122,
          0.03003003003003003,
          0.03647505106507149,
          0.0196811651249754,
          1.3429065283871826,
          0.039300451955197484,
          0.02740289100500103,
          1.5619109172187213,
          1.0862078100990833,
          1.7099274203469061,
          1.0581140350877194,
          1.055905705164934,
          1.2191183594380752,
          1.2032617342879872,
          1.255899528037757,
          2.1990369181380416,
          1.7927029415477844,
          1.7767227737016258,
          2.25705329153605,
          1.2700534759358288,
          1.1313639220615965,
          1.3525144473134143,
          1.8306636155606408,
          3.194726166328601,
          1.7157225262535127,
          1.31697636658849,
          1.9406216174424,
          1.3544303797468353,
          2.141346492774057,
          2.0222446916076846,
          2.1967468939439407,
          2.3865994663504297
         ],
         "yaxis": "y"
        },
        {
         "mode": "lines+markers",
         "name": "Owner Occ Pct",
         "type": "scatter",
         "x": [
          "90630",
          "90720",
          "90742",
          "92610",
          "92627",
          "92630",
          "92646",
          "92647",
          "92648",
          "92649",
          "92651",
          "92655",
          "92675",
          "92676",
          "92678",
          "92679",
          "92688",
          "92691",
          "92694",
          "92701",
          "92703",
          "92704",
          "92705",
          "92706",
          "92707",
          "92708",
          "92780",
          "92782",
          "92801",
          "92802",
          "92804",
          "92805",
          "92806",
          "92807",
          "92808",
          "92821",
          "92823",
          "92831",
          "92832",
          "92833",
          "92835",
          "92861",
          "92865",
          "92866",
          "92867",
          "92868",
          "92869",
          "92870",
          "92886",
          "92887"
         ],
         "xaxis": "x",
         "y": [
          69.1,
          66.6,
          38.4,
          70.4,
          39.2,
          69.2,
          75.6,
          44.6,
          48.7,
          57.2,
          64.4,
          27.8,
          73.9,
          84.8,
          88.3,
          88.8,
          68.6,
          73.8,
          78.8,
          28.6,
          48.7,
          51.7,
          64.2,
          57.2,
          51.4,
          66.8,
          47.2,
          62.4,
          35.2,
          36,
          41.7,
          41.3,
          39.9,
          77.9,
          73.7,
          60.1,
          86.7,
          42.5,
          38.1,
          59.3,
          72.2,
          94.5,
          63.7,
          34.6,
          68.9,
          35.3,
          74.1,
          64.3,
          80.9,
          87.2
         ],
         "yaxis": "y2"
        }
       ],
       "layout": {
        "legend": {
         "title": {
          "text": "Demographics"
         }
        },
        "template": {
         "data": {
          "bar": [
           {
            "error_x": {
             "color": "#2a3f5f"
            },
            "error_y": {
             "color": "#2a3f5f"
            },
            "marker": {
             "line": {
              "color": "#E5ECF6",
              "width": 0.5
             },
             "pattern": {
              "fillmode": "overlay",
              "size": 10,
              "solidity": 0.2
             }
            },
            "type": "bar"
           }
          ],
          "barpolar": [
           {
            "marker": {
             "line": {
              "color": "#E5ECF6",
              "width": 0.5
             },
             "pattern": {
              "fillmode": "overlay",
              "size": 10,
              "solidity": 0.2
             }
            },
            "type": "barpolar"
           }
          ],
          "carpet": [
           {
            "aaxis": {
             "endlinecolor": "#2a3f5f",
             "gridcolor": "white",
             "linecolor": "white",
             "minorgridcolor": "white",
             "startlinecolor": "#2a3f5f"
            },
            "baxis": {
             "endlinecolor": "#2a3f5f",
             "gridcolor": "white",
             "linecolor": "white",
             "minorgridcolor": "white",
             "startlinecolor": "#2a3f5f"
            },
            "type": "carpet"
           }
          ],
          "choropleth": [
           {
            "colorbar": {
             "outlinewidth": 0,
             "ticks": ""
            },
            "type": "choropleth"
           }
          ],
          "contour": [
           {
            "colorbar": {
             "outlinewidth": 0,
             "ticks": ""
            },
            "colorscale": [
             [
              0,
              "#0d0887"
             ],
             [
              0.1111111111111111,
              "#46039f"
             ],
             [
              0.2222222222222222,
              "#7201a8"
             ],
             [
              0.3333333333333333,
              "#9c179e"
             ],
             [
              0.4444444444444444,
              "#bd3786"
             ],
             [
              0.5555555555555556,
              "#d8576b"
             ],
             [
              0.6666666666666666,
              "#ed7953"
             ],
             [
              0.7777777777777778,
              "#fb9f3a"
             ],
             [
              0.8888888888888888,
              "#fdca26"
             ],
             [
              1,
              "#f0f921"
             ]
            ],
            "type": "contour"
           }
          ],
          "contourcarpet": [
           {
            "colorbar": {
             "outlinewidth": 0,
             "ticks": ""
            },
            "type": "contourcarpet"
           }
          ],
          "heatmap": [
           {
            "colorbar": {
             "outlinewidth": 0,
             "ticks": ""
            },
            "colorscale": [
             [
              0,
              "#0d0887"
             ],
             [
              0.1111111111111111,
              "#46039f"
             ],
             [
              0.2222222222222222,
              "#7201a8"
             ],
             [
              0.3333333333333333,
              "#9c179e"
             ],
             [
              0.4444444444444444,
              "#bd3786"
             ],
             [
              0.5555555555555556,
              "#d8576b"
             ],
             [
              0.6666666666666666,
              "#ed7953"
             ],
             [
              0.7777777777777778,
              "#fb9f3a"
             ],
             [
              0.8888888888888888,
              "#fdca26"
             ],
             [
              1,
              "#f0f921"
             ]
            ],
            "type": "heatmap"
           }
          ],
          "heatmapgl": [
           {
            "colorbar": {
             "outlinewidth": 0,
             "ticks": ""
            },
            "colorscale": [
             [
              0,
              "#0d0887"
             ],
             [
              0.1111111111111111,
              "#46039f"
             ],
             [
              0.2222222222222222,
              "#7201a8"
             ],
             [
              0.3333333333333333,
              "#9c179e"
             ],
             [
              0.4444444444444444,
              "#bd3786"
             ],
             [
              0.5555555555555556,
              "#d8576b"
             ],
             [
              0.6666666666666666,
              "#ed7953"
             ],
             [
              0.7777777777777778,
              "#fb9f3a"
             ],
             [
              0.8888888888888888,
              "#fdca26"
             ],
             [
              1,
              "#f0f921"
             ]
            ],
            "type": "heatmapgl"
           }
          ],
          "histogram": [
           {
            "marker": {
             "pattern": {
              "fillmode": "overlay",
              "size": 10,
              "solidity": 0.2
             }
            },
            "type": "histogram"
           }
          ],
          "histogram2d": [
           {
            "colorbar": {
             "outlinewidth": 0,
             "ticks": ""
            },
            "colorscale": [
             [
              0,
              "#0d0887"
             ],
             [
              0.1111111111111111,
              "#46039f"
             ],
             [
              0.2222222222222222,
              "#7201a8"
             ],
             [
              0.3333333333333333,
              "#9c179e"
             ],
             [
              0.4444444444444444,
              "#bd3786"
             ],
             [
              0.5555555555555556,
              "#d8576b"
             ],
             [
              0.6666666666666666,
              "#ed7953"
             ],
             [
              0.7777777777777778,
              "#fb9f3a"
             ],
             [
              0.8888888888888888,
              "#fdca26"
             ],
             [
              1,
              "#f0f921"
             ]
            ],
            "type": "histogram2d"
           }
          ],
          "histogram2dcontour": [
           {
            "colorbar": {
             "outlinewidth": 0,
             "ticks": ""
            },
            "colorscale": [
             [
              0,
              "#0d0887"
             ],
             [
              0.1111111111111111,
              "#46039f"
             ],
             [
              0.2222222222222222,
              "#7201a8"
             ],
             [
              0.3333333333333333,
              "#9c179e"
             ],
             [
              0.4444444444444444,
              "#bd3786"
             ],
             [
              0.5555555555555556,
              "#d8576b"
             ],
             [
              0.6666666666666666,
              "#ed7953"
             ],
             [
              0.7777777777777778,
              "#fb9f3a"
             ],
             [
              0.8888888888888888,
              "#fdca26"
             ],
             [
              1,
              "#f0f921"
             ]
            ],
            "type": "histogram2dcontour"
           }
          ],
          "mesh3d": [
           {
            "colorbar": {
             "outlinewidth": 0,
             "ticks": ""
            },
            "type": "mesh3d"
           }
          ],
          "parcoords": [
           {
            "line": {
             "colorbar": {
              "outlinewidth": 0,
              "ticks": ""
             }
            },
            "type": "parcoords"
           }
          ],
          "pie": [
           {
            "automargin": true,
            "type": "pie"
           }
          ],
          "scatter": [
           {
            "fillpattern": {
             "fillmode": "overlay",
             "size": 10,
             "solidity": 0.2
            },
            "type": "scatter"
           }
          ],
          "scatter3d": [
           {
            "line": {
             "colorbar": {
              "outlinewidth": 0,
              "ticks": ""
             }
            },
            "marker": {
             "colorbar": {
              "outlinewidth": 0,
              "ticks": ""
             }
            },
            "type": "scatter3d"
           }
          ],
          "scattercarpet": [
           {
            "marker": {
             "colorbar": {
              "outlinewidth": 0,
              "ticks": ""
             }
            },
            "type": "scattercarpet"
           }
          ],
          "scattergeo": [
           {
            "marker": {
             "colorbar": {
              "outlinewidth": 0,
              "ticks": ""
             }
            },
            "type": "scattergeo"
           }
          ],
          "scattergl": [
           {
            "marker": {
             "colorbar": {
              "outlinewidth": 0,
              "ticks": ""
             }
            },
            "type": "scattergl"
           }
          ],
          "scattermapbox": [
           {
            "marker": {
             "colorbar": {
              "outlinewidth": 0,
              "ticks": ""
             }
            },
            "type": "scattermapbox"
           }
          ],
          "scatterpolar": [
           {
            "marker": {
             "colorbar": {
              "outlinewidth": 0,
              "ticks": ""
             }
            },
            "type": "scatterpolar"
           }
          ],
          "scatterpolargl": [
           {
            "marker": {
             "colorbar": {
              "outlinewidth": 0,
              "ticks": ""
             }
            },
            "type": "scatterpolargl"
           }
          ],
          "scatterternary": [
           {
            "marker": {
             "colorbar": {
              "outlinewidth": 0,
              "ticks": ""
             }
            },
            "type": "scatterternary"
           }
          ],
          "surface": [
           {
            "colorbar": {
             "outlinewidth": 0,
             "ticks": ""
            },
            "colorscale": [
             [
              0,
              "#0d0887"
             ],
             [
              0.1111111111111111,
              "#46039f"
             ],
             [
              0.2222222222222222,
              "#7201a8"
             ],
             [
              0.3333333333333333,
              "#9c179e"
             ],
             [
              0.4444444444444444,
              "#bd3786"
             ],
             [
              0.5555555555555556,
              "#d8576b"
             ],
             [
              0.6666666666666666,
              "#ed7953"
             ],
             [
              0.7777777777777778,
              "#fb9f3a"
             ],
             [
              0.8888888888888888,
              "#fdca26"
             ],
             [
              1,
              "#f0f921"
             ]
            ],
            "type": "surface"
           }
          ],
          "table": [
           {
            "cells": {
             "fill": {
              "color": "#EBF0F8"
             },
             "line": {
              "color": "white"
             }
            },
            "header": {
             "fill": {
              "color": "#C8D4E3"
             },
             "line": {
              "color": "white"
             }
            },
            "type": "table"
           }
          ]
         },
         "layout": {
          "annotationdefaults": {
           "arrowcolor": "#2a3f5f",
           "arrowhead": 0,
           "arrowwidth": 1
          },
          "autotypenumbers": "strict",
          "coloraxis": {
           "colorbar": {
            "outlinewidth": 0,
            "ticks": ""
           }
          },
          "colorscale": {
           "diverging": [
            [
             0,
             "#8e0152"
            ],
            [
             0.1,
             "#c51b7d"
            ],
            [
             0.2,
             "#de77ae"
            ],
            [
             0.3,
             "#f1b6da"
            ],
            [
             0.4,
             "#fde0ef"
            ],
            [
             0.5,
             "#f7f7f7"
            ],
            [
             0.6,
             "#e6f5d0"
            ],
            [
             0.7,
             "#b8e186"
            ],
            [
             0.8,
             "#7fbc41"
            ],
            [
             0.9,
             "#4d9221"
            ],
            [
             1,
             "#276419"
            ]
           ],
           "sequential": [
            [
             0,
             "#0d0887"
            ],
            [
             0.1111111111111111,
             "#46039f"
            ],
            [
             0.2222222222222222,
             "#7201a8"
            ],
            [
             0.3333333333333333,
             "#9c179e"
            ],
            [
             0.4444444444444444,
             "#bd3786"
            ],
            [
             0.5555555555555556,
             "#d8576b"
            ],
            [
             0.6666666666666666,
             "#ed7953"
            ],
            [
             0.7777777777777778,
             "#fb9f3a"
            ],
            [
             0.8888888888888888,
             "#fdca26"
            ],
            [
             1,
             "#f0f921"
            ]
           ],
           "sequentialminus": [
            [
             0,
             "#0d0887"
            ],
            [
             0.1111111111111111,
             "#46039f"
            ],
            [
             0.2222222222222222,
             "#7201a8"
            ],
            [
             0.3333333333333333,
             "#9c179e"
            ],
            [
             0.4444444444444444,
             "#bd3786"
            ],
            [
             0.5555555555555556,
             "#d8576b"
            ],
            [
             0.6666666666666666,
             "#ed7953"
            ],
            [
             0.7777777777777778,
             "#fb9f3a"
            ],
            [
             0.8888888888888888,
             "#fdca26"
            ],
            [
             1,
             "#f0f921"
            ]
           ]
          },
          "colorway": [
           "#636efa",
           "#EF553B",
           "#00cc96",
           "#ab63fa",
           "#FFA15A",
           "#19d3f3",
           "#FF6692",
           "#B6E880",
           "#FF97FF",
           "#FECB52"
          ],
          "font": {
           "color": "#2a3f5f"
          },
          "geo": {
           "bgcolor": "white",
           "lakecolor": "white",
           "landcolor": "#E5ECF6",
           "showlakes": true,
           "showland": true,
           "subunitcolor": "white"
          },
          "hoverlabel": {
           "align": "left"
          },
          "hovermode": "closest",
          "mapbox": {
           "style": "light"
          },
          "paper_bgcolor": "white",
          "plot_bgcolor": "#E5ECF6",
          "polar": {
           "angularaxis": {
            "gridcolor": "white",
            "linecolor": "white",
            "ticks": ""
           },
           "bgcolor": "#E5ECF6",
           "radialaxis": {
            "gridcolor": "white",
            "linecolor": "white",
            "ticks": ""
           }
          },
          "scene": {
           "xaxis": {
            "backgroundcolor": "#E5ECF6",
            "gridcolor": "white",
            "gridwidth": 2,
            "linecolor": "white",
            "showbackground": true,
            "ticks": "",
            "zerolinecolor": "white"
           },
           "yaxis": {
            "backgroundcolor": "#E5ECF6",
            "gridcolor": "white",
            "gridwidth": 2,
            "linecolor": "white",
            "showbackground": true,
            "ticks": "",
            "zerolinecolor": "white"
           },
           "zaxis": {
            "backgroundcolor": "#E5ECF6",
            "gridcolor": "white",
            "gridwidth": 2,
            "linecolor": "white",
            "showbackground": true,
            "ticks": "",
            "zerolinecolor": "white"
           }
          },
          "shapedefaults": {
           "line": {
            "color": "#2a3f5f"
           }
          },
          "ternary": {
           "aaxis": {
            "gridcolor": "white",
            "linecolor": "white",
            "ticks": ""
           },
           "baxis": {
            "gridcolor": "white",
            "linecolor": "white",
            "ticks": ""
           },
           "bgcolor": "#E5ECF6",
           "caxis": {
            "gridcolor": "white",
            "linecolor": "white",
            "ticks": ""
           }
          },
          "title": {
           "x": 0.05
          },
          "xaxis": {
           "automargin": true,
           "gridcolor": "white",
           "linecolor": "white",
           "ticks": "",
           "title": {
            "standoff": 15
           },
           "zerolinecolor": "white",
           "zerolinewidth": 2
          },
          "yaxis": {
           "automargin": true,
           "gridcolor": "white",
           "linecolor": "white",
           "ticks": "",
           "title": {
            "standoff": 15
           },
           "zerolinecolor": "white",
           "zerolinewidth": 2
          }
         }
        },
        "xaxis": {
         "anchor": "y",
         "autotypenumbers": "strict",
         "domain": [
          0,
          0.94
         ],
         "title": {
          "text": "ZIP Code"
         }
        },
        "yaxis": {
         "anchor": "x",
         "domain": [
          0,
          1
         ],
         "title": {
          "text": "Pct Households with Dog"
         }
        },
        "yaxis2": {
         "anchor": "x",
         "overlaying": "y",
         "side": "right",
         "title": {
          "text": "Pct Owner Occ"
         }
        }
       }
      }
     },
     "metadata": {},
     "output_type": "display_data"
    }
   ],
   "source": [
    "plot_df = DP04_select_df.copy()\n",
    "plot_df = plot_df.astype({'ZCTA':'string'})\n",
    "\n",
    "# use specs parameter in make_subplots function\n",
    "# to create secondary y-axis\n",
    "fig = make_subplots(specs=[[{\"secondary_y\": True}]])\n",
    " \n",
    "# plot a scatter chart by specifying the x and y values\n",
    "# Use add_trace function to specify secondary_y axes.\n",
    "fig.add_trace(\n",
    "    go.Scatter(x=plot_df['ZCTA'], y=plot_df['households_with_dog_pct'], name='Pct Households with Dog', mode='lines+markers'),\n",
    "    secondary_y=False)\n",
    " \n",
    "# Use add_trace function and specify secondary_y axes = True.\n",
    "fig.add_trace(\n",
    "    go.Scatter(x=plot_df['ZCTA'], y=plot_df['Pct Owner Occ'], name='Owner Occ Pct',mode='lines+markers'),\n",
    "    secondary_y=True,)\n",
    "\n",
    "\n",
    "fig.update_xaxes(autotypenumbers='strict')  # Don't convert zip codes to numbers\n",
    "fig.update_xaxes(title_text='ZIP Code')\n",
    "fig.update_yaxes(title_text='Pct Households with Dog',secondary_y=False)\n",
    "fig.update_yaxes(title_text='Pct Owner Occ', secondary_y=True)\n",
    "fig.update_layout(legend_title='Demographics')\n",
    "#fig.update_layout(title=title)\n",
    "fig.show()"
   ]
  },
  {
   "cell_type": "markdown",
   "metadata": {},
   "source": [
    "### We can see there is some variation based on ZIP Code\n",
    "\n",
    "Let's look at the demographics to see if there is a correlation with dog ownership percentage. As we see below, the highest positive correlation is with Owner Occupancy with Pct Dog Ownership > 4%. *Less than 4% is too noisy*"
   ]
  },
  {
   "cell_type": "code",
   "execution_count": 378,
   "metadata": {},
   "outputs": [],
   "source": [
    "def plot_attribute(col_name):\n",
    "\n",
    "    fig = px.scatter(DP04_select_df,x='households_with_dog_pct', y=[col_name]) \n",
    "    #fig.update_traces(mode='lines+markers')\n",
    "\n",
    "    #fig.update_xaxes(autotypenumbers=autotype)\n",
    "    fig.update_xaxes(title_text='Percent with dog')\n",
    "    fig.update_yaxes(title_text='Percentage')\n",
    "    fig.update_layout(legend_title='Demographics')\n",
    "    #fig.update_layout(title=title)\n",
    "    fig.show()\n",
    "\n",
    "\n"
   ]
  },
  {
   "cell_type": "code",
   "execution_count": 390,
   "metadata": {},
   "outputs": [
    {
     "data": {
      "application/vnd.plotly.v1+json": {
       "config": {
        "plotlyServerURL": "https://plot.ly"
       },
       "data": [
        {
         "hovertemplate": "variable=Pct Owner Occ<br>households_with_dog_pct=%{x}<br>value=%{y}<extra></extra>",
         "legendgroup": "Pct Owner Occ",
         "marker": {
          "color": "#636efa",
          "symbol": "circle"
         },
         "mode": "markers",
         "name": "Pct Owner Occ",
         "orientation": "v",
         "showlegend": true,
         "type": "scatter",
         "x": [
          1.7824640682859474,
          1.3575787769336156,
          1.400560224089636,
          1.9224108070661587,
          0.013821063300469916,
          1.7188020758939198,
          2.1157464775804304,
          1.5148698884758365,
          1.2624310815685063,
          1.668956043956044,
          0.028694404591104734,
          0.5966587112171837,
          1.633313713949382,
          1.9867549668874174,
          0.46728971962616817,
          1.7169331395348837,
          0.2244596934521901,
          0.0239477938094953,
          2.495800335973122,
          0.03003003003003003,
          0.03647505106507149,
          0.0196811651249754,
          1.3429065283871826,
          0.039300451955197484,
          0.02740289100500103,
          1.5619109172187213,
          1.0862078100990833,
          1.7099274203469061,
          1.0581140350877194,
          1.055905705164934,
          1.2191183594380752,
          1.2032617342879872,
          1.255899528037757,
          2.1990369181380416,
          1.7927029415477844,
          1.7767227737016258,
          2.25705329153605,
          1.2700534759358288,
          1.1313639220615965,
          1.3525144473134143,
          1.8306636155606408,
          3.194726166328601,
          1.7157225262535127,
          1.31697636658849,
          1.9406216174424,
          1.3544303797468353,
          2.141346492774057,
          2.0222446916076846,
          2.1967468939439407,
          2.3865994663504297
         ],
         "xaxis": "x",
         "y": [
          69.1,
          66.6,
          38.4,
          70.4,
          39.2,
          69.2,
          75.6,
          44.6,
          48.7,
          57.2,
          64.4,
          27.8,
          73.9,
          84.8,
          88.3,
          88.8,
          68.6,
          73.8,
          78.8,
          28.6,
          48.7,
          51.7,
          64.2,
          57.2,
          51.4,
          66.8,
          47.2,
          62.4,
          35.2,
          36,
          41.7,
          41.3,
          39.9,
          77.9,
          73.7,
          60.1,
          86.7,
          42.5,
          38.1,
          59.3,
          72.2,
          94.5,
          63.7,
          34.6,
          68.9,
          35.3,
          74.1,
          64.3,
          80.9,
          87.2
         ],
         "yaxis": "y"
        }
       ],
       "layout": {
        "legend": {
         "title": {
          "text": "Demographics"
         },
         "tracegroupgap": 0
        },
        "margin": {
         "t": 60
        },
        "template": {
         "data": {
          "bar": [
           {
            "error_x": {
             "color": "#2a3f5f"
            },
            "error_y": {
             "color": "#2a3f5f"
            },
            "marker": {
             "line": {
              "color": "#E5ECF6",
              "width": 0.5
             },
             "pattern": {
              "fillmode": "overlay",
              "size": 10,
              "solidity": 0.2
             }
            },
            "type": "bar"
           }
          ],
          "barpolar": [
           {
            "marker": {
             "line": {
              "color": "#E5ECF6",
              "width": 0.5
             },
             "pattern": {
              "fillmode": "overlay",
              "size": 10,
              "solidity": 0.2
             }
            },
            "type": "barpolar"
           }
          ],
          "carpet": [
           {
            "aaxis": {
             "endlinecolor": "#2a3f5f",
             "gridcolor": "white",
             "linecolor": "white",
             "minorgridcolor": "white",
             "startlinecolor": "#2a3f5f"
            },
            "baxis": {
             "endlinecolor": "#2a3f5f",
             "gridcolor": "white",
             "linecolor": "white",
             "minorgridcolor": "white",
             "startlinecolor": "#2a3f5f"
            },
            "type": "carpet"
           }
          ],
          "choropleth": [
           {
            "colorbar": {
             "outlinewidth": 0,
             "ticks": ""
            },
            "type": "choropleth"
           }
          ],
          "contour": [
           {
            "colorbar": {
             "outlinewidth": 0,
             "ticks": ""
            },
            "colorscale": [
             [
              0,
              "#0d0887"
             ],
             [
              0.1111111111111111,
              "#46039f"
             ],
             [
              0.2222222222222222,
              "#7201a8"
             ],
             [
              0.3333333333333333,
              "#9c179e"
             ],
             [
              0.4444444444444444,
              "#bd3786"
             ],
             [
              0.5555555555555556,
              "#d8576b"
             ],
             [
              0.6666666666666666,
              "#ed7953"
             ],
             [
              0.7777777777777778,
              "#fb9f3a"
             ],
             [
              0.8888888888888888,
              "#fdca26"
             ],
             [
              1,
              "#f0f921"
             ]
            ],
            "type": "contour"
           }
          ],
          "contourcarpet": [
           {
            "colorbar": {
             "outlinewidth": 0,
             "ticks": ""
            },
            "type": "contourcarpet"
           }
          ],
          "heatmap": [
           {
            "colorbar": {
             "outlinewidth": 0,
             "ticks": ""
            },
            "colorscale": [
             [
              0,
              "#0d0887"
             ],
             [
              0.1111111111111111,
              "#46039f"
             ],
             [
              0.2222222222222222,
              "#7201a8"
             ],
             [
              0.3333333333333333,
              "#9c179e"
             ],
             [
              0.4444444444444444,
              "#bd3786"
             ],
             [
              0.5555555555555556,
              "#d8576b"
             ],
             [
              0.6666666666666666,
              "#ed7953"
             ],
             [
              0.7777777777777778,
              "#fb9f3a"
             ],
             [
              0.8888888888888888,
              "#fdca26"
             ],
             [
              1,
              "#f0f921"
             ]
            ],
            "type": "heatmap"
           }
          ],
          "heatmapgl": [
           {
            "colorbar": {
             "outlinewidth": 0,
             "ticks": ""
            },
            "colorscale": [
             [
              0,
              "#0d0887"
             ],
             [
              0.1111111111111111,
              "#46039f"
             ],
             [
              0.2222222222222222,
              "#7201a8"
             ],
             [
              0.3333333333333333,
              "#9c179e"
             ],
             [
              0.4444444444444444,
              "#bd3786"
             ],
             [
              0.5555555555555556,
              "#d8576b"
             ],
             [
              0.6666666666666666,
              "#ed7953"
             ],
             [
              0.7777777777777778,
              "#fb9f3a"
             ],
             [
              0.8888888888888888,
              "#fdca26"
             ],
             [
              1,
              "#f0f921"
             ]
            ],
            "type": "heatmapgl"
           }
          ],
          "histogram": [
           {
            "marker": {
             "pattern": {
              "fillmode": "overlay",
              "size": 10,
              "solidity": 0.2
             }
            },
            "type": "histogram"
           }
          ],
          "histogram2d": [
           {
            "colorbar": {
             "outlinewidth": 0,
             "ticks": ""
            },
            "colorscale": [
             [
              0,
              "#0d0887"
             ],
             [
              0.1111111111111111,
              "#46039f"
             ],
             [
              0.2222222222222222,
              "#7201a8"
             ],
             [
              0.3333333333333333,
              "#9c179e"
             ],
             [
              0.4444444444444444,
              "#bd3786"
             ],
             [
              0.5555555555555556,
              "#d8576b"
             ],
             [
              0.6666666666666666,
              "#ed7953"
             ],
             [
              0.7777777777777778,
              "#fb9f3a"
             ],
             [
              0.8888888888888888,
              "#fdca26"
             ],
             [
              1,
              "#f0f921"
             ]
            ],
            "type": "histogram2d"
           }
          ],
          "histogram2dcontour": [
           {
            "colorbar": {
             "outlinewidth": 0,
             "ticks": ""
            },
            "colorscale": [
             [
              0,
              "#0d0887"
             ],
             [
              0.1111111111111111,
              "#46039f"
             ],
             [
              0.2222222222222222,
              "#7201a8"
             ],
             [
              0.3333333333333333,
              "#9c179e"
             ],
             [
              0.4444444444444444,
              "#bd3786"
             ],
             [
              0.5555555555555556,
              "#d8576b"
             ],
             [
              0.6666666666666666,
              "#ed7953"
             ],
             [
              0.7777777777777778,
              "#fb9f3a"
             ],
             [
              0.8888888888888888,
              "#fdca26"
             ],
             [
              1,
              "#f0f921"
             ]
            ],
            "type": "histogram2dcontour"
           }
          ],
          "mesh3d": [
           {
            "colorbar": {
             "outlinewidth": 0,
             "ticks": ""
            },
            "type": "mesh3d"
           }
          ],
          "parcoords": [
           {
            "line": {
             "colorbar": {
              "outlinewidth": 0,
              "ticks": ""
             }
            },
            "type": "parcoords"
           }
          ],
          "pie": [
           {
            "automargin": true,
            "type": "pie"
           }
          ],
          "scatter": [
           {
            "fillpattern": {
             "fillmode": "overlay",
             "size": 10,
             "solidity": 0.2
            },
            "type": "scatter"
           }
          ],
          "scatter3d": [
           {
            "line": {
             "colorbar": {
              "outlinewidth": 0,
              "ticks": ""
             }
            },
            "marker": {
             "colorbar": {
              "outlinewidth": 0,
              "ticks": ""
             }
            },
            "type": "scatter3d"
           }
          ],
          "scattercarpet": [
           {
            "marker": {
             "colorbar": {
              "outlinewidth": 0,
              "ticks": ""
             }
            },
            "type": "scattercarpet"
           }
          ],
          "scattergeo": [
           {
            "marker": {
             "colorbar": {
              "outlinewidth": 0,
              "ticks": ""
             }
            },
            "type": "scattergeo"
           }
          ],
          "scattergl": [
           {
            "marker": {
             "colorbar": {
              "outlinewidth": 0,
              "ticks": ""
             }
            },
            "type": "scattergl"
           }
          ],
          "scattermapbox": [
           {
            "marker": {
             "colorbar": {
              "outlinewidth": 0,
              "ticks": ""
             }
            },
            "type": "scattermapbox"
           }
          ],
          "scatterpolar": [
           {
            "marker": {
             "colorbar": {
              "outlinewidth": 0,
              "ticks": ""
             }
            },
            "type": "scatterpolar"
           }
          ],
          "scatterpolargl": [
           {
            "marker": {
             "colorbar": {
              "outlinewidth": 0,
              "ticks": ""
             }
            },
            "type": "scatterpolargl"
           }
          ],
          "scatterternary": [
           {
            "marker": {
             "colorbar": {
              "outlinewidth": 0,
              "ticks": ""
             }
            },
            "type": "scatterternary"
           }
          ],
          "surface": [
           {
            "colorbar": {
             "outlinewidth": 0,
             "ticks": ""
            },
            "colorscale": [
             [
              0,
              "#0d0887"
             ],
             [
              0.1111111111111111,
              "#46039f"
             ],
             [
              0.2222222222222222,
              "#7201a8"
             ],
             [
              0.3333333333333333,
              "#9c179e"
             ],
             [
              0.4444444444444444,
              "#bd3786"
             ],
             [
              0.5555555555555556,
              "#d8576b"
             ],
             [
              0.6666666666666666,
              "#ed7953"
             ],
             [
              0.7777777777777778,
              "#fb9f3a"
             ],
             [
              0.8888888888888888,
              "#fdca26"
             ],
             [
              1,
              "#f0f921"
             ]
            ],
            "type": "surface"
           }
          ],
          "table": [
           {
            "cells": {
             "fill": {
              "color": "#EBF0F8"
             },
             "line": {
              "color": "white"
             }
            },
            "header": {
             "fill": {
              "color": "#C8D4E3"
             },
             "line": {
              "color": "white"
             }
            },
            "type": "table"
           }
          ]
         },
         "layout": {
          "annotationdefaults": {
           "arrowcolor": "#2a3f5f",
           "arrowhead": 0,
           "arrowwidth": 1
          },
          "autotypenumbers": "strict",
          "coloraxis": {
           "colorbar": {
            "outlinewidth": 0,
            "ticks": ""
           }
          },
          "colorscale": {
           "diverging": [
            [
             0,
             "#8e0152"
            ],
            [
             0.1,
             "#c51b7d"
            ],
            [
             0.2,
             "#de77ae"
            ],
            [
             0.3,
             "#f1b6da"
            ],
            [
             0.4,
             "#fde0ef"
            ],
            [
             0.5,
             "#f7f7f7"
            ],
            [
             0.6,
             "#e6f5d0"
            ],
            [
             0.7,
             "#b8e186"
            ],
            [
             0.8,
             "#7fbc41"
            ],
            [
             0.9,
             "#4d9221"
            ],
            [
             1,
             "#276419"
            ]
           ],
           "sequential": [
            [
             0,
             "#0d0887"
            ],
            [
             0.1111111111111111,
             "#46039f"
            ],
            [
             0.2222222222222222,
             "#7201a8"
            ],
            [
             0.3333333333333333,
             "#9c179e"
            ],
            [
             0.4444444444444444,
             "#bd3786"
            ],
            [
             0.5555555555555556,
             "#d8576b"
            ],
            [
             0.6666666666666666,
             "#ed7953"
            ],
            [
             0.7777777777777778,
             "#fb9f3a"
            ],
            [
             0.8888888888888888,
             "#fdca26"
            ],
            [
             1,
             "#f0f921"
            ]
           ],
           "sequentialminus": [
            [
             0,
             "#0d0887"
            ],
            [
             0.1111111111111111,
             "#46039f"
            ],
            [
             0.2222222222222222,
             "#7201a8"
            ],
            [
             0.3333333333333333,
             "#9c179e"
            ],
            [
             0.4444444444444444,
             "#bd3786"
            ],
            [
             0.5555555555555556,
             "#d8576b"
            ],
            [
             0.6666666666666666,
             "#ed7953"
            ],
            [
             0.7777777777777778,
             "#fb9f3a"
            ],
            [
             0.8888888888888888,
             "#fdca26"
            ],
            [
             1,
             "#f0f921"
            ]
           ]
          },
          "colorway": [
           "#636efa",
           "#EF553B",
           "#00cc96",
           "#ab63fa",
           "#FFA15A",
           "#19d3f3",
           "#FF6692",
           "#B6E880",
           "#FF97FF",
           "#FECB52"
          ],
          "font": {
           "color": "#2a3f5f"
          },
          "geo": {
           "bgcolor": "white",
           "lakecolor": "white",
           "landcolor": "#E5ECF6",
           "showlakes": true,
           "showland": true,
           "subunitcolor": "white"
          },
          "hoverlabel": {
           "align": "left"
          },
          "hovermode": "closest",
          "mapbox": {
           "style": "light"
          },
          "paper_bgcolor": "white",
          "plot_bgcolor": "#E5ECF6",
          "polar": {
           "angularaxis": {
            "gridcolor": "white",
            "linecolor": "white",
            "ticks": ""
           },
           "bgcolor": "#E5ECF6",
           "radialaxis": {
            "gridcolor": "white",
            "linecolor": "white",
            "ticks": ""
           }
          },
          "scene": {
           "xaxis": {
            "backgroundcolor": "#E5ECF6",
            "gridcolor": "white",
            "gridwidth": 2,
            "linecolor": "white",
            "showbackground": true,
            "ticks": "",
            "zerolinecolor": "white"
           },
           "yaxis": {
            "backgroundcolor": "#E5ECF6",
            "gridcolor": "white",
            "gridwidth": 2,
            "linecolor": "white",
            "showbackground": true,
            "ticks": "",
            "zerolinecolor": "white"
           },
           "zaxis": {
            "backgroundcolor": "#E5ECF6",
            "gridcolor": "white",
            "gridwidth": 2,
            "linecolor": "white",
            "showbackground": true,
            "ticks": "",
            "zerolinecolor": "white"
           }
          },
          "shapedefaults": {
           "line": {
            "color": "#2a3f5f"
           }
          },
          "ternary": {
           "aaxis": {
            "gridcolor": "white",
            "linecolor": "white",
            "ticks": ""
           },
           "baxis": {
            "gridcolor": "white",
            "linecolor": "white",
            "ticks": ""
           },
           "bgcolor": "#E5ECF6",
           "caxis": {
            "gridcolor": "white",
            "linecolor": "white",
            "ticks": ""
           }
          },
          "title": {
           "x": 0.05
          },
          "xaxis": {
           "automargin": true,
           "gridcolor": "white",
           "linecolor": "white",
           "ticks": "",
           "title": {
            "standoff": 15
           },
           "zerolinecolor": "white",
           "zerolinewidth": 2
          },
          "yaxis": {
           "automargin": true,
           "gridcolor": "white",
           "linecolor": "white",
           "ticks": "",
           "title": {
            "standoff": 15
           },
           "zerolinecolor": "white",
           "zerolinewidth": 2
          }
         }
        },
        "xaxis": {
         "anchor": "y",
         "domain": [
          0,
          1
         ],
         "title": {
          "text": "Percent with dog"
         }
        },
        "yaxis": {
         "anchor": "x",
         "domain": [
          0,
          1
         ],
         "title": {
          "text": "Percentage"
         }
        }
       }
      }
     },
     "metadata": {},
     "output_type": "display_data"
    }
   ],
   "source": [
    "plot_attribute('Pct Owner Occ')"
   ]
  },
  {
   "cell_type": "code",
   "execution_count": 379,
   "metadata": {},
   "outputs": [
    {
     "data": {
      "application/vnd.plotly.v1+json": {
       "config": {
        "plotlyServerURL": "https://plot.ly"
       },
       "data": [
        {
         "hovertemplate": "variable=Pct Renter Occ<br>households_with_dog_pct=%{x}<br>value=%{y}<extra></extra>",
         "legendgroup": "Pct Renter Occ",
         "marker": {
          "color": "#636efa",
          "symbol": "circle"
         },
         "mode": "markers",
         "name": "Pct Renter Occ",
         "orientation": "v",
         "showlegend": true,
         "type": "scatter",
         "x": [
          1.7824640682859474,
          1.3575787769336156,
          1.400560224089636,
          1.9224108070661587,
          0.013821063300469916,
          1.7188020758939198,
          2.1157464775804304,
          1.5148698884758365,
          1.2624310815685063,
          1.668956043956044,
          0.028694404591104734,
          0.5966587112171837,
          1.633313713949382,
          1.9867549668874174,
          0.46728971962616817,
          1.7169331395348837,
          0.2244596934521901,
          0.0239477938094953,
          2.495800335973122,
          0.03003003003003003,
          0.03647505106507149,
          0.0196811651249754,
          1.3429065283871826,
          0.039300451955197484,
          0.02740289100500103,
          1.5619109172187213,
          1.0862078100990833,
          1.7099274203469061,
          1.0581140350877194,
          1.055905705164934,
          1.2191183594380752,
          1.2032617342879872,
          1.255899528037757,
          2.1990369181380416,
          1.7927029415477844,
          1.7767227737016258,
          2.25705329153605,
          1.2700534759358288,
          1.1313639220615965,
          1.3525144473134143,
          1.8306636155606408,
          3.194726166328601,
          1.7157225262535127,
          1.31697636658849,
          1.9406216174424,
          1.3544303797468353,
          2.141346492774057,
          2.0222446916076846,
          2.1967468939439407,
          2.3865994663504297
         ],
         "xaxis": "x",
         "y": [
          30.9,
          33.4,
          61.6,
          29.6,
          60.8,
          30.8,
          24.4,
          55.4,
          51.3,
          42.8,
          35.6,
          72.2,
          26.1,
          15.2,
          11.7,
          11.2,
          31.4,
          26.2,
          21.2,
          71.4,
          51.3,
          48.3,
          35.8,
          42.8,
          48.6,
          33.2,
          52.8,
          37.6,
          64.8,
          64,
          58.3,
          58.7,
          60.1,
          22.1,
          26.3,
          39.9,
          13.3,
          57.5,
          61.9,
          40.7,
          27.8,
          5.5,
          36.3,
          65.4,
          31.1,
          64.7,
          25.9,
          35.7,
          19.1,
          12.8
         ],
         "yaxis": "y"
        }
       ],
       "layout": {
        "legend": {
         "title": {
          "text": "Demographics"
         },
         "tracegroupgap": 0
        },
        "margin": {
         "t": 60
        },
        "template": {
         "data": {
          "bar": [
           {
            "error_x": {
             "color": "#2a3f5f"
            },
            "error_y": {
             "color": "#2a3f5f"
            },
            "marker": {
             "line": {
              "color": "#E5ECF6",
              "width": 0.5
             },
             "pattern": {
              "fillmode": "overlay",
              "size": 10,
              "solidity": 0.2
             }
            },
            "type": "bar"
           }
          ],
          "barpolar": [
           {
            "marker": {
             "line": {
              "color": "#E5ECF6",
              "width": 0.5
             },
             "pattern": {
              "fillmode": "overlay",
              "size": 10,
              "solidity": 0.2
             }
            },
            "type": "barpolar"
           }
          ],
          "carpet": [
           {
            "aaxis": {
             "endlinecolor": "#2a3f5f",
             "gridcolor": "white",
             "linecolor": "white",
             "minorgridcolor": "white",
             "startlinecolor": "#2a3f5f"
            },
            "baxis": {
             "endlinecolor": "#2a3f5f",
             "gridcolor": "white",
             "linecolor": "white",
             "minorgridcolor": "white",
             "startlinecolor": "#2a3f5f"
            },
            "type": "carpet"
           }
          ],
          "choropleth": [
           {
            "colorbar": {
             "outlinewidth": 0,
             "ticks": ""
            },
            "type": "choropleth"
           }
          ],
          "contour": [
           {
            "colorbar": {
             "outlinewidth": 0,
             "ticks": ""
            },
            "colorscale": [
             [
              0,
              "#0d0887"
             ],
             [
              0.1111111111111111,
              "#46039f"
             ],
             [
              0.2222222222222222,
              "#7201a8"
             ],
             [
              0.3333333333333333,
              "#9c179e"
             ],
             [
              0.4444444444444444,
              "#bd3786"
             ],
             [
              0.5555555555555556,
              "#d8576b"
             ],
             [
              0.6666666666666666,
              "#ed7953"
             ],
             [
              0.7777777777777778,
              "#fb9f3a"
             ],
             [
              0.8888888888888888,
              "#fdca26"
             ],
             [
              1,
              "#f0f921"
             ]
            ],
            "type": "contour"
           }
          ],
          "contourcarpet": [
           {
            "colorbar": {
             "outlinewidth": 0,
             "ticks": ""
            },
            "type": "contourcarpet"
           }
          ],
          "heatmap": [
           {
            "colorbar": {
             "outlinewidth": 0,
             "ticks": ""
            },
            "colorscale": [
             [
              0,
              "#0d0887"
             ],
             [
              0.1111111111111111,
              "#46039f"
             ],
             [
              0.2222222222222222,
              "#7201a8"
             ],
             [
              0.3333333333333333,
              "#9c179e"
             ],
             [
              0.4444444444444444,
              "#bd3786"
             ],
             [
              0.5555555555555556,
              "#d8576b"
             ],
             [
              0.6666666666666666,
              "#ed7953"
             ],
             [
              0.7777777777777778,
              "#fb9f3a"
             ],
             [
              0.8888888888888888,
              "#fdca26"
             ],
             [
              1,
              "#f0f921"
             ]
            ],
            "type": "heatmap"
           }
          ],
          "heatmapgl": [
           {
            "colorbar": {
             "outlinewidth": 0,
             "ticks": ""
            },
            "colorscale": [
             [
              0,
              "#0d0887"
             ],
             [
              0.1111111111111111,
              "#46039f"
             ],
             [
              0.2222222222222222,
              "#7201a8"
             ],
             [
              0.3333333333333333,
              "#9c179e"
             ],
             [
              0.4444444444444444,
              "#bd3786"
             ],
             [
              0.5555555555555556,
              "#d8576b"
             ],
             [
              0.6666666666666666,
              "#ed7953"
             ],
             [
              0.7777777777777778,
              "#fb9f3a"
             ],
             [
              0.8888888888888888,
              "#fdca26"
             ],
             [
              1,
              "#f0f921"
             ]
            ],
            "type": "heatmapgl"
           }
          ],
          "histogram": [
           {
            "marker": {
             "pattern": {
              "fillmode": "overlay",
              "size": 10,
              "solidity": 0.2
             }
            },
            "type": "histogram"
           }
          ],
          "histogram2d": [
           {
            "colorbar": {
             "outlinewidth": 0,
             "ticks": ""
            },
            "colorscale": [
             [
              0,
              "#0d0887"
             ],
             [
              0.1111111111111111,
              "#46039f"
             ],
             [
              0.2222222222222222,
              "#7201a8"
             ],
             [
              0.3333333333333333,
              "#9c179e"
             ],
             [
              0.4444444444444444,
              "#bd3786"
             ],
             [
              0.5555555555555556,
              "#d8576b"
             ],
             [
              0.6666666666666666,
              "#ed7953"
             ],
             [
              0.7777777777777778,
              "#fb9f3a"
             ],
             [
              0.8888888888888888,
              "#fdca26"
             ],
             [
              1,
              "#f0f921"
             ]
            ],
            "type": "histogram2d"
           }
          ],
          "histogram2dcontour": [
           {
            "colorbar": {
             "outlinewidth": 0,
             "ticks": ""
            },
            "colorscale": [
             [
              0,
              "#0d0887"
             ],
             [
              0.1111111111111111,
              "#46039f"
             ],
             [
              0.2222222222222222,
              "#7201a8"
             ],
             [
              0.3333333333333333,
              "#9c179e"
             ],
             [
              0.4444444444444444,
              "#bd3786"
             ],
             [
              0.5555555555555556,
              "#d8576b"
             ],
             [
              0.6666666666666666,
              "#ed7953"
             ],
             [
              0.7777777777777778,
              "#fb9f3a"
             ],
             [
              0.8888888888888888,
              "#fdca26"
             ],
             [
              1,
              "#f0f921"
             ]
            ],
            "type": "histogram2dcontour"
           }
          ],
          "mesh3d": [
           {
            "colorbar": {
             "outlinewidth": 0,
             "ticks": ""
            },
            "type": "mesh3d"
           }
          ],
          "parcoords": [
           {
            "line": {
             "colorbar": {
              "outlinewidth": 0,
              "ticks": ""
             }
            },
            "type": "parcoords"
           }
          ],
          "pie": [
           {
            "automargin": true,
            "type": "pie"
           }
          ],
          "scatter": [
           {
            "fillpattern": {
             "fillmode": "overlay",
             "size": 10,
             "solidity": 0.2
            },
            "type": "scatter"
           }
          ],
          "scatter3d": [
           {
            "line": {
             "colorbar": {
              "outlinewidth": 0,
              "ticks": ""
             }
            },
            "marker": {
             "colorbar": {
              "outlinewidth": 0,
              "ticks": ""
             }
            },
            "type": "scatter3d"
           }
          ],
          "scattercarpet": [
           {
            "marker": {
             "colorbar": {
              "outlinewidth": 0,
              "ticks": ""
             }
            },
            "type": "scattercarpet"
           }
          ],
          "scattergeo": [
           {
            "marker": {
             "colorbar": {
              "outlinewidth": 0,
              "ticks": ""
             }
            },
            "type": "scattergeo"
           }
          ],
          "scattergl": [
           {
            "marker": {
             "colorbar": {
              "outlinewidth": 0,
              "ticks": ""
             }
            },
            "type": "scattergl"
           }
          ],
          "scattermapbox": [
           {
            "marker": {
             "colorbar": {
              "outlinewidth": 0,
              "ticks": ""
             }
            },
            "type": "scattermapbox"
           }
          ],
          "scatterpolar": [
           {
            "marker": {
             "colorbar": {
              "outlinewidth": 0,
              "ticks": ""
             }
            },
            "type": "scatterpolar"
           }
          ],
          "scatterpolargl": [
           {
            "marker": {
             "colorbar": {
              "outlinewidth": 0,
              "ticks": ""
             }
            },
            "type": "scatterpolargl"
           }
          ],
          "scatterternary": [
           {
            "marker": {
             "colorbar": {
              "outlinewidth": 0,
              "ticks": ""
             }
            },
            "type": "scatterternary"
           }
          ],
          "surface": [
           {
            "colorbar": {
             "outlinewidth": 0,
             "ticks": ""
            },
            "colorscale": [
             [
              0,
              "#0d0887"
             ],
             [
              0.1111111111111111,
              "#46039f"
             ],
             [
              0.2222222222222222,
              "#7201a8"
             ],
             [
              0.3333333333333333,
              "#9c179e"
             ],
             [
              0.4444444444444444,
              "#bd3786"
             ],
             [
              0.5555555555555556,
              "#d8576b"
             ],
             [
              0.6666666666666666,
              "#ed7953"
             ],
             [
              0.7777777777777778,
              "#fb9f3a"
             ],
             [
              0.8888888888888888,
              "#fdca26"
             ],
             [
              1,
              "#f0f921"
             ]
            ],
            "type": "surface"
           }
          ],
          "table": [
           {
            "cells": {
             "fill": {
              "color": "#EBF0F8"
             },
             "line": {
              "color": "white"
             }
            },
            "header": {
             "fill": {
              "color": "#C8D4E3"
             },
             "line": {
              "color": "white"
             }
            },
            "type": "table"
           }
          ]
         },
         "layout": {
          "annotationdefaults": {
           "arrowcolor": "#2a3f5f",
           "arrowhead": 0,
           "arrowwidth": 1
          },
          "autotypenumbers": "strict",
          "coloraxis": {
           "colorbar": {
            "outlinewidth": 0,
            "ticks": ""
           }
          },
          "colorscale": {
           "diverging": [
            [
             0,
             "#8e0152"
            ],
            [
             0.1,
             "#c51b7d"
            ],
            [
             0.2,
             "#de77ae"
            ],
            [
             0.3,
             "#f1b6da"
            ],
            [
             0.4,
             "#fde0ef"
            ],
            [
             0.5,
             "#f7f7f7"
            ],
            [
             0.6,
             "#e6f5d0"
            ],
            [
             0.7,
             "#b8e186"
            ],
            [
             0.8,
             "#7fbc41"
            ],
            [
             0.9,
             "#4d9221"
            ],
            [
             1,
             "#276419"
            ]
           ],
           "sequential": [
            [
             0,
             "#0d0887"
            ],
            [
             0.1111111111111111,
             "#46039f"
            ],
            [
             0.2222222222222222,
             "#7201a8"
            ],
            [
             0.3333333333333333,
             "#9c179e"
            ],
            [
             0.4444444444444444,
             "#bd3786"
            ],
            [
             0.5555555555555556,
             "#d8576b"
            ],
            [
             0.6666666666666666,
             "#ed7953"
            ],
            [
             0.7777777777777778,
             "#fb9f3a"
            ],
            [
             0.8888888888888888,
             "#fdca26"
            ],
            [
             1,
             "#f0f921"
            ]
           ],
           "sequentialminus": [
            [
             0,
             "#0d0887"
            ],
            [
             0.1111111111111111,
             "#46039f"
            ],
            [
             0.2222222222222222,
             "#7201a8"
            ],
            [
             0.3333333333333333,
             "#9c179e"
            ],
            [
             0.4444444444444444,
             "#bd3786"
            ],
            [
             0.5555555555555556,
             "#d8576b"
            ],
            [
             0.6666666666666666,
             "#ed7953"
            ],
            [
             0.7777777777777778,
             "#fb9f3a"
            ],
            [
             0.8888888888888888,
             "#fdca26"
            ],
            [
             1,
             "#f0f921"
            ]
           ]
          },
          "colorway": [
           "#636efa",
           "#EF553B",
           "#00cc96",
           "#ab63fa",
           "#FFA15A",
           "#19d3f3",
           "#FF6692",
           "#B6E880",
           "#FF97FF",
           "#FECB52"
          ],
          "font": {
           "color": "#2a3f5f"
          },
          "geo": {
           "bgcolor": "white",
           "lakecolor": "white",
           "landcolor": "#E5ECF6",
           "showlakes": true,
           "showland": true,
           "subunitcolor": "white"
          },
          "hoverlabel": {
           "align": "left"
          },
          "hovermode": "closest",
          "mapbox": {
           "style": "light"
          },
          "paper_bgcolor": "white",
          "plot_bgcolor": "#E5ECF6",
          "polar": {
           "angularaxis": {
            "gridcolor": "white",
            "linecolor": "white",
            "ticks": ""
           },
           "bgcolor": "#E5ECF6",
           "radialaxis": {
            "gridcolor": "white",
            "linecolor": "white",
            "ticks": ""
           }
          },
          "scene": {
           "xaxis": {
            "backgroundcolor": "#E5ECF6",
            "gridcolor": "white",
            "gridwidth": 2,
            "linecolor": "white",
            "showbackground": true,
            "ticks": "",
            "zerolinecolor": "white"
           },
           "yaxis": {
            "backgroundcolor": "#E5ECF6",
            "gridcolor": "white",
            "gridwidth": 2,
            "linecolor": "white",
            "showbackground": true,
            "ticks": "",
            "zerolinecolor": "white"
           },
           "zaxis": {
            "backgroundcolor": "#E5ECF6",
            "gridcolor": "white",
            "gridwidth": 2,
            "linecolor": "white",
            "showbackground": true,
            "ticks": "",
            "zerolinecolor": "white"
           }
          },
          "shapedefaults": {
           "line": {
            "color": "#2a3f5f"
           }
          },
          "ternary": {
           "aaxis": {
            "gridcolor": "white",
            "linecolor": "white",
            "ticks": ""
           },
           "baxis": {
            "gridcolor": "white",
            "linecolor": "white",
            "ticks": ""
           },
           "bgcolor": "#E5ECF6",
           "caxis": {
            "gridcolor": "white",
            "linecolor": "white",
            "ticks": ""
           }
          },
          "title": {
           "x": 0.05
          },
          "xaxis": {
           "automargin": true,
           "gridcolor": "white",
           "linecolor": "white",
           "ticks": "",
           "title": {
            "standoff": 15
           },
           "zerolinecolor": "white",
           "zerolinewidth": 2
          },
          "yaxis": {
           "automargin": true,
           "gridcolor": "white",
           "linecolor": "white",
           "ticks": "",
           "title": {
            "standoff": 15
           },
           "zerolinecolor": "white",
           "zerolinewidth": 2
          }
         }
        },
        "xaxis": {
         "anchor": "y",
         "domain": [
          0,
          1
         ],
         "title": {
          "text": "Percent with dog"
         }
        },
        "yaxis": {
         "anchor": "x",
         "domain": [
          0,
          1
         ],
         "title": {
          "text": "Percentage"
         }
        }
       }
      }
     },
     "metadata": {},
     "output_type": "display_data"
    }
   ],
   "source": [
    "plot_attribute('Pct Renter Occ')\n"
   ]
  },
  {
   "cell_type": "code",
   "execution_count": 391,
   "metadata": {},
   "outputs": [
    {
     "data": {
      "application/vnd.plotly.v1+json": {
       "config": {
        "plotlyServerURL": "https://plot.ly"
       },
       "data": [
        {
         "hovertemplate": "variable=Pct No Bedroom<br>households_with_dog_pct=%{x}<br>value=%{y}<extra></extra>",
         "legendgroup": "Pct No Bedroom",
         "marker": {
          "color": "#636efa",
          "symbol": "circle"
         },
         "mode": "markers",
         "name": "Pct No Bedroom",
         "orientation": "v",
         "showlegend": true,
         "type": "scatter",
         "x": [
          1.7824640682859474,
          1.3575787769336156,
          1.400560224089636,
          1.9224108070661587,
          0.013821063300469916,
          1.7188020758939198,
          2.1157464775804304,
          1.5148698884758365,
          1.2624310815685063,
          1.668956043956044,
          0.028694404591104734,
          0.5966587112171837,
          1.633313713949382,
          1.9867549668874174,
          0.46728971962616817,
          1.7169331395348837,
          0.2244596934521901,
          0.0239477938094953,
          2.495800335973122,
          0.03003003003003003,
          0.03647505106507149,
          0.0196811651249754,
          1.3429065283871826,
          0.039300451955197484,
          0.02740289100500103,
          1.5619109172187213,
          1.0862078100990833,
          1.7099274203469061,
          1.0581140350877194,
          1.055905705164934,
          1.2191183594380752,
          1.2032617342879872,
          1.255899528037757,
          2.1990369181380416,
          1.7927029415477844,
          1.7767227737016258,
          2.25705329153605,
          1.2700534759358288,
          1.1313639220615965,
          1.3525144473134143,
          1.8306636155606408,
          3.194726166328601,
          1.7157225262535127,
          1.31697636658849,
          1.9406216174424,
          1.3544303797468353,
          2.141346492774057,
          2.0222446916076846,
          2.1967468939439407,
          2.3865994663504297
         ],
         "xaxis": "x",
         "y": [
          0.6,
          0.9,
          6.2,
          1,
          3.6,
          1.6,
          1,
          2.3,
          3.3,
          2.7,
          3.4,
          6.7,
          1.8,
          0.5,
          6.7,
          0.4,
          3.2,
          1.5,
          0.4,
          13,
          3.5,
          4.7,
          3.9,
          5.9,
          3.6,
          1.8,
          4,
          2.4,
          4.8,
          3,
          5,
          5.4,
          3.5,
          2.9,
          1,
          3.1,
          0,
          7.4,
          5.8,
          5,
          0.2,
          0,
          1.7,
          5.5,
          1.2,
          6.1,
          0.8,
          1.7,
          0.7,
          0.9
         ],
         "yaxis": "y"
        }
       ],
       "layout": {
        "legend": {
         "title": {
          "text": "Demographics"
         },
         "tracegroupgap": 0
        },
        "margin": {
         "t": 60
        },
        "template": {
         "data": {
          "bar": [
           {
            "error_x": {
             "color": "#2a3f5f"
            },
            "error_y": {
             "color": "#2a3f5f"
            },
            "marker": {
             "line": {
              "color": "#E5ECF6",
              "width": 0.5
             },
             "pattern": {
              "fillmode": "overlay",
              "size": 10,
              "solidity": 0.2
             }
            },
            "type": "bar"
           }
          ],
          "barpolar": [
           {
            "marker": {
             "line": {
              "color": "#E5ECF6",
              "width": 0.5
             },
             "pattern": {
              "fillmode": "overlay",
              "size": 10,
              "solidity": 0.2
             }
            },
            "type": "barpolar"
           }
          ],
          "carpet": [
           {
            "aaxis": {
             "endlinecolor": "#2a3f5f",
             "gridcolor": "white",
             "linecolor": "white",
             "minorgridcolor": "white",
             "startlinecolor": "#2a3f5f"
            },
            "baxis": {
             "endlinecolor": "#2a3f5f",
             "gridcolor": "white",
             "linecolor": "white",
             "minorgridcolor": "white",
             "startlinecolor": "#2a3f5f"
            },
            "type": "carpet"
           }
          ],
          "choropleth": [
           {
            "colorbar": {
             "outlinewidth": 0,
             "ticks": ""
            },
            "type": "choropleth"
           }
          ],
          "contour": [
           {
            "colorbar": {
             "outlinewidth": 0,
             "ticks": ""
            },
            "colorscale": [
             [
              0,
              "#0d0887"
             ],
             [
              0.1111111111111111,
              "#46039f"
             ],
             [
              0.2222222222222222,
              "#7201a8"
             ],
             [
              0.3333333333333333,
              "#9c179e"
             ],
             [
              0.4444444444444444,
              "#bd3786"
             ],
             [
              0.5555555555555556,
              "#d8576b"
             ],
             [
              0.6666666666666666,
              "#ed7953"
             ],
             [
              0.7777777777777778,
              "#fb9f3a"
             ],
             [
              0.8888888888888888,
              "#fdca26"
             ],
             [
              1,
              "#f0f921"
             ]
            ],
            "type": "contour"
           }
          ],
          "contourcarpet": [
           {
            "colorbar": {
             "outlinewidth": 0,
             "ticks": ""
            },
            "type": "contourcarpet"
           }
          ],
          "heatmap": [
           {
            "colorbar": {
             "outlinewidth": 0,
             "ticks": ""
            },
            "colorscale": [
             [
              0,
              "#0d0887"
             ],
             [
              0.1111111111111111,
              "#46039f"
             ],
             [
              0.2222222222222222,
              "#7201a8"
             ],
             [
              0.3333333333333333,
              "#9c179e"
             ],
             [
              0.4444444444444444,
              "#bd3786"
             ],
             [
              0.5555555555555556,
              "#d8576b"
             ],
             [
              0.6666666666666666,
              "#ed7953"
             ],
             [
              0.7777777777777778,
              "#fb9f3a"
             ],
             [
              0.8888888888888888,
              "#fdca26"
             ],
             [
              1,
              "#f0f921"
             ]
            ],
            "type": "heatmap"
           }
          ],
          "heatmapgl": [
           {
            "colorbar": {
             "outlinewidth": 0,
             "ticks": ""
            },
            "colorscale": [
             [
              0,
              "#0d0887"
             ],
             [
              0.1111111111111111,
              "#46039f"
             ],
             [
              0.2222222222222222,
              "#7201a8"
             ],
             [
              0.3333333333333333,
              "#9c179e"
             ],
             [
              0.4444444444444444,
              "#bd3786"
             ],
             [
              0.5555555555555556,
              "#d8576b"
             ],
             [
              0.6666666666666666,
              "#ed7953"
             ],
             [
              0.7777777777777778,
              "#fb9f3a"
             ],
             [
              0.8888888888888888,
              "#fdca26"
             ],
             [
              1,
              "#f0f921"
             ]
            ],
            "type": "heatmapgl"
           }
          ],
          "histogram": [
           {
            "marker": {
             "pattern": {
              "fillmode": "overlay",
              "size": 10,
              "solidity": 0.2
             }
            },
            "type": "histogram"
           }
          ],
          "histogram2d": [
           {
            "colorbar": {
             "outlinewidth": 0,
             "ticks": ""
            },
            "colorscale": [
             [
              0,
              "#0d0887"
             ],
             [
              0.1111111111111111,
              "#46039f"
             ],
             [
              0.2222222222222222,
              "#7201a8"
             ],
             [
              0.3333333333333333,
              "#9c179e"
             ],
             [
              0.4444444444444444,
              "#bd3786"
             ],
             [
              0.5555555555555556,
              "#d8576b"
             ],
             [
              0.6666666666666666,
              "#ed7953"
             ],
             [
              0.7777777777777778,
              "#fb9f3a"
             ],
             [
              0.8888888888888888,
              "#fdca26"
             ],
             [
              1,
              "#f0f921"
             ]
            ],
            "type": "histogram2d"
           }
          ],
          "histogram2dcontour": [
           {
            "colorbar": {
             "outlinewidth": 0,
             "ticks": ""
            },
            "colorscale": [
             [
              0,
              "#0d0887"
             ],
             [
              0.1111111111111111,
              "#46039f"
             ],
             [
              0.2222222222222222,
              "#7201a8"
             ],
             [
              0.3333333333333333,
              "#9c179e"
             ],
             [
              0.4444444444444444,
              "#bd3786"
             ],
             [
              0.5555555555555556,
              "#d8576b"
             ],
             [
              0.6666666666666666,
              "#ed7953"
             ],
             [
              0.7777777777777778,
              "#fb9f3a"
             ],
             [
              0.8888888888888888,
              "#fdca26"
             ],
             [
              1,
              "#f0f921"
             ]
            ],
            "type": "histogram2dcontour"
           }
          ],
          "mesh3d": [
           {
            "colorbar": {
             "outlinewidth": 0,
             "ticks": ""
            },
            "type": "mesh3d"
           }
          ],
          "parcoords": [
           {
            "line": {
             "colorbar": {
              "outlinewidth": 0,
              "ticks": ""
             }
            },
            "type": "parcoords"
           }
          ],
          "pie": [
           {
            "automargin": true,
            "type": "pie"
           }
          ],
          "scatter": [
           {
            "fillpattern": {
             "fillmode": "overlay",
             "size": 10,
             "solidity": 0.2
            },
            "type": "scatter"
           }
          ],
          "scatter3d": [
           {
            "line": {
             "colorbar": {
              "outlinewidth": 0,
              "ticks": ""
             }
            },
            "marker": {
             "colorbar": {
              "outlinewidth": 0,
              "ticks": ""
             }
            },
            "type": "scatter3d"
           }
          ],
          "scattercarpet": [
           {
            "marker": {
             "colorbar": {
              "outlinewidth": 0,
              "ticks": ""
             }
            },
            "type": "scattercarpet"
           }
          ],
          "scattergeo": [
           {
            "marker": {
             "colorbar": {
              "outlinewidth": 0,
              "ticks": ""
             }
            },
            "type": "scattergeo"
           }
          ],
          "scattergl": [
           {
            "marker": {
             "colorbar": {
              "outlinewidth": 0,
              "ticks": ""
             }
            },
            "type": "scattergl"
           }
          ],
          "scattermapbox": [
           {
            "marker": {
             "colorbar": {
              "outlinewidth": 0,
              "ticks": ""
             }
            },
            "type": "scattermapbox"
           }
          ],
          "scatterpolar": [
           {
            "marker": {
             "colorbar": {
              "outlinewidth": 0,
              "ticks": ""
             }
            },
            "type": "scatterpolar"
           }
          ],
          "scatterpolargl": [
           {
            "marker": {
             "colorbar": {
              "outlinewidth": 0,
              "ticks": ""
             }
            },
            "type": "scatterpolargl"
           }
          ],
          "scatterternary": [
           {
            "marker": {
             "colorbar": {
              "outlinewidth": 0,
              "ticks": ""
             }
            },
            "type": "scatterternary"
           }
          ],
          "surface": [
           {
            "colorbar": {
             "outlinewidth": 0,
             "ticks": ""
            },
            "colorscale": [
             [
              0,
              "#0d0887"
             ],
             [
              0.1111111111111111,
              "#46039f"
             ],
             [
              0.2222222222222222,
              "#7201a8"
             ],
             [
              0.3333333333333333,
              "#9c179e"
             ],
             [
              0.4444444444444444,
              "#bd3786"
             ],
             [
              0.5555555555555556,
              "#d8576b"
             ],
             [
              0.6666666666666666,
              "#ed7953"
             ],
             [
              0.7777777777777778,
              "#fb9f3a"
             ],
             [
              0.8888888888888888,
              "#fdca26"
             ],
             [
              1,
              "#f0f921"
             ]
            ],
            "type": "surface"
           }
          ],
          "table": [
           {
            "cells": {
             "fill": {
              "color": "#EBF0F8"
             },
             "line": {
              "color": "white"
             }
            },
            "header": {
             "fill": {
              "color": "#C8D4E3"
             },
             "line": {
              "color": "white"
             }
            },
            "type": "table"
           }
          ]
         },
         "layout": {
          "annotationdefaults": {
           "arrowcolor": "#2a3f5f",
           "arrowhead": 0,
           "arrowwidth": 1
          },
          "autotypenumbers": "strict",
          "coloraxis": {
           "colorbar": {
            "outlinewidth": 0,
            "ticks": ""
           }
          },
          "colorscale": {
           "diverging": [
            [
             0,
             "#8e0152"
            ],
            [
             0.1,
             "#c51b7d"
            ],
            [
             0.2,
             "#de77ae"
            ],
            [
             0.3,
             "#f1b6da"
            ],
            [
             0.4,
             "#fde0ef"
            ],
            [
             0.5,
             "#f7f7f7"
            ],
            [
             0.6,
             "#e6f5d0"
            ],
            [
             0.7,
             "#b8e186"
            ],
            [
             0.8,
             "#7fbc41"
            ],
            [
             0.9,
             "#4d9221"
            ],
            [
             1,
             "#276419"
            ]
           ],
           "sequential": [
            [
             0,
             "#0d0887"
            ],
            [
             0.1111111111111111,
             "#46039f"
            ],
            [
             0.2222222222222222,
             "#7201a8"
            ],
            [
             0.3333333333333333,
             "#9c179e"
            ],
            [
             0.4444444444444444,
             "#bd3786"
            ],
            [
             0.5555555555555556,
             "#d8576b"
            ],
            [
             0.6666666666666666,
             "#ed7953"
            ],
            [
             0.7777777777777778,
             "#fb9f3a"
            ],
            [
             0.8888888888888888,
             "#fdca26"
            ],
            [
             1,
             "#f0f921"
            ]
           ],
           "sequentialminus": [
            [
             0,
             "#0d0887"
            ],
            [
             0.1111111111111111,
             "#46039f"
            ],
            [
             0.2222222222222222,
             "#7201a8"
            ],
            [
             0.3333333333333333,
             "#9c179e"
            ],
            [
             0.4444444444444444,
             "#bd3786"
            ],
            [
             0.5555555555555556,
             "#d8576b"
            ],
            [
             0.6666666666666666,
             "#ed7953"
            ],
            [
             0.7777777777777778,
             "#fb9f3a"
            ],
            [
             0.8888888888888888,
             "#fdca26"
            ],
            [
             1,
             "#f0f921"
            ]
           ]
          },
          "colorway": [
           "#636efa",
           "#EF553B",
           "#00cc96",
           "#ab63fa",
           "#FFA15A",
           "#19d3f3",
           "#FF6692",
           "#B6E880",
           "#FF97FF",
           "#FECB52"
          ],
          "font": {
           "color": "#2a3f5f"
          },
          "geo": {
           "bgcolor": "white",
           "lakecolor": "white",
           "landcolor": "#E5ECF6",
           "showlakes": true,
           "showland": true,
           "subunitcolor": "white"
          },
          "hoverlabel": {
           "align": "left"
          },
          "hovermode": "closest",
          "mapbox": {
           "style": "light"
          },
          "paper_bgcolor": "white",
          "plot_bgcolor": "#E5ECF6",
          "polar": {
           "angularaxis": {
            "gridcolor": "white",
            "linecolor": "white",
            "ticks": ""
           },
           "bgcolor": "#E5ECF6",
           "radialaxis": {
            "gridcolor": "white",
            "linecolor": "white",
            "ticks": ""
           }
          },
          "scene": {
           "xaxis": {
            "backgroundcolor": "#E5ECF6",
            "gridcolor": "white",
            "gridwidth": 2,
            "linecolor": "white",
            "showbackground": true,
            "ticks": "",
            "zerolinecolor": "white"
           },
           "yaxis": {
            "backgroundcolor": "#E5ECF6",
            "gridcolor": "white",
            "gridwidth": 2,
            "linecolor": "white",
            "showbackground": true,
            "ticks": "",
            "zerolinecolor": "white"
           },
           "zaxis": {
            "backgroundcolor": "#E5ECF6",
            "gridcolor": "white",
            "gridwidth": 2,
            "linecolor": "white",
            "showbackground": true,
            "ticks": "",
            "zerolinecolor": "white"
           }
          },
          "shapedefaults": {
           "line": {
            "color": "#2a3f5f"
           }
          },
          "ternary": {
           "aaxis": {
            "gridcolor": "white",
            "linecolor": "white",
            "ticks": ""
           },
           "baxis": {
            "gridcolor": "white",
            "linecolor": "white",
            "ticks": ""
           },
           "bgcolor": "#E5ECF6",
           "caxis": {
            "gridcolor": "white",
            "linecolor": "white",
            "ticks": ""
           }
          },
          "title": {
           "x": 0.05
          },
          "xaxis": {
           "automargin": true,
           "gridcolor": "white",
           "linecolor": "white",
           "ticks": "",
           "title": {
            "standoff": 15
           },
           "zerolinecolor": "white",
           "zerolinewidth": 2
          },
          "yaxis": {
           "automargin": true,
           "gridcolor": "white",
           "linecolor": "white",
           "ticks": "",
           "title": {
            "standoff": 15
           },
           "zerolinecolor": "white",
           "zerolinewidth": 2
          }
         }
        },
        "xaxis": {
         "anchor": "y",
         "domain": [
          0,
          1
         ],
         "title": {
          "text": "Percent with dog"
         }
        },
        "yaxis": {
         "anchor": "x",
         "domain": [
          0,
          1
         ],
         "title": {
          "text": "Percentage"
         }
        }
       }
      }
     },
     "metadata": {},
     "output_type": "display_data"
    }
   ],
   "source": [
    "plot_attribute('Pct No Bedroom')"
   ]
  },
  {
   "cell_type": "code",
   "execution_count": 380,
   "metadata": {},
   "outputs": [
    {
     "data": {
      "application/vnd.plotly.v1+json": {
       "config": {
        "plotlyServerURL": "https://plot.ly"
       },
       "data": [
        {
         "hovertemplate": "variable=Pct 1 Bedroom<br>households_with_dog_pct=%{x}<br>value=%{y}<extra></extra>",
         "legendgroup": "Pct 1 Bedroom",
         "marker": {
          "color": "#636efa",
          "symbol": "circle"
         },
         "mode": "markers",
         "name": "Pct 1 Bedroom",
         "orientation": "v",
         "showlegend": true,
         "type": "scatter",
         "x": [
          1.7824640682859474,
          1.3575787769336156,
          1.400560224089636,
          1.9224108070661587,
          0.013821063300469916,
          1.7188020758939198,
          2.1157464775804304,
          1.5148698884758365,
          1.2624310815685063,
          1.668956043956044,
          0.028694404591104734,
          0.5966587112171837,
          1.633313713949382,
          1.9867549668874174,
          0.46728971962616817,
          1.7169331395348837,
          0.2244596934521901,
          0.0239477938094953,
          2.495800335973122,
          0.03003003003003003,
          0.03647505106507149,
          0.0196811651249754,
          1.3429065283871826,
          0.039300451955197484,
          0.02740289100500103,
          1.5619109172187213,
          1.0862078100990833,
          1.7099274203469061,
          1.0581140350877194,
          1.055905705164934,
          1.2191183594380752,
          1.2032617342879872,
          1.255899528037757,
          2.1990369181380416,
          1.7927029415477844,
          1.7767227737016258,
          2.25705329153605,
          1.2700534759358288,
          1.1313639220615965,
          1.3525144473134143,
          1.8306636155606408,
          3.194726166328601,
          1.7157225262535127,
          1.31697636658849,
          1.9406216174424,
          1.3544303797468353,
          2.141346492774057,
          2.0222446916076846,
          2.1967468939439407,
          2.3865994663504297
         ],
         "xaxis": "x",
         "y": [
          6.2,
          3,
          17,
          8.8,
          17.1,
          10.5,
          6.2,
          15.4,
          17.1,
          10,
          11.9,
          17.3,
          5,
          10.2,
          2.9,
          3.6,
          12.1,
          9.1,
          2.6,
          30.9,
          11,
          13.8,
          11.6,
          12.6,
          11,
          9.3,
          18.8,
          10,
          19.9,
          20.2,
          18,
          17.9,
          24.5,
          4.1,
          8.9,
          11.9,
          3.1,
          22.7,
          20.2,
          10.2,
          13.8,
          1.1,
          5.4,
          22.3,
          7,
          25.4,
          4.9,
          7.6,
          2.4,
          4
         ],
         "yaxis": "y"
        }
       ],
       "layout": {
        "legend": {
         "title": {
          "text": "Demographics"
         },
         "tracegroupgap": 0
        },
        "margin": {
         "t": 60
        },
        "template": {
         "data": {
          "bar": [
           {
            "error_x": {
             "color": "#2a3f5f"
            },
            "error_y": {
             "color": "#2a3f5f"
            },
            "marker": {
             "line": {
              "color": "#E5ECF6",
              "width": 0.5
             },
             "pattern": {
              "fillmode": "overlay",
              "size": 10,
              "solidity": 0.2
             }
            },
            "type": "bar"
           }
          ],
          "barpolar": [
           {
            "marker": {
             "line": {
              "color": "#E5ECF6",
              "width": 0.5
             },
             "pattern": {
              "fillmode": "overlay",
              "size": 10,
              "solidity": 0.2
             }
            },
            "type": "barpolar"
           }
          ],
          "carpet": [
           {
            "aaxis": {
             "endlinecolor": "#2a3f5f",
             "gridcolor": "white",
             "linecolor": "white",
             "minorgridcolor": "white",
             "startlinecolor": "#2a3f5f"
            },
            "baxis": {
             "endlinecolor": "#2a3f5f",
             "gridcolor": "white",
             "linecolor": "white",
             "minorgridcolor": "white",
             "startlinecolor": "#2a3f5f"
            },
            "type": "carpet"
           }
          ],
          "choropleth": [
           {
            "colorbar": {
             "outlinewidth": 0,
             "ticks": ""
            },
            "type": "choropleth"
           }
          ],
          "contour": [
           {
            "colorbar": {
             "outlinewidth": 0,
             "ticks": ""
            },
            "colorscale": [
             [
              0,
              "#0d0887"
             ],
             [
              0.1111111111111111,
              "#46039f"
             ],
             [
              0.2222222222222222,
              "#7201a8"
             ],
             [
              0.3333333333333333,
              "#9c179e"
             ],
             [
              0.4444444444444444,
              "#bd3786"
             ],
             [
              0.5555555555555556,
              "#d8576b"
             ],
             [
              0.6666666666666666,
              "#ed7953"
             ],
             [
              0.7777777777777778,
              "#fb9f3a"
             ],
             [
              0.8888888888888888,
              "#fdca26"
             ],
             [
              1,
              "#f0f921"
             ]
            ],
            "type": "contour"
           }
          ],
          "contourcarpet": [
           {
            "colorbar": {
             "outlinewidth": 0,
             "ticks": ""
            },
            "type": "contourcarpet"
           }
          ],
          "heatmap": [
           {
            "colorbar": {
             "outlinewidth": 0,
             "ticks": ""
            },
            "colorscale": [
             [
              0,
              "#0d0887"
             ],
             [
              0.1111111111111111,
              "#46039f"
             ],
             [
              0.2222222222222222,
              "#7201a8"
             ],
             [
              0.3333333333333333,
              "#9c179e"
             ],
             [
              0.4444444444444444,
              "#bd3786"
             ],
             [
              0.5555555555555556,
              "#d8576b"
             ],
             [
              0.6666666666666666,
              "#ed7953"
             ],
             [
              0.7777777777777778,
              "#fb9f3a"
             ],
             [
              0.8888888888888888,
              "#fdca26"
             ],
             [
              1,
              "#f0f921"
             ]
            ],
            "type": "heatmap"
           }
          ],
          "heatmapgl": [
           {
            "colorbar": {
             "outlinewidth": 0,
             "ticks": ""
            },
            "colorscale": [
             [
              0,
              "#0d0887"
             ],
             [
              0.1111111111111111,
              "#46039f"
             ],
             [
              0.2222222222222222,
              "#7201a8"
             ],
             [
              0.3333333333333333,
              "#9c179e"
             ],
             [
              0.4444444444444444,
              "#bd3786"
             ],
             [
              0.5555555555555556,
              "#d8576b"
             ],
             [
              0.6666666666666666,
              "#ed7953"
             ],
             [
              0.7777777777777778,
              "#fb9f3a"
             ],
             [
              0.8888888888888888,
              "#fdca26"
             ],
             [
              1,
              "#f0f921"
             ]
            ],
            "type": "heatmapgl"
           }
          ],
          "histogram": [
           {
            "marker": {
             "pattern": {
              "fillmode": "overlay",
              "size": 10,
              "solidity": 0.2
             }
            },
            "type": "histogram"
           }
          ],
          "histogram2d": [
           {
            "colorbar": {
             "outlinewidth": 0,
             "ticks": ""
            },
            "colorscale": [
             [
              0,
              "#0d0887"
             ],
             [
              0.1111111111111111,
              "#46039f"
             ],
             [
              0.2222222222222222,
              "#7201a8"
             ],
             [
              0.3333333333333333,
              "#9c179e"
             ],
             [
              0.4444444444444444,
              "#bd3786"
             ],
             [
              0.5555555555555556,
              "#d8576b"
             ],
             [
              0.6666666666666666,
              "#ed7953"
             ],
             [
              0.7777777777777778,
              "#fb9f3a"
             ],
             [
              0.8888888888888888,
              "#fdca26"
             ],
             [
              1,
              "#f0f921"
             ]
            ],
            "type": "histogram2d"
           }
          ],
          "histogram2dcontour": [
           {
            "colorbar": {
             "outlinewidth": 0,
             "ticks": ""
            },
            "colorscale": [
             [
              0,
              "#0d0887"
             ],
             [
              0.1111111111111111,
              "#46039f"
             ],
             [
              0.2222222222222222,
              "#7201a8"
             ],
             [
              0.3333333333333333,
              "#9c179e"
             ],
             [
              0.4444444444444444,
              "#bd3786"
             ],
             [
              0.5555555555555556,
              "#d8576b"
             ],
             [
              0.6666666666666666,
              "#ed7953"
             ],
             [
              0.7777777777777778,
              "#fb9f3a"
             ],
             [
              0.8888888888888888,
              "#fdca26"
             ],
             [
              1,
              "#f0f921"
             ]
            ],
            "type": "histogram2dcontour"
           }
          ],
          "mesh3d": [
           {
            "colorbar": {
             "outlinewidth": 0,
             "ticks": ""
            },
            "type": "mesh3d"
           }
          ],
          "parcoords": [
           {
            "line": {
             "colorbar": {
              "outlinewidth": 0,
              "ticks": ""
             }
            },
            "type": "parcoords"
           }
          ],
          "pie": [
           {
            "automargin": true,
            "type": "pie"
           }
          ],
          "scatter": [
           {
            "fillpattern": {
             "fillmode": "overlay",
             "size": 10,
             "solidity": 0.2
            },
            "type": "scatter"
           }
          ],
          "scatter3d": [
           {
            "line": {
             "colorbar": {
              "outlinewidth": 0,
              "ticks": ""
             }
            },
            "marker": {
             "colorbar": {
              "outlinewidth": 0,
              "ticks": ""
             }
            },
            "type": "scatter3d"
           }
          ],
          "scattercarpet": [
           {
            "marker": {
             "colorbar": {
              "outlinewidth": 0,
              "ticks": ""
             }
            },
            "type": "scattercarpet"
           }
          ],
          "scattergeo": [
           {
            "marker": {
             "colorbar": {
              "outlinewidth": 0,
              "ticks": ""
             }
            },
            "type": "scattergeo"
           }
          ],
          "scattergl": [
           {
            "marker": {
             "colorbar": {
              "outlinewidth": 0,
              "ticks": ""
             }
            },
            "type": "scattergl"
           }
          ],
          "scattermapbox": [
           {
            "marker": {
             "colorbar": {
              "outlinewidth": 0,
              "ticks": ""
             }
            },
            "type": "scattermapbox"
           }
          ],
          "scatterpolar": [
           {
            "marker": {
             "colorbar": {
              "outlinewidth": 0,
              "ticks": ""
             }
            },
            "type": "scatterpolar"
           }
          ],
          "scatterpolargl": [
           {
            "marker": {
             "colorbar": {
              "outlinewidth": 0,
              "ticks": ""
             }
            },
            "type": "scatterpolargl"
           }
          ],
          "scatterternary": [
           {
            "marker": {
             "colorbar": {
              "outlinewidth": 0,
              "ticks": ""
             }
            },
            "type": "scatterternary"
           }
          ],
          "surface": [
           {
            "colorbar": {
             "outlinewidth": 0,
             "ticks": ""
            },
            "colorscale": [
             [
              0,
              "#0d0887"
             ],
             [
              0.1111111111111111,
              "#46039f"
             ],
             [
              0.2222222222222222,
              "#7201a8"
             ],
             [
              0.3333333333333333,
              "#9c179e"
             ],
             [
              0.4444444444444444,
              "#bd3786"
             ],
             [
              0.5555555555555556,
              "#d8576b"
             ],
             [
              0.6666666666666666,
              "#ed7953"
             ],
             [
              0.7777777777777778,
              "#fb9f3a"
             ],
             [
              0.8888888888888888,
              "#fdca26"
             ],
             [
              1,
              "#f0f921"
             ]
            ],
            "type": "surface"
           }
          ],
          "table": [
           {
            "cells": {
             "fill": {
              "color": "#EBF0F8"
             },
             "line": {
              "color": "white"
             }
            },
            "header": {
             "fill": {
              "color": "#C8D4E3"
             },
             "line": {
              "color": "white"
             }
            },
            "type": "table"
           }
          ]
         },
         "layout": {
          "annotationdefaults": {
           "arrowcolor": "#2a3f5f",
           "arrowhead": 0,
           "arrowwidth": 1
          },
          "autotypenumbers": "strict",
          "coloraxis": {
           "colorbar": {
            "outlinewidth": 0,
            "ticks": ""
           }
          },
          "colorscale": {
           "diverging": [
            [
             0,
             "#8e0152"
            ],
            [
             0.1,
             "#c51b7d"
            ],
            [
             0.2,
             "#de77ae"
            ],
            [
             0.3,
             "#f1b6da"
            ],
            [
             0.4,
             "#fde0ef"
            ],
            [
             0.5,
             "#f7f7f7"
            ],
            [
             0.6,
             "#e6f5d0"
            ],
            [
             0.7,
             "#b8e186"
            ],
            [
             0.8,
             "#7fbc41"
            ],
            [
             0.9,
             "#4d9221"
            ],
            [
             1,
             "#276419"
            ]
           ],
           "sequential": [
            [
             0,
             "#0d0887"
            ],
            [
             0.1111111111111111,
             "#46039f"
            ],
            [
             0.2222222222222222,
             "#7201a8"
            ],
            [
             0.3333333333333333,
             "#9c179e"
            ],
            [
             0.4444444444444444,
             "#bd3786"
            ],
            [
             0.5555555555555556,
             "#d8576b"
            ],
            [
             0.6666666666666666,
             "#ed7953"
            ],
            [
             0.7777777777777778,
             "#fb9f3a"
            ],
            [
             0.8888888888888888,
             "#fdca26"
            ],
            [
             1,
             "#f0f921"
            ]
           ],
           "sequentialminus": [
            [
             0,
             "#0d0887"
            ],
            [
             0.1111111111111111,
             "#46039f"
            ],
            [
             0.2222222222222222,
             "#7201a8"
            ],
            [
             0.3333333333333333,
             "#9c179e"
            ],
            [
             0.4444444444444444,
             "#bd3786"
            ],
            [
             0.5555555555555556,
             "#d8576b"
            ],
            [
             0.6666666666666666,
             "#ed7953"
            ],
            [
             0.7777777777777778,
             "#fb9f3a"
            ],
            [
             0.8888888888888888,
             "#fdca26"
            ],
            [
             1,
             "#f0f921"
            ]
           ]
          },
          "colorway": [
           "#636efa",
           "#EF553B",
           "#00cc96",
           "#ab63fa",
           "#FFA15A",
           "#19d3f3",
           "#FF6692",
           "#B6E880",
           "#FF97FF",
           "#FECB52"
          ],
          "font": {
           "color": "#2a3f5f"
          },
          "geo": {
           "bgcolor": "white",
           "lakecolor": "white",
           "landcolor": "#E5ECF6",
           "showlakes": true,
           "showland": true,
           "subunitcolor": "white"
          },
          "hoverlabel": {
           "align": "left"
          },
          "hovermode": "closest",
          "mapbox": {
           "style": "light"
          },
          "paper_bgcolor": "white",
          "plot_bgcolor": "#E5ECF6",
          "polar": {
           "angularaxis": {
            "gridcolor": "white",
            "linecolor": "white",
            "ticks": ""
           },
           "bgcolor": "#E5ECF6",
           "radialaxis": {
            "gridcolor": "white",
            "linecolor": "white",
            "ticks": ""
           }
          },
          "scene": {
           "xaxis": {
            "backgroundcolor": "#E5ECF6",
            "gridcolor": "white",
            "gridwidth": 2,
            "linecolor": "white",
            "showbackground": true,
            "ticks": "",
            "zerolinecolor": "white"
           },
           "yaxis": {
            "backgroundcolor": "#E5ECF6",
            "gridcolor": "white",
            "gridwidth": 2,
            "linecolor": "white",
            "showbackground": true,
            "ticks": "",
            "zerolinecolor": "white"
           },
           "zaxis": {
            "backgroundcolor": "#E5ECF6",
            "gridcolor": "white",
            "gridwidth": 2,
            "linecolor": "white",
            "showbackground": true,
            "ticks": "",
            "zerolinecolor": "white"
           }
          },
          "shapedefaults": {
           "line": {
            "color": "#2a3f5f"
           }
          },
          "ternary": {
           "aaxis": {
            "gridcolor": "white",
            "linecolor": "white",
            "ticks": ""
           },
           "baxis": {
            "gridcolor": "white",
            "linecolor": "white",
            "ticks": ""
           },
           "bgcolor": "#E5ECF6",
           "caxis": {
            "gridcolor": "white",
            "linecolor": "white",
            "ticks": ""
           }
          },
          "title": {
           "x": 0.05
          },
          "xaxis": {
           "automargin": true,
           "gridcolor": "white",
           "linecolor": "white",
           "ticks": "",
           "title": {
            "standoff": 15
           },
           "zerolinecolor": "white",
           "zerolinewidth": 2
          },
          "yaxis": {
           "automargin": true,
           "gridcolor": "white",
           "linecolor": "white",
           "ticks": "",
           "title": {
            "standoff": 15
           },
           "zerolinecolor": "white",
           "zerolinewidth": 2
          }
         }
        },
        "xaxis": {
         "anchor": "y",
         "domain": [
          0,
          1
         ],
         "title": {
          "text": "Percent with dog"
         }
        },
        "yaxis": {
         "anchor": "x",
         "domain": [
          0,
          1
         ],
         "title": {
          "text": "Percentage"
         }
        }
       }
      }
     },
     "metadata": {},
     "output_type": "display_data"
    }
   ],
   "source": [
    "plot_attribute('Pct 1 Bedroom')"
   ]
  },
  {
   "cell_type": "code",
   "execution_count": 381,
   "metadata": {},
   "outputs": [
    {
     "data": {
      "application/vnd.plotly.v1+json": {
       "config": {
        "plotlyServerURL": "https://plot.ly"
       },
       "data": [
        {
         "hovertemplate": "variable=Pct 2 Bedrooms<br>households_with_dog_pct=%{x}<br>value=%{y}<extra></extra>",
         "legendgroup": "Pct 2 Bedrooms",
         "marker": {
          "color": "#636efa",
          "symbol": "circle"
         },
         "mode": "markers",
         "name": "Pct 2 Bedrooms",
         "orientation": "v",
         "showlegend": true,
         "type": "scatter",
         "x": [
          1.7824640682859474,
          1.3575787769336156,
          1.400560224089636,
          1.9224108070661587,
          0.013821063300469916,
          1.7188020758939198,
          2.1157464775804304,
          1.5148698884758365,
          1.2624310815685063,
          1.668956043956044,
          0.028694404591104734,
          0.5966587112171837,
          1.633313713949382,
          1.9867549668874174,
          0.46728971962616817,
          1.7169331395348837,
          0.2244596934521901,
          0.0239477938094953,
          2.495800335973122,
          0.03003003003003003,
          0.03647505106507149,
          0.0196811651249754,
          1.3429065283871826,
          0.039300451955197484,
          0.02740289100500103,
          1.5619109172187213,
          1.0862078100990833,
          1.7099274203469061,
          1.0581140350877194,
          1.055905705164934,
          1.2191183594380752,
          1.2032617342879872,
          1.255899528037757,
          2.1990369181380416,
          1.7927029415477844,
          1.7767227737016258,
          2.25705329153605,
          1.2700534759358288,
          1.1313639220615965,
          1.3525144473134143,
          1.8306636155606408,
          3.194726166328601,
          1.7157225262535127,
          1.31697636658849,
          1.9406216174424,
          1.3544303797468353,
          2.141346492774057,
          2.0222446916076846,
          2.1967468939439407,
          2.3865994663504297
         ],
         "xaxis": "x",
         "y": [
          19.2,
          22.4,
          36,
          19.5,
          39.9,
          25.9,
          22.8,
          30.6,
          33.3,
          30.3,
          30.3,
          29.8,
          25.9,
          34.2,
          13,
          12.2,
          30.8,
          14.8,
          18.9,
          33.5,
          32.4,
          26.7,
          19.2,
          24.4,
          34.2,
          13.5,
          32.2,
          29.2,
          38.2,
          32.2,
          27.7,
          34.9,
          29.2,
          12.3,
          22.4,
          25.2,
          12.3,
          26.6,
          35.2,
          22.8,
          16.5,
          0.9,
          23.5,
          35.2,
          16.8,
          38,
          21.7,
          27.5,
          10.3,
          13
         ],
         "yaxis": "y"
        }
       ],
       "layout": {
        "legend": {
         "title": {
          "text": "Demographics"
         },
         "tracegroupgap": 0
        },
        "margin": {
         "t": 60
        },
        "template": {
         "data": {
          "bar": [
           {
            "error_x": {
             "color": "#2a3f5f"
            },
            "error_y": {
             "color": "#2a3f5f"
            },
            "marker": {
             "line": {
              "color": "#E5ECF6",
              "width": 0.5
             },
             "pattern": {
              "fillmode": "overlay",
              "size": 10,
              "solidity": 0.2
             }
            },
            "type": "bar"
           }
          ],
          "barpolar": [
           {
            "marker": {
             "line": {
              "color": "#E5ECF6",
              "width": 0.5
             },
             "pattern": {
              "fillmode": "overlay",
              "size": 10,
              "solidity": 0.2
             }
            },
            "type": "barpolar"
           }
          ],
          "carpet": [
           {
            "aaxis": {
             "endlinecolor": "#2a3f5f",
             "gridcolor": "white",
             "linecolor": "white",
             "minorgridcolor": "white",
             "startlinecolor": "#2a3f5f"
            },
            "baxis": {
             "endlinecolor": "#2a3f5f",
             "gridcolor": "white",
             "linecolor": "white",
             "minorgridcolor": "white",
             "startlinecolor": "#2a3f5f"
            },
            "type": "carpet"
           }
          ],
          "choropleth": [
           {
            "colorbar": {
             "outlinewidth": 0,
             "ticks": ""
            },
            "type": "choropleth"
           }
          ],
          "contour": [
           {
            "colorbar": {
             "outlinewidth": 0,
             "ticks": ""
            },
            "colorscale": [
             [
              0,
              "#0d0887"
             ],
             [
              0.1111111111111111,
              "#46039f"
             ],
             [
              0.2222222222222222,
              "#7201a8"
             ],
             [
              0.3333333333333333,
              "#9c179e"
             ],
             [
              0.4444444444444444,
              "#bd3786"
             ],
             [
              0.5555555555555556,
              "#d8576b"
             ],
             [
              0.6666666666666666,
              "#ed7953"
             ],
             [
              0.7777777777777778,
              "#fb9f3a"
             ],
             [
              0.8888888888888888,
              "#fdca26"
             ],
             [
              1,
              "#f0f921"
             ]
            ],
            "type": "contour"
           }
          ],
          "contourcarpet": [
           {
            "colorbar": {
             "outlinewidth": 0,
             "ticks": ""
            },
            "type": "contourcarpet"
           }
          ],
          "heatmap": [
           {
            "colorbar": {
             "outlinewidth": 0,
             "ticks": ""
            },
            "colorscale": [
             [
              0,
              "#0d0887"
             ],
             [
              0.1111111111111111,
              "#46039f"
             ],
             [
              0.2222222222222222,
              "#7201a8"
             ],
             [
              0.3333333333333333,
              "#9c179e"
             ],
             [
              0.4444444444444444,
              "#bd3786"
             ],
             [
              0.5555555555555556,
              "#d8576b"
             ],
             [
              0.6666666666666666,
              "#ed7953"
             ],
             [
              0.7777777777777778,
              "#fb9f3a"
             ],
             [
              0.8888888888888888,
              "#fdca26"
             ],
             [
              1,
              "#f0f921"
             ]
            ],
            "type": "heatmap"
           }
          ],
          "heatmapgl": [
           {
            "colorbar": {
             "outlinewidth": 0,
             "ticks": ""
            },
            "colorscale": [
             [
              0,
              "#0d0887"
             ],
             [
              0.1111111111111111,
              "#46039f"
             ],
             [
              0.2222222222222222,
              "#7201a8"
             ],
             [
              0.3333333333333333,
              "#9c179e"
             ],
             [
              0.4444444444444444,
              "#bd3786"
             ],
             [
              0.5555555555555556,
              "#d8576b"
             ],
             [
              0.6666666666666666,
              "#ed7953"
             ],
             [
              0.7777777777777778,
              "#fb9f3a"
             ],
             [
              0.8888888888888888,
              "#fdca26"
             ],
             [
              1,
              "#f0f921"
             ]
            ],
            "type": "heatmapgl"
           }
          ],
          "histogram": [
           {
            "marker": {
             "pattern": {
              "fillmode": "overlay",
              "size": 10,
              "solidity": 0.2
             }
            },
            "type": "histogram"
           }
          ],
          "histogram2d": [
           {
            "colorbar": {
             "outlinewidth": 0,
             "ticks": ""
            },
            "colorscale": [
             [
              0,
              "#0d0887"
             ],
             [
              0.1111111111111111,
              "#46039f"
             ],
             [
              0.2222222222222222,
              "#7201a8"
             ],
             [
              0.3333333333333333,
              "#9c179e"
             ],
             [
              0.4444444444444444,
              "#bd3786"
             ],
             [
              0.5555555555555556,
              "#d8576b"
             ],
             [
              0.6666666666666666,
              "#ed7953"
             ],
             [
              0.7777777777777778,
              "#fb9f3a"
             ],
             [
              0.8888888888888888,
              "#fdca26"
             ],
             [
              1,
              "#f0f921"
             ]
            ],
            "type": "histogram2d"
           }
          ],
          "histogram2dcontour": [
           {
            "colorbar": {
             "outlinewidth": 0,
             "ticks": ""
            },
            "colorscale": [
             [
              0,
              "#0d0887"
             ],
             [
              0.1111111111111111,
              "#46039f"
             ],
             [
              0.2222222222222222,
              "#7201a8"
             ],
             [
              0.3333333333333333,
              "#9c179e"
             ],
             [
              0.4444444444444444,
              "#bd3786"
             ],
             [
              0.5555555555555556,
              "#d8576b"
             ],
             [
              0.6666666666666666,
              "#ed7953"
             ],
             [
              0.7777777777777778,
              "#fb9f3a"
             ],
             [
              0.8888888888888888,
              "#fdca26"
             ],
             [
              1,
              "#f0f921"
             ]
            ],
            "type": "histogram2dcontour"
           }
          ],
          "mesh3d": [
           {
            "colorbar": {
             "outlinewidth": 0,
             "ticks": ""
            },
            "type": "mesh3d"
           }
          ],
          "parcoords": [
           {
            "line": {
             "colorbar": {
              "outlinewidth": 0,
              "ticks": ""
             }
            },
            "type": "parcoords"
           }
          ],
          "pie": [
           {
            "automargin": true,
            "type": "pie"
           }
          ],
          "scatter": [
           {
            "fillpattern": {
             "fillmode": "overlay",
             "size": 10,
             "solidity": 0.2
            },
            "type": "scatter"
           }
          ],
          "scatter3d": [
           {
            "line": {
             "colorbar": {
              "outlinewidth": 0,
              "ticks": ""
             }
            },
            "marker": {
             "colorbar": {
              "outlinewidth": 0,
              "ticks": ""
             }
            },
            "type": "scatter3d"
           }
          ],
          "scattercarpet": [
           {
            "marker": {
             "colorbar": {
              "outlinewidth": 0,
              "ticks": ""
             }
            },
            "type": "scattercarpet"
           }
          ],
          "scattergeo": [
           {
            "marker": {
             "colorbar": {
              "outlinewidth": 0,
              "ticks": ""
             }
            },
            "type": "scattergeo"
           }
          ],
          "scattergl": [
           {
            "marker": {
             "colorbar": {
              "outlinewidth": 0,
              "ticks": ""
             }
            },
            "type": "scattergl"
           }
          ],
          "scattermapbox": [
           {
            "marker": {
             "colorbar": {
              "outlinewidth": 0,
              "ticks": ""
             }
            },
            "type": "scattermapbox"
           }
          ],
          "scatterpolar": [
           {
            "marker": {
             "colorbar": {
              "outlinewidth": 0,
              "ticks": ""
             }
            },
            "type": "scatterpolar"
           }
          ],
          "scatterpolargl": [
           {
            "marker": {
             "colorbar": {
              "outlinewidth": 0,
              "ticks": ""
             }
            },
            "type": "scatterpolargl"
           }
          ],
          "scatterternary": [
           {
            "marker": {
             "colorbar": {
              "outlinewidth": 0,
              "ticks": ""
             }
            },
            "type": "scatterternary"
           }
          ],
          "surface": [
           {
            "colorbar": {
             "outlinewidth": 0,
             "ticks": ""
            },
            "colorscale": [
             [
              0,
              "#0d0887"
             ],
             [
              0.1111111111111111,
              "#46039f"
             ],
             [
              0.2222222222222222,
              "#7201a8"
             ],
             [
              0.3333333333333333,
              "#9c179e"
             ],
             [
              0.4444444444444444,
              "#bd3786"
             ],
             [
              0.5555555555555556,
              "#d8576b"
             ],
             [
              0.6666666666666666,
              "#ed7953"
             ],
             [
              0.7777777777777778,
              "#fb9f3a"
             ],
             [
              0.8888888888888888,
              "#fdca26"
             ],
             [
              1,
              "#f0f921"
             ]
            ],
            "type": "surface"
           }
          ],
          "table": [
           {
            "cells": {
             "fill": {
              "color": "#EBF0F8"
             },
             "line": {
              "color": "white"
             }
            },
            "header": {
             "fill": {
              "color": "#C8D4E3"
             },
             "line": {
              "color": "white"
             }
            },
            "type": "table"
           }
          ]
         },
         "layout": {
          "annotationdefaults": {
           "arrowcolor": "#2a3f5f",
           "arrowhead": 0,
           "arrowwidth": 1
          },
          "autotypenumbers": "strict",
          "coloraxis": {
           "colorbar": {
            "outlinewidth": 0,
            "ticks": ""
           }
          },
          "colorscale": {
           "diverging": [
            [
             0,
             "#8e0152"
            ],
            [
             0.1,
             "#c51b7d"
            ],
            [
             0.2,
             "#de77ae"
            ],
            [
             0.3,
             "#f1b6da"
            ],
            [
             0.4,
             "#fde0ef"
            ],
            [
             0.5,
             "#f7f7f7"
            ],
            [
             0.6,
             "#e6f5d0"
            ],
            [
             0.7,
             "#b8e186"
            ],
            [
             0.8,
             "#7fbc41"
            ],
            [
             0.9,
             "#4d9221"
            ],
            [
             1,
             "#276419"
            ]
           ],
           "sequential": [
            [
             0,
             "#0d0887"
            ],
            [
             0.1111111111111111,
             "#46039f"
            ],
            [
             0.2222222222222222,
             "#7201a8"
            ],
            [
             0.3333333333333333,
             "#9c179e"
            ],
            [
             0.4444444444444444,
             "#bd3786"
            ],
            [
             0.5555555555555556,
             "#d8576b"
            ],
            [
             0.6666666666666666,
             "#ed7953"
            ],
            [
             0.7777777777777778,
             "#fb9f3a"
            ],
            [
             0.8888888888888888,
             "#fdca26"
            ],
            [
             1,
             "#f0f921"
            ]
           ],
           "sequentialminus": [
            [
             0,
             "#0d0887"
            ],
            [
             0.1111111111111111,
             "#46039f"
            ],
            [
             0.2222222222222222,
             "#7201a8"
            ],
            [
             0.3333333333333333,
             "#9c179e"
            ],
            [
             0.4444444444444444,
             "#bd3786"
            ],
            [
             0.5555555555555556,
             "#d8576b"
            ],
            [
             0.6666666666666666,
             "#ed7953"
            ],
            [
             0.7777777777777778,
             "#fb9f3a"
            ],
            [
             0.8888888888888888,
             "#fdca26"
            ],
            [
             1,
             "#f0f921"
            ]
           ]
          },
          "colorway": [
           "#636efa",
           "#EF553B",
           "#00cc96",
           "#ab63fa",
           "#FFA15A",
           "#19d3f3",
           "#FF6692",
           "#B6E880",
           "#FF97FF",
           "#FECB52"
          ],
          "font": {
           "color": "#2a3f5f"
          },
          "geo": {
           "bgcolor": "white",
           "lakecolor": "white",
           "landcolor": "#E5ECF6",
           "showlakes": true,
           "showland": true,
           "subunitcolor": "white"
          },
          "hoverlabel": {
           "align": "left"
          },
          "hovermode": "closest",
          "mapbox": {
           "style": "light"
          },
          "paper_bgcolor": "white",
          "plot_bgcolor": "#E5ECF6",
          "polar": {
           "angularaxis": {
            "gridcolor": "white",
            "linecolor": "white",
            "ticks": ""
           },
           "bgcolor": "#E5ECF6",
           "radialaxis": {
            "gridcolor": "white",
            "linecolor": "white",
            "ticks": ""
           }
          },
          "scene": {
           "xaxis": {
            "backgroundcolor": "#E5ECF6",
            "gridcolor": "white",
            "gridwidth": 2,
            "linecolor": "white",
            "showbackground": true,
            "ticks": "",
            "zerolinecolor": "white"
           },
           "yaxis": {
            "backgroundcolor": "#E5ECF6",
            "gridcolor": "white",
            "gridwidth": 2,
            "linecolor": "white",
            "showbackground": true,
            "ticks": "",
            "zerolinecolor": "white"
           },
           "zaxis": {
            "backgroundcolor": "#E5ECF6",
            "gridcolor": "white",
            "gridwidth": 2,
            "linecolor": "white",
            "showbackground": true,
            "ticks": "",
            "zerolinecolor": "white"
           }
          },
          "shapedefaults": {
           "line": {
            "color": "#2a3f5f"
           }
          },
          "ternary": {
           "aaxis": {
            "gridcolor": "white",
            "linecolor": "white",
            "ticks": ""
           },
           "baxis": {
            "gridcolor": "white",
            "linecolor": "white",
            "ticks": ""
           },
           "bgcolor": "#E5ECF6",
           "caxis": {
            "gridcolor": "white",
            "linecolor": "white",
            "ticks": ""
           }
          },
          "title": {
           "x": 0.05
          },
          "xaxis": {
           "automargin": true,
           "gridcolor": "white",
           "linecolor": "white",
           "ticks": "",
           "title": {
            "standoff": 15
           },
           "zerolinecolor": "white",
           "zerolinewidth": 2
          },
          "yaxis": {
           "automargin": true,
           "gridcolor": "white",
           "linecolor": "white",
           "ticks": "",
           "title": {
            "standoff": 15
           },
           "zerolinecolor": "white",
           "zerolinewidth": 2
          }
         }
        },
        "xaxis": {
         "anchor": "y",
         "domain": [
          0,
          1
         ],
         "title": {
          "text": "Percent with dog"
         }
        },
        "yaxis": {
         "anchor": "x",
         "domain": [
          0,
          1
         ],
         "title": {
          "text": "Percentage"
         }
        }
       }
      }
     },
     "metadata": {},
     "output_type": "display_data"
    }
   ],
   "source": [
    "plot_attribute('Pct 2 Bedrooms')"
   ]
  },
  {
   "cell_type": "code",
   "execution_count": 382,
   "metadata": {},
   "outputs": [
    {
     "data": {
      "application/vnd.plotly.v1+json": {
       "config": {
        "plotlyServerURL": "https://plot.ly"
       },
       "data": [
        {
         "hovertemplate": "variable=Pct 3 Bedrooms<br>households_with_dog_pct=%{x}<br>value=%{y}<extra></extra>",
         "legendgroup": "Pct 3 Bedrooms",
         "marker": {
          "color": "#636efa",
          "symbol": "circle"
         },
         "mode": "markers",
         "name": "Pct 3 Bedrooms",
         "orientation": "v",
         "showlegend": true,
         "type": "scatter",
         "x": [
          1.7824640682859474,
          1.3575787769336156,
          1.400560224089636,
          1.9224108070661587,
          0.013821063300469916,
          1.7188020758939198,
          2.1157464775804304,
          1.5148698884758365,
          1.2624310815685063,
          1.668956043956044,
          0.028694404591104734,
          0.5966587112171837,
          1.633313713949382,
          1.9867549668874174,
          0.46728971962616817,
          1.7169331395348837,
          0.2244596934521901,
          0.0239477938094953,
          2.495800335973122,
          0.03003003003003003,
          0.03647505106507149,
          0.0196811651249754,
          1.3429065283871826,
          0.039300451955197484,
          0.02740289100500103,
          1.5619109172187213,
          1.0862078100990833,
          1.7099274203469061,
          1.0581140350877194,
          1.055905705164934,
          1.2191183594380752,
          1.2032617342879872,
          1.255899528037757,
          2.1990369181380416,
          1.7927029415477844,
          1.7767227737016258,
          2.25705329153605,
          1.2700534759358288,
          1.1313639220615965,
          1.3525144473134143,
          1.8306636155606408,
          3.194726166328601,
          1.7157225262535127,
          1.31697636658849,
          1.9406216174424,
          1.3544303797468353,
          2.141346492774057,
          2.0222446916076846,
          2.1967468939439407,
          2.3865994663504297
         ],
         "xaxis": "x",
         "y": [
          36.9,
          41.8,
          25.1,
          36,
          29.1,
          29.5,
          34.6,
          26,
          29.2,
          31.3,
          35.2,
          37.3,
          33.4,
          32.6,
          58.6,
          24.6,
          28.4,
          36.5,
          38.3,
          17,
          33.4,
          30.3,
          24.5,
          35,
          33.9,
          29.3,
          26.3,
          29.2,
          24.7,
          31.7,
          30.9,
          30.9,
          22.7,
          38.4,
          29.6,
          32.4,
          26,
          25.7,
          30.3,
          34.8,
          31.6,
          15.8,
          40.9,
          28.1,
          36.1,
          24.2,
          30.8,
          28.3,
          34.8,
          28.3
         ],
         "yaxis": "y"
        }
       ],
       "layout": {
        "legend": {
         "title": {
          "text": "Demographics"
         },
         "tracegroupgap": 0
        },
        "margin": {
         "t": 60
        },
        "template": {
         "data": {
          "bar": [
           {
            "error_x": {
             "color": "#2a3f5f"
            },
            "error_y": {
             "color": "#2a3f5f"
            },
            "marker": {
             "line": {
              "color": "#E5ECF6",
              "width": 0.5
             },
             "pattern": {
              "fillmode": "overlay",
              "size": 10,
              "solidity": 0.2
             }
            },
            "type": "bar"
           }
          ],
          "barpolar": [
           {
            "marker": {
             "line": {
              "color": "#E5ECF6",
              "width": 0.5
             },
             "pattern": {
              "fillmode": "overlay",
              "size": 10,
              "solidity": 0.2
             }
            },
            "type": "barpolar"
           }
          ],
          "carpet": [
           {
            "aaxis": {
             "endlinecolor": "#2a3f5f",
             "gridcolor": "white",
             "linecolor": "white",
             "minorgridcolor": "white",
             "startlinecolor": "#2a3f5f"
            },
            "baxis": {
             "endlinecolor": "#2a3f5f",
             "gridcolor": "white",
             "linecolor": "white",
             "minorgridcolor": "white",
             "startlinecolor": "#2a3f5f"
            },
            "type": "carpet"
           }
          ],
          "choropleth": [
           {
            "colorbar": {
             "outlinewidth": 0,
             "ticks": ""
            },
            "type": "choropleth"
           }
          ],
          "contour": [
           {
            "colorbar": {
             "outlinewidth": 0,
             "ticks": ""
            },
            "colorscale": [
             [
              0,
              "#0d0887"
             ],
             [
              0.1111111111111111,
              "#46039f"
             ],
             [
              0.2222222222222222,
              "#7201a8"
             ],
             [
              0.3333333333333333,
              "#9c179e"
             ],
             [
              0.4444444444444444,
              "#bd3786"
             ],
             [
              0.5555555555555556,
              "#d8576b"
             ],
             [
              0.6666666666666666,
              "#ed7953"
             ],
             [
              0.7777777777777778,
              "#fb9f3a"
             ],
             [
              0.8888888888888888,
              "#fdca26"
             ],
             [
              1,
              "#f0f921"
             ]
            ],
            "type": "contour"
           }
          ],
          "contourcarpet": [
           {
            "colorbar": {
             "outlinewidth": 0,
             "ticks": ""
            },
            "type": "contourcarpet"
           }
          ],
          "heatmap": [
           {
            "colorbar": {
             "outlinewidth": 0,
             "ticks": ""
            },
            "colorscale": [
             [
              0,
              "#0d0887"
             ],
             [
              0.1111111111111111,
              "#46039f"
             ],
             [
              0.2222222222222222,
              "#7201a8"
             ],
             [
              0.3333333333333333,
              "#9c179e"
             ],
             [
              0.4444444444444444,
              "#bd3786"
             ],
             [
              0.5555555555555556,
              "#d8576b"
             ],
             [
              0.6666666666666666,
              "#ed7953"
             ],
             [
              0.7777777777777778,
              "#fb9f3a"
             ],
             [
              0.8888888888888888,
              "#fdca26"
             ],
             [
              1,
              "#f0f921"
             ]
            ],
            "type": "heatmap"
           }
          ],
          "heatmapgl": [
           {
            "colorbar": {
             "outlinewidth": 0,
             "ticks": ""
            },
            "colorscale": [
             [
              0,
              "#0d0887"
             ],
             [
              0.1111111111111111,
              "#46039f"
             ],
             [
              0.2222222222222222,
              "#7201a8"
             ],
             [
              0.3333333333333333,
              "#9c179e"
             ],
             [
              0.4444444444444444,
              "#bd3786"
             ],
             [
              0.5555555555555556,
              "#d8576b"
             ],
             [
              0.6666666666666666,
              "#ed7953"
             ],
             [
              0.7777777777777778,
              "#fb9f3a"
             ],
             [
              0.8888888888888888,
              "#fdca26"
             ],
             [
              1,
              "#f0f921"
             ]
            ],
            "type": "heatmapgl"
           }
          ],
          "histogram": [
           {
            "marker": {
             "pattern": {
              "fillmode": "overlay",
              "size": 10,
              "solidity": 0.2
             }
            },
            "type": "histogram"
           }
          ],
          "histogram2d": [
           {
            "colorbar": {
             "outlinewidth": 0,
             "ticks": ""
            },
            "colorscale": [
             [
              0,
              "#0d0887"
             ],
             [
              0.1111111111111111,
              "#46039f"
             ],
             [
              0.2222222222222222,
              "#7201a8"
             ],
             [
              0.3333333333333333,
              "#9c179e"
             ],
             [
              0.4444444444444444,
              "#bd3786"
             ],
             [
              0.5555555555555556,
              "#d8576b"
             ],
             [
              0.6666666666666666,
              "#ed7953"
             ],
             [
              0.7777777777777778,
              "#fb9f3a"
             ],
             [
              0.8888888888888888,
              "#fdca26"
             ],
             [
              1,
              "#f0f921"
             ]
            ],
            "type": "histogram2d"
           }
          ],
          "histogram2dcontour": [
           {
            "colorbar": {
             "outlinewidth": 0,
             "ticks": ""
            },
            "colorscale": [
             [
              0,
              "#0d0887"
             ],
             [
              0.1111111111111111,
              "#46039f"
             ],
             [
              0.2222222222222222,
              "#7201a8"
             ],
             [
              0.3333333333333333,
              "#9c179e"
             ],
             [
              0.4444444444444444,
              "#bd3786"
             ],
             [
              0.5555555555555556,
              "#d8576b"
             ],
             [
              0.6666666666666666,
              "#ed7953"
             ],
             [
              0.7777777777777778,
              "#fb9f3a"
             ],
             [
              0.8888888888888888,
              "#fdca26"
             ],
             [
              1,
              "#f0f921"
             ]
            ],
            "type": "histogram2dcontour"
           }
          ],
          "mesh3d": [
           {
            "colorbar": {
             "outlinewidth": 0,
             "ticks": ""
            },
            "type": "mesh3d"
           }
          ],
          "parcoords": [
           {
            "line": {
             "colorbar": {
              "outlinewidth": 0,
              "ticks": ""
             }
            },
            "type": "parcoords"
           }
          ],
          "pie": [
           {
            "automargin": true,
            "type": "pie"
           }
          ],
          "scatter": [
           {
            "fillpattern": {
             "fillmode": "overlay",
             "size": 10,
             "solidity": 0.2
            },
            "type": "scatter"
           }
          ],
          "scatter3d": [
           {
            "line": {
             "colorbar": {
              "outlinewidth": 0,
              "ticks": ""
             }
            },
            "marker": {
             "colorbar": {
              "outlinewidth": 0,
              "ticks": ""
             }
            },
            "type": "scatter3d"
           }
          ],
          "scattercarpet": [
           {
            "marker": {
             "colorbar": {
              "outlinewidth": 0,
              "ticks": ""
             }
            },
            "type": "scattercarpet"
           }
          ],
          "scattergeo": [
           {
            "marker": {
             "colorbar": {
              "outlinewidth": 0,
              "ticks": ""
             }
            },
            "type": "scattergeo"
           }
          ],
          "scattergl": [
           {
            "marker": {
             "colorbar": {
              "outlinewidth": 0,
              "ticks": ""
             }
            },
            "type": "scattergl"
           }
          ],
          "scattermapbox": [
           {
            "marker": {
             "colorbar": {
              "outlinewidth": 0,
              "ticks": ""
             }
            },
            "type": "scattermapbox"
           }
          ],
          "scatterpolar": [
           {
            "marker": {
             "colorbar": {
              "outlinewidth": 0,
              "ticks": ""
             }
            },
            "type": "scatterpolar"
           }
          ],
          "scatterpolargl": [
           {
            "marker": {
             "colorbar": {
              "outlinewidth": 0,
              "ticks": ""
             }
            },
            "type": "scatterpolargl"
           }
          ],
          "scatterternary": [
           {
            "marker": {
             "colorbar": {
              "outlinewidth": 0,
              "ticks": ""
             }
            },
            "type": "scatterternary"
           }
          ],
          "surface": [
           {
            "colorbar": {
             "outlinewidth": 0,
             "ticks": ""
            },
            "colorscale": [
             [
              0,
              "#0d0887"
             ],
             [
              0.1111111111111111,
              "#46039f"
             ],
             [
              0.2222222222222222,
              "#7201a8"
             ],
             [
              0.3333333333333333,
              "#9c179e"
             ],
             [
              0.4444444444444444,
              "#bd3786"
             ],
             [
              0.5555555555555556,
              "#d8576b"
             ],
             [
              0.6666666666666666,
              "#ed7953"
             ],
             [
              0.7777777777777778,
              "#fb9f3a"
             ],
             [
              0.8888888888888888,
              "#fdca26"
             ],
             [
              1,
              "#f0f921"
             ]
            ],
            "type": "surface"
           }
          ],
          "table": [
           {
            "cells": {
             "fill": {
              "color": "#EBF0F8"
             },
             "line": {
              "color": "white"
             }
            },
            "header": {
             "fill": {
              "color": "#C8D4E3"
             },
             "line": {
              "color": "white"
             }
            },
            "type": "table"
           }
          ]
         },
         "layout": {
          "annotationdefaults": {
           "arrowcolor": "#2a3f5f",
           "arrowhead": 0,
           "arrowwidth": 1
          },
          "autotypenumbers": "strict",
          "coloraxis": {
           "colorbar": {
            "outlinewidth": 0,
            "ticks": ""
           }
          },
          "colorscale": {
           "diverging": [
            [
             0,
             "#8e0152"
            ],
            [
             0.1,
             "#c51b7d"
            ],
            [
             0.2,
             "#de77ae"
            ],
            [
             0.3,
             "#f1b6da"
            ],
            [
             0.4,
             "#fde0ef"
            ],
            [
             0.5,
             "#f7f7f7"
            ],
            [
             0.6,
             "#e6f5d0"
            ],
            [
             0.7,
             "#b8e186"
            ],
            [
             0.8,
             "#7fbc41"
            ],
            [
             0.9,
             "#4d9221"
            ],
            [
             1,
             "#276419"
            ]
           ],
           "sequential": [
            [
             0,
             "#0d0887"
            ],
            [
             0.1111111111111111,
             "#46039f"
            ],
            [
             0.2222222222222222,
             "#7201a8"
            ],
            [
             0.3333333333333333,
             "#9c179e"
            ],
            [
             0.4444444444444444,
             "#bd3786"
            ],
            [
             0.5555555555555556,
             "#d8576b"
            ],
            [
             0.6666666666666666,
             "#ed7953"
            ],
            [
             0.7777777777777778,
             "#fb9f3a"
            ],
            [
             0.8888888888888888,
             "#fdca26"
            ],
            [
             1,
             "#f0f921"
            ]
           ],
           "sequentialminus": [
            [
             0,
             "#0d0887"
            ],
            [
             0.1111111111111111,
             "#46039f"
            ],
            [
             0.2222222222222222,
             "#7201a8"
            ],
            [
             0.3333333333333333,
             "#9c179e"
            ],
            [
             0.4444444444444444,
             "#bd3786"
            ],
            [
             0.5555555555555556,
             "#d8576b"
            ],
            [
             0.6666666666666666,
             "#ed7953"
            ],
            [
             0.7777777777777778,
             "#fb9f3a"
            ],
            [
             0.8888888888888888,
             "#fdca26"
            ],
            [
             1,
             "#f0f921"
            ]
           ]
          },
          "colorway": [
           "#636efa",
           "#EF553B",
           "#00cc96",
           "#ab63fa",
           "#FFA15A",
           "#19d3f3",
           "#FF6692",
           "#B6E880",
           "#FF97FF",
           "#FECB52"
          ],
          "font": {
           "color": "#2a3f5f"
          },
          "geo": {
           "bgcolor": "white",
           "lakecolor": "white",
           "landcolor": "#E5ECF6",
           "showlakes": true,
           "showland": true,
           "subunitcolor": "white"
          },
          "hoverlabel": {
           "align": "left"
          },
          "hovermode": "closest",
          "mapbox": {
           "style": "light"
          },
          "paper_bgcolor": "white",
          "plot_bgcolor": "#E5ECF6",
          "polar": {
           "angularaxis": {
            "gridcolor": "white",
            "linecolor": "white",
            "ticks": ""
           },
           "bgcolor": "#E5ECF6",
           "radialaxis": {
            "gridcolor": "white",
            "linecolor": "white",
            "ticks": ""
           }
          },
          "scene": {
           "xaxis": {
            "backgroundcolor": "#E5ECF6",
            "gridcolor": "white",
            "gridwidth": 2,
            "linecolor": "white",
            "showbackground": true,
            "ticks": "",
            "zerolinecolor": "white"
           },
           "yaxis": {
            "backgroundcolor": "#E5ECF6",
            "gridcolor": "white",
            "gridwidth": 2,
            "linecolor": "white",
            "showbackground": true,
            "ticks": "",
            "zerolinecolor": "white"
           },
           "zaxis": {
            "backgroundcolor": "#E5ECF6",
            "gridcolor": "white",
            "gridwidth": 2,
            "linecolor": "white",
            "showbackground": true,
            "ticks": "",
            "zerolinecolor": "white"
           }
          },
          "shapedefaults": {
           "line": {
            "color": "#2a3f5f"
           }
          },
          "ternary": {
           "aaxis": {
            "gridcolor": "white",
            "linecolor": "white",
            "ticks": ""
           },
           "baxis": {
            "gridcolor": "white",
            "linecolor": "white",
            "ticks": ""
           },
           "bgcolor": "#E5ECF6",
           "caxis": {
            "gridcolor": "white",
            "linecolor": "white",
            "ticks": ""
           }
          },
          "title": {
           "x": 0.05
          },
          "xaxis": {
           "automargin": true,
           "gridcolor": "white",
           "linecolor": "white",
           "ticks": "",
           "title": {
            "standoff": 15
           },
           "zerolinecolor": "white",
           "zerolinewidth": 2
          },
          "yaxis": {
           "automargin": true,
           "gridcolor": "white",
           "linecolor": "white",
           "ticks": "",
           "title": {
            "standoff": 15
           },
           "zerolinecolor": "white",
           "zerolinewidth": 2
          }
         }
        },
        "xaxis": {
         "anchor": "y",
         "domain": [
          0,
          1
         ],
         "title": {
          "text": "Percent with dog"
         }
        },
        "yaxis": {
         "anchor": "x",
         "domain": [
          0,
          1
         ],
         "title": {
          "text": "Percentage"
         }
        }
       }
      }
     },
     "metadata": {},
     "output_type": "display_data"
    }
   ],
   "source": [
    "plot_attribute('Pct 3 Bedrooms')"
   ]
  },
  {
   "cell_type": "code",
   "execution_count": 383,
   "metadata": {},
   "outputs": [
    {
     "data": {
      "application/vnd.plotly.v1+json": {
       "config": {
        "plotlyServerURL": "https://plot.ly"
       },
       "data": [
        {
         "hovertemplate": "variable=Pct 4 Bedrooms<br>households_with_dog_pct=%{x}<br>value=%{y}<extra></extra>",
         "legendgroup": "Pct 4 Bedrooms",
         "marker": {
          "color": "#636efa",
          "symbol": "circle"
         },
         "mode": "markers",
         "name": "Pct 4 Bedrooms",
         "orientation": "v",
         "showlegend": true,
         "type": "scatter",
         "x": [
          1.7824640682859474,
          1.3575787769336156,
          1.400560224089636,
          1.9224108070661587,
          0.013821063300469916,
          1.7188020758939198,
          2.1157464775804304,
          1.5148698884758365,
          1.2624310815685063,
          1.668956043956044,
          0.028694404591104734,
          0.5966587112171837,
          1.633313713949382,
          1.9867549668874174,
          0.46728971962616817,
          1.7169331395348837,
          0.2244596934521901,
          0.0239477938094953,
          2.495800335973122,
          0.03003003003003003,
          0.03647505106507149,
          0.0196811651249754,
          1.3429065283871826,
          0.039300451955197484,
          0.02740289100500103,
          1.5619109172187213,
          1.0862078100990833,
          1.7099274203469061,
          1.0581140350877194,
          1.055905705164934,
          1.2191183594380752,
          1.2032617342879872,
          1.255899528037757,
          2.1990369181380416,
          1.7927029415477844,
          1.7767227737016258,
          2.25705329153605,
          1.2700534759358288,
          1.1313639220615965,
          1.3525144473134143,
          1.8306636155606408,
          3.194726166328601,
          1.7157225262535127,
          1.31697636658849,
          1.9406216174424,
          1.3544303797468353,
          2.141346492774057,
          2.0222446916076846,
          2.1967468939439407,
          2.3865994663504297
         ],
         "xaxis": "x",
         "y": [
          29.8,
          27.6,
          8.7,
          25.2,
          8.3,
          26.5,
          29.1,
          21.3,
          12.6,
          20.7,
          15.8,
          7.7,
          23.5,
          8.3,
          18.8,
          34.6,
          20.6,
          31.5,
          27.8,
          5.1,
          16.6,
          19.9,
          30.9,
          19.4,
          15.1,
          36.8,
          15.5,
          19,
          10.8,
          11.5,
          15.9,
          9,
          16.6,
          35.1,
          26.6,
          22,
          44.5,
          15,
          7.2,
          21.6,
          29.7,
          50.3,
          25.7,
          7,
          29.3,
          4.2,
          33.6,
          28.7,
          39.7,
          39.8
         ],
         "yaxis": "y"
        }
       ],
       "layout": {
        "legend": {
         "title": {
          "text": "Demographics"
         },
         "tracegroupgap": 0
        },
        "margin": {
         "t": 60
        },
        "template": {
         "data": {
          "bar": [
           {
            "error_x": {
             "color": "#2a3f5f"
            },
            "error_y": {
             "color": "#2a3f5f"
            },
            "marker": {
             "line": {
              "color": "#E5ECF6",
              "width": 0.5
             },
             "pattern": {
              "fillmode": "overlay",
              "size": 10,
              "solidity": 0.2
             }
            },
            "type": "bar"
           }
          ],
          "barpolar": [
           {
            "marker": {
             "line": {
              "color": "#E5ECF6",
              "width": 0.5
             },
             "pattern": {
              "fillmode": "overlay",
              "size": 10,
              "solidity": 0.2
             }
            },
            "type": "barpolar"
           }
          ],
          "carpet": [
           {
            "aaxis": {
             "endlinecolor": "#2a3f5f",
             "gridcolor": "white",
             "linecolor": "white",
             "minorgridcolor": "white",
             "startlinecolor": "#2a3f5f"
            },
            "baxis": {
             "endlinecolor": "#2a3f5f",
             "gridcolor": "white",
             "linecolor": "white",
             "minorgridcolor": "white",
             "startlinecolor": "#2a3f5f"
            },
            "type": "carpet"
           }
          ],
          "choropleth": [
           {
            "colorbar": {
             "outlinewidth": 0,
             "ticks": ""
            },
            "type": "choropleth"
           }
          ],
          "contour": [
           {
            "colorbar": {
             "outlinewidth": 0,
             "ticks": ""
            },
            "colorscale": [
             [
              0,
              "#0d0887"
             ],
             [
              0.1111111111111111,
              "#46039f"
             ],
             [
              0.2222222222222222,
              "#7201a8"
             ],
             [
              0.3333333333333333,
              "#9c179e"
             ],
             [
              0.4444444444444444,
              "#bd3786"
             ],
             [
              0.5555555555555556,
              "#d8576b"
             ],
             [
              0.6666666666666666,
              "#ed7953"
             ],
             [
              0.7777777777777778,
              "#fb9f3a"
             ],
             [
              0.8888888888888888,
              "#fdca26"
             ],
             [
              1,
              "#f0f921"
             ]
            ],
            "type": "contour"
           }
          ],
          "contourcarpet": [
           {
            "colorbar": {
             "outlinewidth": 0,
             "ticks": ""
            },
            "type": "contourcarpet"
           }
          ],
          "heatmap": [
           {
            "colorbar": {
             "outlinewidth": 0,
             "ticks": ""
            },
            "colorscale": [
             [
              0,
              "#0d0887"
             ],
             [
              0.1111111111111111,
              "#46039f"
             ],
             [
              0.2222222222222222,
              "#7201a8"
             ],
             [
              0.3333333333333333,
              "#9c179e"
             ],
             [
              0.4444444444444444,
              "#bd3786"
             ],
             [
              0.5555555555555556,
              "#d8576b"
             ],
             [
              0.6666666666666666,
              "#ed7953"
             ],
             [
              0.7777777777777778,
              "#fb9f3a"
             ],
             [
              0.8888888888888888,
              "#fdca26"
             ],
             [
              1,
              "#f0f921"
             ]
            ],
            "type": "heatmap"
           }
          ],
          "heatmapgl": [
           {
            "colorbar": {
             "outlinewidth": 0,
             "ticks": ""
            },
            "colorscale": [
             [
              0,
              "#0d0887"
             ],
             [
              0.1111111111111111,
              "#46039f"
             ],
             [
              0.2222222222222222,
              "#7201a8"
             ],
             [
              0.3333333333333333,
              "#9c179e"
             ],
             [
              0.4444444444444444,
              "#bd3786"
             ],
             [
              0.5555555555555556,
              "#d8576b"
             ],
             [
              0.6666666666666666,
              "#ed7953"
             ],
             [
              0.7777777777777778,
              "#fb9f3a"
             ],
             [
              0.8888888888888888,
              "#fdca26"
             ],
             [
              1,
              "#f0f921"
             ]
            ],
            "type": "heatmapgl"
           }
          ],
          "histogram": [
           {
            "marker": {
             "pattern": {
              "fillmode": "overlay",
              "size": 10,
              "solidity": 0.2
             }
            },
            "type": "histogram"
           }
          ],
          "histogram2d": [
           {
            "colorbar": {
             "outlinewidth": 0,
             "ticks": ""
            },
            "colorscale": [
             [
              0,
              "#0d0887"
             ],
             [
              0.1111111111111111,
              "#46039f"
             ],
             [
              0.2222222222222222,
              "#7201a8"
             ],
             [
              0.3333333333333333,
              "#9c179e"
             ],
             [
              0.4444444444444444,
              "#bd3786"
             ],
             [
              0.5555555555555556,
              "#d8576b"
             ],
             [
              0.6666666666666666,
              "#ed7953"
             ],
             [
              0.7777777777777778,
              "#fb9f3a"
             ],
             [
              0.8888888888888888,
              "#fdca26"
             ],
             [
              1,
              "#f0f921"
             ]
            ],
            "type": "histogram2d"
           }
          ],
          "histogram2dcontour": [
           {
            "colorbar": {
             "outlinewidth": 0,
             "ticks": ""
            },
            "colorscale": [
             [
              0,
              "#0d0887"
             ],
             [
              0.1111111111111111,
              "#46039f"
             ],
             [
              0.2222222222222222,
              "#7201a8"
             ],
             [
              0.3333333333333333,
              "#9c179e"
             ],
             [
              0.4444444444444444,
              "#bd3786"
             ],
             [
              0.5555555555555556,
              "#d8576b"
             ],
             [
              0.6666666666666666,
              "#ed7953"
             ],
             [
              0.7777777777777778,
              "#fb9f3a"
             ],
             [
              0.8888888888888888,
              "#fdca26"
             ],
             [
              1,
              "#f0f921"
             ]
            ],
            "type": "histogram2dcontour"
           }
          ],
          "mesh3d": [
           {
            "colorbar": {
             "outlinewidth": 0,
             "ticks": ""
            },
            "type": "mesh3d"
           }
          ],
          "parcoords": [
           {
            "line": {
             "colorbar": {
              "outlinewidth": 0,
              "ticks": ""
             }
            },
            "type": "parcoords"
           }
          ],
          "pie": [
           {
            "automargin": true,
            "type": "pie"
           }
          ],
          "scatter": [
           {
            "fillpattern": {
             "fillmode": "overlay",
             "size": 10,
             "solidity": 0.2
            },
            "type": "scatter"
           }
          ],
          "scatter3d": [
           {
            "line": {
             "colorbar": {
              "outlinewidth": 0,
              "ticks": ""
             }
            },
            "marker": {
             "colorbar": {
              "outlinewidth": 0,
              "ticks": ""
             }
            },
            "type": "scatter3d"
           }
          ],
          "scattercarpet": [
           {
            "marker": {
             "colorbar": {
              "outlinewidth": 0,
              "ticks": ""
             }
            },
            "type": "scattercarpet"
           }
          ],
          "scattergeo": [
           {
            "marker": {
             "colorbar": {
              "outlinewidth": 0,
              "ticks": ""
             }
            },
            "type": "scattergeo"
           }
          ],
          "scattergl": [
           {
            "marker": {
             "colorbar": {
              "outlinewidth": 0,
              "ticks": ""
             }
            },
            "type": "scattergl"
           }
          ],
          "scattermapbox": [
           {
            "marker": {
             "colorbar": {
              "outlinewidth": 0,
              "ticks": ""
             }
            },
            "type": "scattermapbox"
           }
          ],
          "scatterpolar": [
           {
            "marker": {
             "colorbar": {
              "outlinewidth": 0,
              "ticks": ""
             }
            },
            "type": "scatterpolar"
           }
          ],
          "scatterpolargl": [
           {
            "marker": {
             "colorbar": {
              "outlinewidth": 0,
              "ticks": ""
             }
            },
            "type": "scatterpolargl"
           }
          ],
          "scatterternary": [
           {
            "marker": {
             "colorbar": {
              "outlinewidth": 0,
              "ticks": ""
             }
            },
            "type": "scatterternary"
           }
          ],
          "surface": [
           {
            "colorbar": {
             "outlinewidth": 0,
             "ticks": ""
            },
            "colorscale": [
             [
              0,
              "#0d0887"
             ],
             [
              0.1111111111111111,
              "#46039f"
             ],
             [
              0.2222222222222222,
              "#7201a8"
             ],
             [
              0.3333333333333333,
              "#9c179e"
             ],
             [
              0.4444444444444444,
              "#bd3786"
             ],
             [
              0.5555555555555556,
              "#d8576b"
             ],
             [
              0.6666666666666666,
              "#ed7953"
             ],
             [
              0.7777777777777778,
              "#fb9f3a"
             ],
             [
              0.8888888888888888,
              "#fdca26"
             ],
             [
              1,
              "#f0f921"
             ]
            ],
            "type": "surface"
           }
          ],
          "table": [
           {
            "cells": {
             "fill": {
              "color": "#EBF0F8"
             },
             "line": {
              "color": "white"
             }
            },
            "header": {
             "fill": {
              "color": "#C8D4E3"
             },
             "line": {
              "color": "white"
             }
            },
            "type": "table"
           }
          ]
         },
         "layout": {
          "annotationdefaults": {
           "arrowcolor": "#2a3f5f",
           "arrowhead": 0,
           "arrowwidth": 1
          },
          "autotypenumbers": "strict",
          "coloraxis": {
           "colorbar": {
            "outlinewidth": 0,
            "ticks": ""
           }
          },
          "colorscale": {
           "diverging": [
            [
             0,
             "#8e0152"
            ],
            [
             0.1,
             "#c51b7d"
            ],
            [
             0.2,
             "#de77ae"
            ],
            [
             0.3,
             "#f1b6da"
            ],
            [
             0.4,
             "#fde0ef"
            ],
            [
             0.5,
             "#f7f7f7"
            ],
            [
             0.6,
             "#e6f5d0"
            ],
            [
             0.7,
             "#b8e186"
            ],
            [
             0.8,
             "#7fbc41"
            ],
            [
             0.9,
             "#4d9221"
            ],
            [
             1,
             "#276419"
            ]
           ],
           "sequential": [
            [
             0,
             "#0d0887"
            ],
            [
             0.1111111111111111,
             "#46039f"
            ],
            [
             0.2222222222222222,
             "#7201a8"
            ],
            [
             0.3333333333333333,
             "#9c179e"
            ],
            [
             0.4444444444444444,
             "#bd3786"
            ],
            [
             0.5555555555555556,
             "#d8576b"
            ],
            [
             0.6666666666666666,
             "#ed7953"
            ],
            [
             0.7777777777777778,
             "#fb9f3a"
            ],
            [
             0.8888888888888888,
             "#fdca26"
            ],
            [
             1,
             "#f0f921"
            ]
           ],
           "sequentialminus": [
            [
             0,
             "#0d0887"
            ],
            [
             0.1111111111111111,
             "#46039f"
            ],
            [
             0.2222222222222222,
             "#7201a8"
            ],
            [
             0.3333333333333333,
             "#9c179e"
            ],
            [
             0.4444444444444444,
             "#bd3786"
            ],
            [
             0.5555555555555556,
             "#d8576b"
            ],
            [
             0.6666666666666666,
             "#ed7953"
            ],
            [
             0.7777777777777778,
             "#fb9f3a"
            ],
            [
             0.8888888888888888,
             "#fdca26"
            ],
            [
             1,
             "#f0f921"
            ]
           ]
          },
          "colorway": [
           "#636efa",
           "#EF553B",
           "#00cc96",
           "#ab63fa",
           "#FFA15A",
           "#19d3f3",
           "#FF6692",
           "#B6E880",
           "#FF97FF",
           "#FECB52"
          ],
          "font": {
           "color": "#2a3f5f"
          },
          "geo": {
           "bgcolor": "white",
           "lakecolor": "white",
           "landcolor": "#E5ECF6",
           "showlakes": true,
           "showland": true,
           "subunitcolor": "white"
          },
          "hoverlabel": {
           "align": "left"
          },
          "hovermode": "closest",
          "mapbox": {
           "style": "light"
          },
          "paper_bgcolor": "white",
          "plot_bgcolor": "#E5ECF6",
          "polar": {
           "angularaxis": {
            "gridcolor": "white",
            "linecolor": "white",
            "ticks": ""
           },
           "bgcolor": "#E5ECF6",
           "radialaxis": {
            "gridcolor": "white",
            "linecolor": "white",
            "ticks": ""
           }
          },
          "scene": {
           "xaxis": {
            "backgroundcolor": "#E5ECF6",
            "gridcolor": "white",
            "gridwidth": 2,
            "linecolor": "white",
            "showbackground": true,
            "ticks": "",
            "zerolinecolor": "white"
           },
           "yaxis": {
            "backgroundcolor": "#E5ECF6",
            "gridcolor": "white",
            "gridwidth": 2,
            "linecolor": "white",
            "showbackground": true,
            "ticks": "",
            "zerolinecolor": "white"
           },
           "zaxis": {
            "backgroundcolor": "#E5ECF6",
            "gridcolor": "white",
            "gridwidth": 2,
            "linecolor": "white",
            "showbackground": true,
            "ticks": "",
            "zerolinecolor": "white"
           }
          },
          "shapedefaults": {
           "line": {
            "color": "#2a3f5f"
           }
          },
          "ternary": {
           "aaxis": {
            "gridcolor": "white",
            "linecolor": "white",
            "ticks": ""
           },
           "baxis": {
            "gridcolor": "white",
            "linecolor": "white",
            "ticks": ""
           },
           "bgcolor": "#E5ECF6",
           "caxis": {
            "gridcolor": "white",
            "linecolor": "white",
            "ticks": ""
           }
          },
          "title": {
           "x": 0.05
          },
          "xaxis": {
           "automargin": true,
           "gridcolor": "white",
           "linecolor": "white",
           "ticks": "",
           "title": {
            "standoff": 15
           },
           "zerolinecolor": "white",
           "zerolinewidth": 2
          },
          "yaxis": {
           "automargin": true,
           "gridcolor": "white",
           "linecolor": "white",
           "ticks": "",
           "title": {
            "standoff": 15
           },
           "zerolinecolor": "white",
           "zerolinewidth": 2
          }
         }
        },
        "xaxis": {
         "anchor": "y",
         "domain": [
          0,
          1
         ],
         "title": {
          "text": "Percent with dog"
         }
        },
        "yaxis": {
         "anchor": "x",
         "domain": [
          0,
          1
         ],
         "title": {
          "text": "Percentage"
         }
        }
       }
      }
     },
     "metadata": {},
     "output_type": "display_data"
    }
   ],
   "source": [
    "plot_attribute('Pct 4 Bedrooms')"
   ]
  },
  {
   "cell_type": "code",
   "execution_count": 384,
   "metadata": {},
   "outputs": [
    {
     "data": {
      "application/vnd.plotly.v1+json": {
       "config": {
        "plotlyServerURL": "https://plot.ly"
       },
       "data": [
        {
         "hovertemplate": "variable=Pct 5+ Bedrooms<br>households_with_dog_pct=%{x}<br>value=%{y}<extra></extra>",
         "legendgroup": "Pct 5+ Bedrooms",
         "marker": {
          "color": "#636efa",
          "symbol": "circle"
         },
         "mode": "markers",
         "name": "Pct 5+ Bedrooms",
         "orientation": "v",
         "showlegend": true,
         "type": "scatter",
         "x": [
          1.7824640682859474,
          1.3575787769336156,
          1.400560224089636,
          1.9224108070661587,
          0.013821063300469916,
          1.7188020758939198,
          2.1157464775804304,
          1.5148698884758365,
          1.2624310815685063,
          1.668956043956044,
          0.028694404591104734,
          0.5966587112171837,
          1.633313713949382,
          1.9867549668874174,
          0.46728971962616817,
          1.7169331395348837,
          0.2244596934521901,
          0.0239477938094953,
          2.495800335973122,
          0.03003003003003003,
          0.03647505106507149,
          0.0196811651249754,
          1.3429065283871826,
          0.039300451955197484,
          0.02740289100500103,
          1.5619109172187213,
          1.0862078100990833,
          1.7099274203469061,
          1.0581140350877194,
          1.055905705164934,
          1.2191183594380752,
          1.2032617342879872,
          1.255899528037757,
          2.1990369181380416,
          1.7927029415477844,
          1.7767227737016258,
          2.25705329153605,
          1.2700534759358288,
          1.1313639220615965,
          1.3525144473134143,
          1.8306636155606408,
          3.194726166328601,
          1.7157225262535127,
          1.31697636658849,
          1.9406216174424,
          1.3544303797468353,
          2.141346492774057,
          2.0222446916076846,
          2.1967468939439407,
          2.3865994663504297
         ],
         "xaxis": "x",
         "y": [
          7.3,
          4.3,
          7,
          9.5,
          2,
          6.1,
          6.3,
          4.4,
          4.5,
          4.9,
          3.4,
          1.2,
          10.3,
          14.2,
          0,
          24.5,
          4.9,
          6.6,
          12,
          0.5,
          3.1,
          4.5,
          10,
          2.7,
          2.2,
          9.3,
          3.3,
          10.3,
          1.6,
          1.4,
          2.5,
          2,
          3.6,
          7.1,
          11.4,
          5.5,
          14.1,
          2.6,
          1.3,
          5.7,
          8.1,
          31.9,
          2.8,
          1.9,
          9.7,
          2.1,
          8.2,
          6.2,
          12.2,
          14
         ],
         "yaxis": "y"
        }
       ],
       "layout": {
        "legend": {
         "title": {
          "text": "Demographics"
         },
         "tracegroupgap": 0
        },
        "margin": {
         "t": 60
        },
        "template": {
         "data": {
          "bar": [
           {
            "error_x": {
             "color": "#2a3f5f"
            },
            "error_y": {
             "color": "#2a3f5f"
            },
            "marker": {
             "line": {
              "color": "#E5ECF6",
              "width": 0.5
             },
             "pattern": {
              "fillmode": "overlay",
              "size": 10,
              "solidity": 0.2
             }
            },
            "type": "bar"
           }
          ],
          "barpolar": [
           {
            "marker": {
             "line": {
              "color": "#E5ECF6",
              "width": 0.5
             },
             "pattern": {
              "fillmode": "overlay",
              "size": 10,
              "solidity": 0.2
             }
            },
            "type": "barpolar"
           }
          ],
          "carpet": [
           {
            "aaxis": {
             "endlinecolor": "#2a3f5f",
             "gridcolor": "white",
             "linecolor": "white",
             "minorgridcolor": "white",
             "startlinecolor": "#2a3f5f"
            },
            "baxis": {
             "endlinecolor": "#2a3f5f",
             "gridcolor": "white",
             "linecolor": "white",
             "minorgridcolor": "white",
             "startlinecolor": "#2a3f5f"
            },
            "type": "carpet"
           }
          ],
          "choropleth": [
           {
            "colorbar": {
             "outlinewidth": 0,
             "ticks": ""
            },
            "type": "choropleth"
           }
          ],
          "contour": [
           {
            "colorbar": {
             "outlinewidth": 0,
             "ticks": ""
            },
            "colorscale": [
             [
              0,
              "#0d0887"
             ],
             [
              0.1111111111111111,
              "#46039f"
             ],
             [
              0.2222222222222222,
              "#7201a8"
             ],
             [
              0.3333333333333333,
              "#9c179e"
             ],
             [
              0.4444444444444444,
              "#bd3786"
             ],
             [
              0.5555555555555556,
              "#d8576b"
             ],
             [
              0.6666666666666666,
              "#ed7953"
             ],
             [
              0.7777777777777778,
              "#fb9f3a"
             ],
             [
              0.8888888888888888,
              "#fdca26"
             ],
             [
              1,
              "#f0f921"
             ]
            ],
            "type": "contour"
           }
          ],
          "contourcarpet": [
           {
            "colorbar": {
             "outlinewidth": 0,
             "ticks": ""
            },
            "type": "contourcarpet"
           }
          ],
          "heatmap": [
           {
            "colorbar": {
             "outlinewidth": 0,
             "ticks": ""
            },
            "colorscale": [
             [
              0,
              "#0d0887"
             ],
             [
              0.1111111111111111,
              "#46039f"
             ],
             [
              0.2222222222222222,
              "#7201a8"
             ],
             [
              0.3333333333333333,
              "#9c179e"
             ],
             [
              0.4444444444444444,
              "#bd3786"
             ],
             [
              0.5555555555555556,
              "#d8576b"
             ],
             [
              0.6666666666666666,
              "#ed7953"
             ],
             [
              0.7777777777777778,
              "#fb9f3a"
             ],
             [
              0.8888888888888888,
              "#fdca26"
             ],
             [
              1,
              "#f0f921"
             ]
            ],
            "type": "heatmap"
           }
          ],
          "heatmapgl": [
           {
            "colorbar": {
             "outlinewidth": 0,
             "ticks": ""
            },
            "colorscale": [
             [
              0,
              "#0d0887"
             ],
             [
              0.1111111111111111,
              "#46039f"
             ],
             [
              0.2222222222222222,
              "#7201a8"
             ],
             [
              0.3333333333333333,
              "#9c179e"
             ],
             [
              0.4444444444444444,
              "#bd3786"
             ],
             [
              0.5555555555555556,
              "#d8576b"
             ],
             [
              0.6666666666666666,
              "#ed7953"
             ],
             [
              0.7777777777777778,
              "#fb9f3a"
             ],
             [
              0.8888888888888888,
              "#fdca26"
             ],
             [
              1,
              "#f0f921"
             ]
            ],
            "type": "heatmapgl"
           }
          ],
          "histogram": [
           {
            "marker": {
             "pattern": {
              "fillmode": "overlay",
              "size": 10,
              "solidity": 0.2
             }
            },
            "type": "histogram"
           }
          ],
          "histogram2d": [
           {
            "colorbar": {
             "outlinewidth": 0,
             "ticks": ""
            },
            "colorscale": [
             [
              0,
              "#0d0887"
             ],
             [
              0.1111111111111111,
              "#46039f"
             ],
             [
              0.2222222222222222,
              "#7201a8"
             ],
             [
              0.3333333333333333,
              "#9c179e"
             ],
             [
              0.4444444444444444,
              "#bd3786"
             ],
             [
              0.5555555555555556,
              "#d8576b"
             ],
             [
              0.6666666666666666,
              "#ed7953"
             ],
             [
              0.7777777777777778,
              "#fb9f3a"
             ],
             [
              0.8888888888888888,
              "#fdca26"
             ],
             [
              1,
              "#f0f921"
             ]
            ],
            "type": "histogram2d"
           }
          ],
          "histogram2dcontour": [
           {
            "colorbar": {
             "outlinewidth": 0,
             "ticks": ""
            },
            "colorscale": [
             [
              0,
              "#0d0887"
             ],
             [
              0.1111111111111111,
              "#46039f"
             ],
             [
              0.2222222222222222,
              "#7201a8"
             ],
             [
              0.3333333333333333,
              "#9c179e"
             ],
             [
              0.4444444444444444,
              "#bd3786"
             ],
             [
              0.5555555555555556,
              "#d8576b"
             ],
             [
              0.6666666666666666,
              "#ed7953"
             ],
             [
              0.7777777777777778,
              "#fb9f3a"
             ],
             [
              0.8888888888888888,
              "#fdca26"
             ],
             [
              1,
              "#f0f921"
             ]
            ],
            "type": "histogram2dcontour"
           }
          ],
          "mesh3d": [
           {
            "colorbar": {
             "outlinewidth": 0,
             "ticks": ""
            },
            "type": "mesh3d"
           }
          ],
          "parcoords": [
           {
            "line": {
             "colorbar": {
              "outlinewidth": 0,
              "ticks": ""
             }
            },
            "type": "parcoords"
           }
          ],
          "pie": [
           {
            "automargin": true,
            "type": "pie"
           }
          ],
          "scatter": [
           {
            "fillpattern": {
             "fillmode": "overlay",
             "size": 10,
             "solidity": 0.2
            },
            "type": "scatter"
           }
          ],
          "scatter3d": [
           {
            "line": {
             "colorbar": {
              "outlinewidth": 0,
              "ticks": ""
             }
            },
            "marker": {
             "colorbar": {
              "outlinewidth": 0,
              "ticks": ""
             }
            },
            "type": "scatter3d"
           }
          ],
          "scattercarpet": [
           {
            "marker": {
             "colorbar": {
              "outlinewidth": 0,
              "ticks": ""
             }
            },
            "type": "scattercarpet"
           }
          ],
          "scattergeo": [
           {
            "marker": {
             "colorbar": {
              "outlinewidth": 0,
              "ticks": ""
             }
            },
            "type": "scattergeo"
           }
          ],
          "scattergl": [
           {
            "marker": {
             "colorbar": {
              "outlinewidth": 0,
              "ticks": ""
             }
            },
            "type": "scattergl"
           }
          ],
          "scattermapbox": [
           {
            "marker": {
             "colorbar": {
              "outlinewidth": 0,
              "ticks": ""
             }
            },
            "type": "scattermapbox"
           }
          ],
          "scatterpolar": [
           {
            "marker": {
             "colorbar": {
              "outlinewidth": 0,
              "ticks": ""
             }
            },
            "type": "scatterpolar"
           }
          ],
          "scatterpolargl": [
           {
            "marker": {
             "colorbar": {
              "outlinewidth": 0,
              "ticks": ""
             }
            },
            "type": "scatterpolargl"
           }
          ],
          "scatterternary": [
           {
            "marker": {
             "colorbar": {
              "outlinewidth": 0,
              "ticks": ""
             }
            },
            "type": "scatterternary"
           }
          ],
          "surface": [
           {
            "colorbar": {
             "outlinewidth": 0,
             "ticks": ""
            },
            "colorscale": [
             [
              0,
              "#0d0887"
             ],
             [
              0.1111111111111111,
              "#46039f"
             ],
             [
              0.2222222222222222,
              "#7201a8"
             ],
             [
              0.3333333333333333,
              "#9c179e"
             ],
             [
              0.4444444444444444,
              "#bd3786"
             ],
             [
              0.5555555555555556,
              "#d8576b"
             ],
             [
              0.6666666666666666,
              "#ed7953"
             ],
             [
              0.7777777777777778,
              "#fb9f3a"
             ],
             [
              0.8888888888888888,
              "#fdca26"
             ],
             [
              1,
              "#f0f921"
             ]
            ],
            "type": "surface"
           }
          ],
          "table": [
           {
            "cells": {
             "fill": {
              "color": "#EBF0F8"
             },
             "line": {
              "color": "white"
             }
            },
            "header": {
             "fill": {
              "color": "#C8D4E3"
             },
             "line": {
              "color": "white"
             }
            },
            "type": "table"
           }
          ]
         },
         "layout": {
          "annotationdefaults": {
           "arrowcolor": "#2a3f5f",
           "arrowhead": 0,
           "arrowwidth": 1
          },
          "autotypenumbers": "strict",
          "coloraxis": {
           "colorbar": {
            "outlinewidth": 0,
            "ticks": ""
           }
          },
          "colorscale": {
           "diverging": [
            [
             0,
             "#8e0152"
            ],
            [
             0.1,
             "#c51b7d"
            ],
            [
             0.2,
             "#de77ae"
            ],
            [
             0.3,
             "#f1b6da"
            ],
            [
             0.4,
             "#fde0ef"
            ],
            [
             0.5,
             "#f7f7f7"
            ],
            [
             0.6,
             "#e6f5d0"
            ],
            [
             0.7,
             "#b8e186"
            ],
            [
             0.8,
             "#7fbc41"
            ],
            [
             0.9,
             "#4d9221"
            ],
            [
             1,
             "#276419"
            ]
           ],
           "sequential": [
            [
             0,
             "#0d0887"
            ],
            [
             0.1111111111111111,
             "#46039f"
            ],
            [
             0.2222222222222222,
             "#7201a8"
            ],
            [
             0.3333333333333333,
             "#9c179e"
            ],
            [
             0.4444444444444444,
             "#bd3786"
            ],
            [
             0.5555555555555556,
             "#d8576b"
            ],
            [
             0.6666666666666666,
             "#ed7953"
            ],
            [
             0.7777777777777778,
             "#fb9f3a"
            ],
            [
             0.8888888888888888,
             "#fdca26"
            ],
            [
             1,
             "#f0f921"
            ]
           ],
           "sequentialminus": [
            [
             0,
             "#0d0887"
            ],
            [
             0.1111111111111111,
             "#46039f"
            ],
            [
             0.2222222222222222,
             "#7201a8"
            ],
            [
             0.3333333333333333,
             "#9c179e"
            ],
            [
             0.4444444444444444,
             "#bd3786"
            ],
            [
             0.5555555555555556,
             "#d8576b"
            ],
            [
             0.6666666666666666,
             "#ed7953"
            ],
            [
             0.7777777777777778,
             "#fb9f3a"
            ],
            [
             0.8888888888888888,
             "#fdca26"
            ],
            [
             1,
             "#f0f921"
            ]
           ]
          },
          "colorway": [
           "#636efa",
           "#EF553B",
           "#00cc96",
           "#ab63fa",
           "#FFA15A",
           "#19d3f3",
           "#FF6692",
           "#B6E880",
           "#FF97FF",
           "#FECB52"
          ],
          "font": {
           "color": "#2a3f5f"
          },
          "geo": {
           "bgcolor": "white",
           "lakecolor": "white",
           "landcolor": "#E5ECF6",
           "showlakes": true,
           "showland": true,
           "subunitcolor": "white"
          },
          "hoverlabel": {
           "align": "left"
          },
          "hovermode": "closest",
          "mapbox": {
           "style": "light"
          },
          "paper_bgcolor": "white",
          "plot_bgcolor": "#E5ECF6",
          "polar": {
           "angularaxis": {
            "gridcolor": "white",
            "linecolor": "white",
            "ticks": ""
           },
           "bgcolor": "#E5ECF6",
           "radialaxis": {
            "gridcolor": "white",
            "linecolor": "white",
            "ticks": ""
           }
          },
          "scene": {
           "xaxis": {
            "backgroundcolor": "#E5ECF6",
            "gridcolor": "white",
            "gridwidth": 2,
            "linecolor": "white",
            "showbackground": true,
            "ticks": "",
            "zerolinecolor": "white"
           },
           "yaxis": {
            "backgroundcolor": "#E5ECF6",
            "gridcolor": "white",
            "gridwidth": 2,
            "linecolor": "white",
            "showbackground": true,
            "ticks": "",
            "zerolinecolor": "white"
           },
           "zaxis": {
            "backgroundcolor": "#E5ECF6",
            "gridcolor": "white",
            "gridwidth": 2,
            "linecolor": "white",
            "showbackground": true,
            "ticks": "",
            "zerolinecolor": "white"
           }
          },
          "shapedefaults": {
           "line": {
            "color": "#2a3f5f"
           }
          },
          "ternary": {
           "aaxis": {
            "gridcolor": "white",
            "linecolor": "white",
            "ticks": ""
           },
           "baxis": {
            "gridcolor": "white",
            "linecolor": "white",
            "ticks": ""
           },
           "bgcolor": "#E5ECF6",
           "caxis": {
            "gridcolor": "white",
            "linecolor": "white",
            "ticks": ""
           }
          },
          "title": {
           "x": 0.05
          },
          "xaxis": {
           "automargin": true,
           "gridcolor": "white",
           "linecolor": "white",
           "ticks": "",
           "title": {
            "standoff": 15
           },
           "zerolinecolor": "white",
           "zerolinewidth": 2
          },
          "yaxis": {
           "automargin": true,
           "gridcolor": "white",
           "linecolor": "white",
           "ticks": "",
           "title": {
            "standoff": 15
           },
           "zerolinecolor": "white",
           "zerolinewidth": 2
          }
         }
        },
        "xaxis": {
         "anchor": "y",
         "domain": [
          0,
          1
         ],
         "title": {
          "text": "Percent with dog"
         }
        },
        "yaxis": {
         "anchor": "x",
         "domain": [
          0,
          1
         ],
         "title": {
          "text": "Percentage"
         }
        }
       }
      }
     },
     "metadata": {},
     "output_type": "display_data"
    }
   ],
   "source": [
    "plot_attribute('Pct 5+ Bedrooms')"
   ]
  },
  {
   "cell_type": "code",
   "execution_count": 385,
   "metadata": {},
   "outputs": [],
   "source": [
    "def plot_attribute_dollar(col_name):\n",
    "\n",
    "    fig = px.scatter(DP04_select_df,x='households_with_dog_pct', y=[col_name]) \n",
    "    #fig.update_traces(mode='lines+markers')\n",
    "\n",
    "    #fig.update_xaxes(autotypenumbers=autotype)\n",
    "    fig.update_xaxes(title_text='Percent with dog')\n",
    "    fig.update_yaxes(title_text='Amount (Dollars)')\n",
    "    fig.update_layout(legend_title='Demographics')\n",
    "    #fig.update_layout(title=title)\n",
    "    fig.show()\n",
    "\n",
    "\n"
   ]
  },
  {
   "cell_type": "code",
   "execution_count": 392,
   "metadata": {},
   "outputs": [
    {
     "data": {
      "application/vnd.plotly.v1+json": {
       "config": {
        "plotlyServerURL": "https://plot.ly"
       },
       "data": [
        {
         "hovertemplate": "variable=Owner Occ Median Val<br>households_with_dog_pct=%{x}<br>value=%{y}<extra></extra>",
         "legendgroup": "Owner Occ Median Val",
         "marker": {
          "color": "#636efa",
          "symbol": "circle"
         },
         "mode": "markers",
         "name": "Owner Occ Median Val",
         "orientation": "v",
         "showlegend": true,
         "type": "scatter",
         "x": [
          1.7824640682859474,
          1.3575787769336156,
          1.400560224089636,
          1.9224108070661587,
          0.013821063300469916,
          1.7188020758939198,
          2.1157464775804304,
          1.5148698884758365,
          1.2624310815685063,
          1.668956043956044,
          0.028694404591104734,
          0.5966587112171837,
          1.633313713949382,
          1.9867549668874174,
          0.46728971962616817,
          1.7169331395348837,
          0.2244596934521901,
          0.0239477938094953,
          2.495800335973122,
          0.03003003003003003,
          0.03647505106507149,
          0.0196811651249754,
          1.3429065283871826,
          0.039300451955197484,
          0.02740289100500103,
          1.5619109172187213,
          1.0862078100990833,
          1.7099274203469061,
          1.0581140350877194,
          1.055905705164934,
          1.2191183594380752,
          1.2032617342879872,
          1.255899528037757,
          2.1990369181380416,
          1.7927029415477844,
          1.7767227737016258,
          2.25705329153605,
          1.2700534759358288,
          1.1313639220615965,
          1.3525144473134143,
          1.8306636155606408,
          3.194726166328601,
          1.7157225262535127,
          1.31697636658849,
          1.9406216174424,
          1.3544303797468353,
          2.141346492774057,
          2.0222446916076846,
          2.1967468939439407,
          2.3865994663504297
         ],
         "xaxis": "x",
         "y": [
          664700,
          925800,
          1135400,
          793300,
          817100,
          649200,
          777300,
          737800,
          949000,
          854500,
          1945000,
          571600,
          766100,
          721100,
          739000,
          925100,
          638000,
          702900,
          843900,
          476000,
          456200,
          511900,
          876700,
          642100,
          502100,
          776700,
          635800,
          824700,
          511800,
          562300,
          574800,
          554500,
          605100,
          700900,
          753600,
          664900,
          875200,
          662100,
          576300,
          659600,
          772700,
          1239600,
          629800,
          689100,
          729700,
          511900,
          733100,
          652800,
          842100,
          875800
         ],
         "yaxis": "y"
        }
       ],
       "layout": {
        "legend": {
         "title": {
          "text": "Demographics"
         },
         "tracegroupgap": 0
        },
        "margin": {
         "t": 60
        },
        "template": {
         "data": {
          "bar": [
           {
            "error_x": {
             "color": "#2a3f5f"
            },
            "error_y": {
             "color": "#2a3f5f"
            },
            "marker": {
             "line": {
              "color": "#E5ECF6",
              "width": 0.5
             },
             "pattern": {
              "fillmode": "overlay",
              "size": 10,
              "solidity": 0.2
             }
            },
            "type": "bar"
           }
          ],
          "barpolar": [
           {
            "marker": {
             "line": {
              "color": "#E5ECF6",
              "width": 0.5
             },
             "pattern": {
              "fillmode": "overlay",
              "size": 10,
              "solidity": 0.2
             }
            },
            "type": "barpolar"
           }
          ],
          "carpet": [
           {
            "aaxis": {
             "endlinecolor": "#2a3f5f",
             "gridcolor": "white",
             "linecolor": "white",
             "minorgridcolor": "white",
             "startlinecolor": "#2a3f5f"
            },
            "baxis": {
             "endlinecolor": "#2a3f5f",
             "gridcolor": "white",
             "linecolor": "white",
             "minorgridcolor": "white",
             "startlinecolor": "#2a3f5f"
            },
            "type": "carpet"
           }
          ],
          "choropleth": [
           {
            "colorbar": {
             "outlinewidth": 0,
             "ticks": ""
            },
            "type": "choropleth"
           }
          ],
          "contour": [
           {
            "colorbar": {
             "outlinewidth": 0,
             "ticks": ""
            },
            "colorscale": [
             [
              0,
              "#0d0887"
             ],
             [
              0.1111111111111111,
              "#46039f"
             ],
             [
              0.2222222222222222,
              "#7201a8"
             ],
             [
              0.3333333333333333,
              "#9c179e"
             ],
             [
              0.4444444444444444,
              "#bd3786"
             ],
             [
              0.5555555555555556,
              "#d8576b"
             ],
             [
              0.6666666666666666,
              "#ed7953"
             ],
             [
              0.7777777777777778,
              "#fb9f3a"
             ],
             [
              0.8888888888888888,
              "#fdca26"
             ],
             [
              1,
              "#f0f921"
             ]
            ],
            "type": "contour"
           }
          ],
          "contourcarpet": [
           {
            "colorbar": {
             "outlinewidth": 0,
             "ticks": ""
            },
            "type": "contourcarpet"
           }
          ],
          "heatmap": [
           {
            "colorbar": {
             "outlinewidth": 0,
             "ticks": ""
            },
            "colorscale": [
             [
              0,
              "#0d0887"
             ],
             [
              0.1111111111111111,
              "#46039f"
             ],
             [
              0.2222222222222222,
              "#7201a8"
             ],
             [
              0.3333333333333333,
              "#9c179e"
             ],
             [
              0.4444444444444444,
              "#bd3786"
             ],
             [
              0.5555555555555556,
              "#d8576b"
             ],
             [
              0.6666666666666666,
              "#ed7953"
             ],
             [
              0.7777777777777778,
              "#fb9f3a"
             ],
             [
              0.8888888888888888,
              "#fdca26"
             ],
             [
              1,
              "#f0f921"
             ]
            ],
            "type": "heatmap"
           }
          ],
          "heatmapgl": [
           {
            "colorbar": {
             "outlinewidth": 0,
             "ticks": ""
            },
            "colorscale": [
             [
              0,
              "#0d0887"
             ],
             [
              0.1111111111111111,
              "#46039f"
             ],
             [
              0.2222222222222222,
              "#7201a8"
             ],
             [
              0.3333333333333333,
              "#9c179e"
             ],
             [
              0.4444444444444444,
              "#bd3786"
             ],
             [
              0.5555555555555556,
              "#d8576b"
             ],
             [
              0.6666666666666666,
              "#ed7953"
             ],
             [
              0.7777777777777778,
              "#fb9f3a"
             ],
             [
              0.8888888888888888,
              "#fdca26"
             ],
             [
              1,
              "#f0f921"
             ]
            ],
            "type": "heatmapgl"
           }
          ],
          "histogram": [
           {
            "marker": {
             "pattern": {
              "fillmode": "overlay",
              "size": 10,
              "solidity": 0.2
             }
            },
            "type": "histogram"
           }
          ],
          "histogram2d": [
           {
            "colorbar": {
             "outlinewidth": 0,
             "ticks": ""
            },
            "colorscale": [
             [
              0,
              "#0d0887"
             ],
             [
              0.1111111111111111,
              "#46039f"
             ],
             [
              0.2222222222222222,
              "#7201a8"
             ],
             [
              0.3333333333333333,
              "#9c179e"
             ],
             [
              0.4444444444444444,
              "#bd3786"
             ],
             [
              0.5555555555555556,
              "#d8576b"
             ],
             [
              0.6666666666666666,
              "#ed7953"
             ],
             [
              0.7777777777777778,
              "#fb9f3a"
             ],
             [
              0.8888888888888888,
              "#fdca26"
             ],
             [
              1,
              "#f0f921"
             ]
            ],
            "type": "histogram2d"
           }
          ],
          "histogram2dcontour": [
           {
            "colorbar": {
             "outlinewidth": 0,
             "ticks": ""
            },
            "colorscale": [
             [
              0,
              "#0d0887"
             ],
             [
              0.1111111111111111,
              "#46039f"
             ],
             [
              0.2222222222222222,
              "#7201a8"
             ],
             [
              0.3333333333333333,
              "#9c179e"
             ],
             [
              0.4444444444444444,
              "#bd3786"
             ],
             [
              0.5555555555555556,
              "#d8576b"
             ],
             [
              0.6666666666666666,
              "#ed7953"
             ],
             [
              0.7777777777777778,
              "#fb9f3a"
             ],
             [
              0.8888888888888888,
              "#fdca26"
             ],
             [
              1,
              "#f0f921"
             ]
            ],
            "type": "histogram2dcontour"
           }
          ],
          "mesh3d": [
           {
            "colorbar": {
             "outlinewidth": 0,
             "ticks": ""
            },
            "type": "mesh3d"
           }
          ],
          "parcoords": [
           {
            "line": {
             "colorbar": {
              "outlinewidth": 0,
              "ticks": ""
             }
            },
            "type": "parcoords"
           }
          ],
          "pie": [
           {
            "automargin": true,
            "type": "pie"
           }
          ],
          "scatter": [
           {
            "fillpattern": {
             "fillmode": "overlay",
             "size": 10,
             "solidity": 0.2
            },
            "type": "scatter"
           }
          ],
          "scatter3d": [
           {
            "line": {
             "colorbar": {
              "outlinewidth": 0,
              "ticks": ""
             }
            },
            "marker": {
             "colorbar": {
              "outlinewidth": 0,
              "ticks": ""
             }
            },
            "type": "scatter3d"
           }
          ],
          "scattercarpet": [
           {
            "marker": {
             "colorbar": {
              "outlinewidth": 0,
              "ticks": ""
             }
            },
            "type": "scattercarpet"
           }
          ],
          "scattergeo": [
           {
            "marker": {
             "colorbar": {
              "outlinewidth": 0,
              "ticks": ""
             }
            },
            "type": "scattergeo"
           }
          ],
          "scattergl": [
           {
            "marker": {
             "colorbar": {
              "outlinewidth": 0,
              "ticks": ""
             }
            },
            "type": "scattergl"
           }
          ],
          "scattermapbox": [
           {
            "marker": {
             "colorbar": {
              "outlinewidth": 0,
              "ticks": ""
             }
            },
            "type": "scattermapbox"
           }
          ],
          "scatterpolar": [
           {
            "marker": {
             "colorbar": {
              "outlinewidth": 0,
              "ticks": ""
             }
            },
            "type": "scatterpolar"
           }
          ],
          "scatterpolargl": [
           {
            "marker": {
             "colorbar": {
              "outlinewidth": 0,
              "ticks": ""
             }
            },
            "type": "scatterpolargl"
           }
          ],
          "scatterternary": [
           {
            "marker": {
             "colorbar": {
              "outlinewidth": 0,
              "ticks": ""
             }
            },
            "type": "scatterternary"
           }
          ],
          "surface": [
           {
            "colorbar": {
             "outlinewidth": 0,
             "ticks": ""
            },
            "colorscale": [
             [
              0,
              "#0d0887"
             ],
             [
              0.1111111111111111,
              "#46039f"
             ],
             [
              0.2222222222222222,
              "#7201a8"
             ],
             [
              0.3333333333333333,
              "#9c179e"
             ],
             [
              0.4444444444444444,
              "#bd3786"
             ],
             [
              0.5555555555555556,
              "#d8576b"
             ],
             [
              0.6666666666666666,
              "#ed7953"
             ],
             [
              0.7777777777777778,
              "#fb9f3a"
             ],
             [
              0.8888888888888888,
              "#fdca26"
             ],
             [
              1,
              "#f0f921"
             ]
            ],
            "type": "surface"
           }
          ],
          "table": [
           {
            "cells": {
             "fill": {
              "color": "#EBF0F8"
             },
             "line": {
              "color": "white"
             }
            },
            "header": {
             "fill": {
              "color": "#C8D4E3"
             },
             "line": {
              "color": "white"
             }
            },
            "type": "table"
           }
          ]
         },
         "layout": {
          "annotationdefaults": {
           "arrowcolor": "#2a3f5f",
           "arrowhead": 0,
           "arrowwidth": 1
          },
          "autotypenumbers": "strict",
          "coloraxis": {
           "colorbar": {
            "outlinewidth": 0,
            "ticks": ""
           }
          },
          "colorscale": {
           "diverging": [
            [
             0,
             "#8e0152"
            ],
            [
             0.1,
             "#c51b7d"
            ],
            [
             0.2,
             "#de77ae"
            ],
            [
             0.3,
             "#f1b6da"
            ],
            [
             0.4,
             "#fde0ef"
            ],
            [
             0.5,
             "#f7f7f7"
            ],
            [
             0.6,
             "#e6f5d0"
            ],
            [
             0.7,
             "#b8e186"
            ],
            [
             0.8,
             "#7fbc41"
            ],
            [
             0.9,
             "#4d9221"
            ],
            [
             1,
             "#276419"
            ]
           ],
           "sequential": [
            [
             0,
             "#0d0887"
            ],
            [
             0.1111111111111111,
             "#46039f"
            ],
            [
             0.2222222222222222,
             "#7201a8"
            ],
            [
             0.3333333333333333,
             "#9c179e"
            ],
            [
             0.4444444444444444,
             "#bd3786"
            ],
            [
             0.5555555555555556,
             "#d8576b"
            ],
            [
             0.6666666666666666,
             "#ed7953"
            ],
            [
             0.7777777777777778,
             "#fb9f3a"
            ],
            [
             0.8888888888888888,
             "#fdca26"
            ],
            [
             1,
             "#f0f921"
            ]
           ],
           "sequentialminus": [
            [
             0,
             "#0d0887"
            ],
            [
             0.1111111111111111,
             "#46039f"
            ],
            [
             0.2222222222222222,
             "#7201a8"
            ],
            [
             0.3333333333333333,
             "#9c179e"
            ],
            [
             0.4444444444444444,
             "#bd3786"
            ],
            [
             0.5555555555555556,
             "#d8576b"
            ],
            [
             0.6666666666666666,
             "#ed7953"
            ],
            [
             0.7777777777777778,
             "#fb9f3a"
            ],
            [
             0.8888888888888888,
             "#fdca26"
            ],
            [
             1,
             "#f0f921"
            ]
           ]
          },
          "colorway": [
           "#636efa",
           "#EF553B",
           "#00cc96",
           "#ab63fa",
           "#FFA15A",
           "#19d3f3",
           "#FF6692",
           "#B6E880",
           "#FF97FF",
           "#FECB52"
          ],
          "font": {
           "color": "#2a3f5f"
          },
          "geo": {
           "bgcolor": "white",
           "lakecolor": "white",
           "landcolor": "#E5ECF6",
           "showlakes": true,
           "showland": true,
           "subunitcolor": "white"
          },
          "hoverlabel": {
           "align": "left"
          },
          "hovermode": "closest",
          "mapbox": {
           "style": "light"
          },
          "paper_bgcolor": "white",
          "plot_bgcolor": "#E5ECF6",
          "polar": {
           "angularaxis": {
            "gridcolor": "white",
            "linecolor": "white",
            "ticks": ""
           },
           "bgcolor": "#E5ECF6",
           "radialaxis": {
            "gridcolor": "white",
            "linecolor": "white",
            "ticks": ""
           }
          },
          "scene": {
           "xaxis": {
            "backgroundcolor": "#E5ECF6",
            "gridcolor": "white",
            "gridwidth": 2,
            "linecolor": "white",
            "showbackground": true,
            "ticks": "",
            "zerolinecolor": "white"
           },
           "yaxis": {
            "backgroundcolor": "#E5ECF6",
            "gridcolor": "white",
            "gridwidth": 2,
            "linecolor": "white",
            "showbackground": true,
            "ticks": "",
            "zerolinecolor": "white"
           },
           "zaxis": {
            "backgroundcolor": "#E5ECF6",
            "gridcolor": "white",
            "gridwidth": 2,
            "linecolor": "white",
            "showbackground": true,
            "ticks": "",
            "zerolinecolor": "white"
           }
          },
          "shapedefaults": {
           "line": {
            "color": "#2a3f5f"
           }
          },
          "ternary": {
           "aaxis": {
            "gridcolor": "white",
            "linecolor": "white",
            "ticks": ""
           },
           "baxis": {
            "gridcolor": "white",
            "linecolor": "white",
            "ticks": ""
           },
           "bgcolor": "#E5ECF6",
           "caxis": {
            "gridcolor": "white",
            "linecolor": "white",
            "ticks": ""
           }
          },
          "title": {
           "x": 0.05
          },
          "xaxis": {
           "automargin": true,
           "gridcolor": "white",
           "linecolor": "white",
           "ticks": "",
           "title": {
            "standoff": 15
           },
           "zerolinecolor": "white",
           "zerolinewidth": 2
          },
          "yaxis": {
           "automargin": true,
           "gridcolor": "white",
           "linecolor": "white",
           "ticks": "",
           "title": {
            "standoff": 15
           },
           "zerolinecolor": "white",
           "zerolinewidth": 2
          }
         }
        },
        "xaxis": {
         "anchor": "y",
         "domain": [
          0,
          1
         ],
         "title": {
          "text": "Percent with dog"
         }
        },
        "yaxis": {
         "anchor": "x",
         "domain": [
          0,
          1
         ],
         "title": {
          "text": "Amount (Dollars)"
         }
        }
       }
      }
     },
     "metadata": {},
     "output_type": "display_data"
    }
   ],
   "source": [
    "plot_attribute_dollar('Owner Occ Median Val')"
   ]
  },
  {
   "cell_type": "code",
   "execution_count": 393,
   "metadata": {},
   "outputs": [
    {
     "data": {
      "application/vnd.plotly.v1+json": {
       "config": {
        "plotlyServerURL": "https://plot.ly"
       },
       "data": [
        {
         "hovertemplate": "variable=Median Rent<br>households_with_dog_pct=%{x}<br>value=%{y}<extra></extra>",
         "legendgroup": "Median Rent",
         "marker": {
          "color": "#636efa",
          "symbol": "circle"
         },
         "mode": "markers",
         "name": "Median Rent",
         "orientation": "v",
         "showlegend": true,
         "type": "scatter",
         "x": [
          1.7824640682859474,
          1.3575787769336156,
          1.400560224089636,
          1.9224108070661587,
          0.013821063300469916,
          1.7188020758939198,
          2.1157464775804304,
          1.5148698884758365,
          1.2624310815685063,
          1.668956043956044,
          0.028694404591104734,
          0.5966587112171837,
          1.633313713949382,
          1.9867549668874174,
          0.46728971962616817,
          1.7169331395348837,
          0.2244596934521901,
          0.0239477938094953,
          2.495800335973122,
          0.03003003003003003,
          0.03647505106507149,
          0.0196811651249754,
          1.3429065283871826,
          0.039300451955197484,
          0.02740289100500103,
          1.5619109172187213,
          1.0862078100990833,
          1.7099274203469061,
          1.0581140350877194,
          1.055905705164934,
          1.2191183594380752,
          1.2032617342879872,
          1.255899528037757,
          2.1990369181380416,
          1.7927029415477844,
          1.7767227737016258,
          2.25705329153605,
          1.2700534759358288,
          1.1313639220615965,
          1.3525144473134143,
          1.8306636155606408,
          3.194726166328601,
          1.7157225262535127,
          1.31697636658849,
          1.9406216174424,
          1.3544303797468353,
          2.141346492774057,
          2.0222446916076846,
          2.1967468939439407,
          2.3865994663504297
         ],
         "xaxis": "x",
         "y": [
          1969,
          2040,
          1914,
          2387,
          1829,
          2051,
          2159,
          1956,
          1874,
          2036,
          2412,
          1330,
          2156,
          1762,
          3054,
          2353,
          2165,
          2240,
          2829,
          1347,
          1633,
          1753,
          1811,
          1476,
          1782,
          2082,
          1761,
          2452,
          1689,
          1612,
          1703,
          1663,
          1890,
          2167,
          2338,
          1933,
          2837,
          1724,
          1643,
          1692,
          1884,
          2035.3829787234042,
          1937,
          1609,
          1870,
          1940,
          1939,
          1863,
          2449,
          2138
         ],
         "yaxis": "y"
        }
       ],
       "layout": {
        "legend": {
         "title": {
          "text": "Demographics"
         },
         "tracegroupgap": 0
        },
        "margin": {
         "t": 60
        },
        "template": {
         "data": {
          "bar": [
           {
            "error_x": {
             "color": "#2a3f5f"
            },
            "error_y": {
             "color": "#2a3f5f"
            },
            "marker": {
             "line": {
              "color": "#E5ECF6",
              "width": 0.5
             },
             "pattern": {
              "fillmode": "overlay",
              "size": 10,
              "solidity": 0.2
             }
            },
            "type": "bar"
           }
          ],
          "barpolar": [
           {
            "marker": {
             "line": {
              "color": "#E5ECF6",
              "width": 0.5
             },
             "pattern": {
              "fillmode": "overlay",
              "size": 10,
              "solidity": 0.2
             }
            },
            "type": "barpolar"
           }
          ],
          "carpet": [
           {
            "aaxis": {
             "endlinecolor": "#2a3f5f",
             "gridcolor": "white",
             "linecolor": "white",
             "minorgridcolor": "white",
             "startlinecolor": "#2a3f5f"
            },
            "baxis": {
             "endlinecolor": "#2a3f5f",
             "gridcolor": "white",
             "linecolor": "white",
             "minorgridcolor": "white",
             "startlinecolor": "#2a3f5f"
            },
            "type": "carpet"
           }
          ],
          "choropleth": [
           {
            "colorbar": {
             "outlinewidth": 0,
             "ticks": ""
            },
            "type": "choropleth"
           }
          ],
          "contour": [
           {
            "colorbar": {
             "outlinewidth": 0,
             "ticks": ""
            },
            "colorscale": [
             [
              0,
              "#0d0887"
             ],
             [
              0.1111111111111111,
              "#46039f"
             ],
             [
              0.2222222222222222,
              "#7201a8"
             ],
             [
              0.3333333333333333,
              "#9c179e"
             ],
             [
              0.4444444444444444,
              "#bd3786"
             ],
             [
              0.5555555555555556,
              "#d8576b"
             ],
             [
              0.6666666666666666,
              "#ed7953"
             ],
             [
              0.7777777777777778,
              "#fb9f3a"
             ],
             [
              0.8888888888888888,
              "#fdca26"
             ],
             [
              1,
              "#f0f921"
             ]
            ],
            "type": "contour"
           }
          ],
          "contourcarpet": [
           {
            "colorbar": {
             "outlinewidth": 0,
             "ticks": ""
            },
            "type": "contourcarpet"
           }
          ],
          "heatmap": [
           {
            "colorbar": {
             "outlinewidth": 0,
             "ticks": ""
            },
            "colorscale": [
             [
              0,
              "#0d0887"
             ],
             [
              0.1111111111111111,
              "#46039f"
             ],
             [
              0.2222222222222222,
              "#7201a8"
             ],
             [
              0.3333333333333333,
              "#9c179e"
             ],
             [
              0.4444444444444444,
              "#bd3786"
             ],
             [
              0.5555555555555556,
              "#d8576b"
             ],
             [
              0.6666666666666666,
              "#ed7953"
             ],
             [
              0.7777777777777778,
              "#fb9f3a"
             ],
             [
              0.8888888888888888,
              "#fdca26"
             ],
             [
              1,
              "#f0f921"
             ]
            ],
            "type": "heatmap"
           }
          ],
          "heatmapgl": [
           {
            "colorbar": {
             "outlinewidth": 0,
             "ticks": ""
            },
            "colorscale": [
             [
              0,
              "#0d0887"
             ],
             [
              0.1111111111111111,
              "#46039f"
             ],
             [
              0.2222222222222222,
              "#7201a8"
             ],
             [
              0.3333333333333333,
              "#9c179e"
             ],
             [
              0.4444444444444444,
              "#bd3786"
             ],
             [
              0.5555555555555556,
              "#d8576b"
             ],
             [
              0.6666666666666666,
              "#ed7953"
             ],
             [
              0.7777777777777778,
              "#fb9f3a"
             ],
             [
              0.8888888888888888,
              "#fdca26"
             ],
             [
              1,
              "#f0f921"
             ]
            ],
            "type": "heatmapgl"
           }
          ],
          "histogram": [
           {
            "marker": {
             "pattern": {
              "fillmode": "overlay",
              "size": 10,
              "solidity": 0.2
             }
            },
            "type": "histogram"
           }
          ],
          "histogram2d": [
           {
            "colorbar": {
             "outlinewidth": 0,
             "ticks": ""
            },
            "colorscale": [
             [
              0,
              "#0d0887"
             ],
             [
              0.1111111111111111,
              "#46039f"
             ],
             [
              0.2222222222222222,
              "#7201a8"
             ],
             [
              0.3333333333333333,
              "#9c179e"
             ],
             [
              0.4444444444444444,
              "#bd3786"
             ],
             [
              0.5555555555555556,
              "#d8576b"
             ],
             [
              0.6666666666666666,
              "#ed7953"
             ],
             [
              0.7777777777777778,
              "#fb9f3a"
             ],
             [
              0.8888888888888888,
              "#fdca26"
             ],
             [
              1,
              "#f0f921"
             ]
            ],
            "type": "histogram2d"
           }
          ],
          "histogram2dcontour": [
           {
            "colorbar": {
             "outlinewidth": 0,
             "ticks": ""
            },
            "colorscale": [
             [
              0,
              "#0d0887"
             ],
             [
              0.1111111111111111,
              "#46039f"
             ],
             [
              0.2222222222222222,
              "#7201a8"
             ],
             [
              0.3333333333333333,
              "#9c179e"
             ],
             [
              0.4444444444444444,
              "#bd3786"
             ],
             [
              0.5555555555555556,
              "#d8576b"
             ],
             [
              0.6666666666666666,
              "#ed7953"
             ],
             [
              0.7777777777777778,
              "#fb9f3a"
             ],
             [
              0.8888888888888888,
              "#fdca26"
             ],
             [
              1,
              "#f0f921"
             ]
            ],
            "type": "histogram2dcontour"
           }
          ],
          "mesh3d": [
           {
            "colorbar": {
             "outlinewidth": 0,
             "ticks": ""
            },
            "type": "mesh3d"
           }
          ],
          "parcoords": [
           {
            "line": {
             "colorbar": {
              "outlinewidth": 0,
              "ticks": ""
             }
            },
            "type": "parcoords"
           }
          ],
          "pie": [
           {
            "automargin": true,
            "type": "pie"
           }
          ],
          "scatter": [
           {
            "fillpattern": {
             "fillmode": "overlay",
             "size": 10,
             "solidity": 0.2
            },
            "type": "scatter"
           }
          ],
          "scatter3d": [
           {
            "line": {
             "colorbar": {
              "outlinewidth": 0,
              "ticks": ""
             }
            },
            "marker": {
             "colorbar": {
              "outlinewidth": 0,
              "ticks": ""
             }
            },
            "type": "scatter3d"
           }
          ],
          "scattercarpet": [
           {
            "marker": {
             "colorbar": {
              "outlinewidth": 0,
              "ticks": ""
             }
            },
            "type": "scattercarpet"
           }
          ],
          "scattergeo": [
           {
            "marker": {
             "colorbar": {
              "outlinewidth": 0,
              "ticks": ""
             }
            },
            "type": "scattergeo"
           }
          ],
          "scattergl": [
           {
            "marker": {
             "colorbar": {
              "outlinewidth": 0,
              "ticks": ""
             }
            },
            "type": "scattergl"
           }
          ],
          "scattermapbox": [
           {
            "marker": {
             "colorbar": {
              "outlinewidth": 0,
              "ticks": ""
             }
            },
            "type": "scattermapbox"
           }
          ],
          "scatterpolar": [
           {
            "marker": {
             "colorbar": {
              "outlinewidth": 0,
              "ticks": ""
             }
            },
            "type": "scatterpolar"
           }
          ],
          "scatterpolargl": [
           {
            "marker": {
             "colorbar": {
              "outlinewidth": 0,
              "ticks": ""
             }
            },
            "type": "scatterpolargl"
           }
          ],
          "scatterternary": [
           {
            "marker": {
             "colorbar": {
              "outlinewidth": 0,
              "ticks": ""
             }
            },
            "type": "scatterternary"
           }
          ],
          "surface": [
           {
            "colorbar": {
             "outlinewidth": 0,
             "ticks": ""
            },
            "colorscale": [
             [
              0,
              "#0d0887"
             ],
             [
              0.1111111111111111,
              "#46039f"
             ],
             [
              0.2222222222222222,
              "#7201a8"
             ],
             [
              0.3333333333333333,
              "#9c179e"
             ],
             [
              0.4444444444444444,
              "#bd3786"
             ],
             [
              0.5555555555555556,
              "#d8576b"
             ],
             [
              0.6666666666666666,
              "#ed7953"
             ],
             [
              0.7777777777777778,
              "#fb9f3a"
             ],
             [
              0.8888888888888888,
              "#fdca26"
             ],
             [
              1,
              "#f0f921"
             ]
            ],
            "type": "surface"
           }
          ],
          "table": [
           {
            "cells": {
             "fill": {
              "color": "#EBF0F8"
             },
             "line": {
              "color": "white"
             }
            },
            "header": {
             "fill": {
              "color": "#C8D4E3"
             },
             "line": {
              "color": "white"
             }
            },
            "type": "table"
           }
          ]
         },
         "layout": {
          "annotationdefaults": {
           "arrowcolor": "#2a3f5f",
           "arrowhead": 0,
           "arrowwidth": 1
          },
          "autotypenumbers": "strict",
          "coloraxis": {
           "colorbar": {
            "outlinewidth": 0,
            "ticks": ""
           }
          },
          "colorscale": {
           "diverging": [
            [
             0,
             "#8e0152"
            ],
            [
             0.1,
             "#c51b7d"
            ],
            [
             0.2,
             "#de77ae"
            ],
            [
             0.3,
             "#f1b6da"
            ],
            [
             0.4,
             "#fde0ef"
            ],
            [
             0.5,
             "#f7f7f7"
            ],
            [
             0.6,
             "#e6f5d0"
            ],
            [
             0.7,
             "#b8e186"
            ],
            [
             0.8,
             "#7fbc41"
            ],
            [
             0.9,
             "#4d9221"
            ],
            [
             1,
             "#276419"
            ]
           ],
           "sequential": [
            [
             0,
             "#0d0887"
            ],
            [
             0.1111111111111111,
             "#46039f"
            ],
            [
             0.2222222222222222,
             "#7201a8"
            ],
            [
             0.3333333333333333,
             "#9c179e"
            ],
            [
             0.4444444444444444,
             "#bd3786"
            ],
            [
             0.5555555555555556,
             "#d8576b"
            ],
            [
             0.6666666666666666,
             "#ed7953"
            ],
            [
             0.7777777777777778,
             "#fb9f3a"
            ],
            [
             0.8888888888888888,
             "#fdca26"
            ],
            [
             1,
             "#f0f921"
            ]
           ],
           "sequentialminus": [
            [
             0,
             "#0d0887"
            ],
            [
             0.1111111111111111,
             "#46039f"
            ],
            [
             0.2222222222222222,
             "#7201a8"
            ],
            [
             0.3333333333333333,
             "#9c179e"
            ],
            [
             0.4444444444444444,
             "#bd3786"
            ],
            [
             0.5555555555555556,
             "#d8576b"
            ],
            [
             0.6666666666666666,
             "#ed7953"
            ],
            [
             0.7777777777777778,
             "#fb9f3a"
            ],
            [
             0.8888888888888888,
             "#fdca26"
            ],
            [
             1,
             "#f0f921"
            ]
           ]
          },
          "colorway": [
           "#636efa",
           "#EF553B",
           "#00cc96",
           "#ab63fa",
           "#FFA15A",
           "#19d3f3",
           "#FF6692",
           "#B6E880",
           "#FF97FF",
           "#FECB52"
          ],
          "font": {
           "color": "#2a3f5f"
          },
          "geo": {
           "bgcolor": "white",
           "lakecolor": "white",
           "landcolor": "#E5ECF6",
           "showlakes": true,
           "showland": true,
           "subunitcolor": "white"
          },
          "hoverlabel": {
           "align": "left"
          },
          "hovermode": "closest",
          "mapbox": {
           "style": "light"
          },
          "paper_bgcolor": "white",
          "plot_bgcolor": "#E5ECF6",
          "polar": {
           "angularaxis": {
            "gridcolor": "white",
            "linecolor": "white",
            "ticks": ""
           },
           "bgcolor": "#E5ECF6",
           "radialaxis": {
            "gridcolor": "white",
            "linecolor": "white",
            "ticks": ""
           }
          },
          "scene": {
           "xaxis": {
            "backgroundcolor": "#E5ECF6",
            "gridcolor": "white",
            "gridwidth": 2,
            "linecolor": "white",
            "showbackground": true,
            "ticks": "",
            "zerolinecolor": "white"
           },
           "yaxis": {
            "backgroundcolor": "#E5ECF6",
            "gridcolor": "white",
            "gridwidth": 2,
            "linecolor": "white",
            "showbackground": true,
            "ticks": "",
            "zerolinecolor": "white"
           },
           "zaxis": {
            "backgroundcolor": "#E5ECF6",
            "gridcolor": "white",
            "gridwidth": 2,
            "linecolor": "white",
            "showbackground": true,
            "ticks": "",
            "zerolinecolor": "white"
           }
          },
          "shapedefaults": {
           "line": {
            "color": "#2a3f5f"
           }
          },
          "ternary": {
           "aaxis": {
            "gridcolor": "white",
            "linecolor": "white",
            "ticks": ""
           },
           "baxis": {
            "gridcolor": "white",
            "linecolor": "white",
            "ticks": ""
           },
           "bgcolor": "#E5ECF6",
           "caxis": {
            "gridcolor": "white",
            "linecolor": "white",
            "ticks": ""
           }
          },
          "title": {
           "x": 0.05
          },
          "xaxis": {
           "automargin": true,
           "gridcolor": "white",
           "linecolor": "white",
           "ticks": "",
           "title": {
            "standoff": 15
           },
           "zerolinecolor": "white",
           "zerolinewidth": 2
          },
          "yaxis": {
           "automargin": true,
           "gridcolor": "white",
           "linecolor": "white",
           "ticks": "",
           "title": {
            "standoff": 15
           },
           "zerolinecolor": "white",
           "zerolinewidth": 2
          }
         }
        },
        "xaxis": {
         "anchor": "y",
         "domain": [
          0,
          1
         ],
         "title": {
          "text": "Percent with dog"
         }
        },
        "yaxis": {
         "anchor": "x",
         "domain": [
          0,
          1
         ],
         "title": {
          "text": "Amount (Dollars)"
         }
        }
       }
      }
     },
     "metadata": {},
     "output_type": "display_data"
    }
   ],
   "source": [
    "plot_attribute_dollar('Median Rent')"
   ]
  },
  {
   "cell_type": "code",
   "execution_count": 394,
   "metadata": {},
   "outputs": [],
   "source": [
    "# From the visualizations, there doesn't appear to be any correlation when 'households_with_dog_pct' < 1.0]\n",
    "# Let's just look at the correlations when 'households_with_dog_pct' >= 1.0]\n",
    "DP04_select_ge1_df = DP04_select_df[DP04_select_df['households_with_dog_pct'] >= 1.0]"
   ]
  },
  {
   "cell_type": "code",
   "execution_count": 395,
   "metadata": {},
   "outputs": [
    {
     "data": {
      "text/html": [
       "<div>\n",
       "<style scoped>\n",
       "    .dataframe tbody tr th:only-of-type {\n",
       "        vertical-align: middle;\n",
       "    }\n",
       "\n",
       "    .dataframe tbody tr th {\n",
       "        vertical-align: top;\n",
       "    }\n",
       "\n",
       "    .dataframe thead th {\n",
       "        text-align: right;\n",
       "    }\n",
       "</style>\n",
       "<table border=\"1\" class=\"dataframe\">\n",
       "  <thead>\n",
       "    <tr style=\"text-align: right;\">\n",
       "      <th></th>\n",
       "      <th>households_with_dog_pct</th>\n",
       "      <th>Pct No Bedroom</th>\n",
       "      <th>Pct 1 Bedroom</th>\n",
       "      <th>Pct 2 Bedrooms</th>\n",
       "      <th>Pct 3 Bedrooms</th>\n",
       "      <th>Pct 4 Bedrooms</th>\n",
       "      <th>Pct 5+ Bedrooms</th>\n",
       "      <th>Pct Owner Occ</th>\n",
       "      <th>Pct Renter Occ</th>\n",
       "      <th>Owner Occ Median Val</th>\n",
       "      <th>Median Rent</th>\n",
       "    </tr>\n",
       "  </thead>\n",
       "  <tbody>\n",
       "    <tr>\n",
       "      <th>households_with_dog_pct</th>\n",
       "      <td>1.000000</td>\n",
       "      <td>-0.726170</td>\n",
       "      <td>-0.780737</td>\n",
       "      <td>-0.750665</td>\n",
       "      <td>0.052361</td>\n",
       "      <td>0.772167</td>\n",
       "      <td>0.754760</td>\n",
       "      <td>0.845382</td>\n",
       "      <td>-0.845382</td>\n",
       "      <td>0.540554</td>\n",
       "      <td>0.612641</td>\n",
       "    </tr>\n",
       "    <tr>\n",
       "      <th>Pct No Bedroom</th>\n",
       "      <td>-0.726170</td>\n",
       "      <td>1.000000</td>\n",
       "      <td>0.815648</td>\n",
       "      <td>0.671603</td>\n",
       "      <td>-0.278925</td>\n",
       "      <td>-0.744071</td>\n",
       "      <td>-0.626424</td>\n",
       "      <td>-0.853763</td>\n",
       "      <td>0.853763</td>\n",
       "      <td>-0.403941</td>\n",
       "      <td>-0.619127</td>\n",
       "    </tr>\n",
       "    <tr>\n",
       "      <th>Pct 1 Bedroom</th>\n",
       "      <td>-0.780737</td>\n",
       "      <td>0.815648</td>\n",
       "      <td>1.000000</td>\n",
       "      <td>0.774296</td>\n",
       "      <td>-0.398553</td>\n",
       "      <td>-0.832930</td>\n",
       "      <td>-0.657272</td>\n",
       "      <td>-0.909979</td>\n",
       "      <td>0.909979</td>\n",
       "      <td>-0.526199</td>\n",
       "      <td>-0.652002</td>\n",
       "    </tr>\n",
       "    <tr>\n",
       "      <th>Pct 2 Bedrooms</th>\n",
       "      <td>-0.750665</td>\n",
       "      <td>0.671603</td>\n",
       "      <td>0.774296</td>\n",
       "      <td>1.000000</td>\n",
       "      <td>-0.088299</td>\n",
       "      <td>-0.949280</td>\n",
       "      <td>-0.735039</td>\n",
       "      <td>-0.822140</td>\n",
       "      <td>0.822140</td>\n",
       "      <td>-0.516642</td>\n",
       "      <td>-0.551818</td>\n",
       "    </tr>\n",
       "    <tr>\n",
       "      <th>Pct 3 Bedrooms</th>\n",
       "      <td>0.052361</td>\n",
       "      <td>-0.278925</td>\n",
       "      <td>-0.398553</td>\n",
       "      <td>-0.088299</td>\n",
       "      <td>1.000000</td>\n",
       "      <td>0.052522</td>\n",
       "      <td>-0.289484</td>\n",
       "      <td>0.201701</td>\n",
       "      <td>-0.201701</td>\n",
       "      <td>-0.204626</td>\n",
       "      <td>0.162831</td>\n",
       "    </tr>\n",
       "    <tr>\n",
       "      <th>Pct 4 Bedrooms</th>\n",
       "      <td>0.772167</td>\n",
       "      <td>-0.744071</td>\n",
       "      <td>-0.832930</td>\n",
       "      <td>-0.949280</td>\n",
       "      <td>0.052522</td>\n",
       "      <td>1.000000</td>\n",
       "      <td>0.691957</td>\n",
       "      <td>0.836644</td>\n",
       "      <td>-0.836644</td>\n",
       "      <td>0.515454</td>\n",
       "      <td>0.592134</td>\n",
       "    </tr>\n",
       "    <tr>\n",
       "      <th>Pct 5+ Bedrooms</th>\n",
       "      <td>0.754760</td>\n",
       "      <td>-0.626424</td>\n",
       "      <td>-0.657272</td>\n",
       "      <td>-0.735039</td>\n",
       "      <td>-0.289484</td>\n",
       "      <td>0.691957</td>\n",
       "      <td>1.000000</td>\n",
       "      <td>0.799530</td>\n",
       "      <td>-0.799530</td>\n",
       "      <td>0.711311</td>\n",
       "      <td>0.519151</td>\n",
       "    </tr>\n",
       "    <tr>\n",
       "      <th>Pct Owner Occ</th>\n",
       "      <td>0.845382</td>\n",
       "      <td>-0.853763</td>\n",
       "      <td>-0.909979</td>\n",
       "      <td>-0.822140</td>\n",
       "      <td>0.201701</td>\n",
       "      <td>0.836644</td>\n",
       "      <td>0.799530</td>\n",
       "      <td>1.000000</td>\n",
       "      <td>-1.000000</td>\n",
       "      <td>0.525259</td>\n",
       "      <td>0.652166</td>\n",
       "    </tr>\n",
       "    <tr>\n",
       "      <th>Pct Renter Occ</th>\n",
       "      <td>-0.845382</td>\n",
       "      <td>0.853763</td>\n",
       "      <td>0.909979</td>\n",
       "      <td>0.822140</td>\n",
       "      <td>-0.201701</td>\n",
       "      <td>-0.836644</td>\n",
       "      <td>-0.799530</td>\n",
       "      <td>-1.000000</td>\n",
       "      <td>1.000000</td>\n",
       "      <td>-0.525259</td>\n",
       "      <td>-0.652166</td>\n",
       "    </tr>\n",
       "    <tr>\n",
       "      <th>Owner Occ Median Val</th>\n",
       "      <td>0.540554</td>\n",
       "      <td>-0.403941</td>\n",
       "      <td>-0.526199</td>\n",
       "      <td>-0.516642</td>\n",
       "      <td>-0.204626</td>\n",
       "      <td>0.515454</td>\n",
       "      <td>0.711311</td>\n",
       "      <td>0.525259</td>\n",
       "      <td>-0.525259</td>\n",
       "      <td>1.000000</td>\n",
       "      <td>0.444171</td>\n",
       "    </tr>\n",
       "    <tr>\n",
       "      <th>Median Rent</th>\n",
       "      <td>0.612641</td>\n",
       "      <td>-0.619127</td>\n",
       "      <td>-0.652002</td>\n",
       "      <td>-0.551818</td>\n",
       "      <td>0.162831</td>\n",
       "      <td>0.592134</td>\n",
       "      <td>0.519151</td>\n",
       "      <td>0.652166</td>\n",
       "      <td>-0.652166</td>\n",
       "      <td>0.444171</td>\n",
       "      <td>1.000000</td>\n",
       "    </tr>\n",
       "  </tbody>\n",
       "</table>\n",
       "</div>"
      ],
      "text/plain": [
       "                         households_with_dog_pct  Pct No Bedroom  \\\n",
       "households_with_dog_pct                 1.000000       -0.726170   \n",
       "Pct No Bedroom                         -0.726170        1.000000   \n",
       "Pct 1 Bedroom                          -0.780737        0.815648   \n",
       "Pct 2 Bedrooms                         -0.750665        0.671603   \n",
       "Pct 3 Bedrooms                          0.052361       -0.278925   \n",
       "Pct 4 Bedrooms                          0.772167       -0.744071   \n",
       "Pct 5+ Bedrooms                         0.754760       -0.626424   \n",
       "Pct Owner Occ                           0.845382       -0.853763   \n",
       "Pct Renter Occ                         -0.845382        0.853763   \n",
       "Owner Occ Median Val                    0.540554       -0.403941   \n",
       "Median Rent                             0.612641       -0.619127   \n",
       "\n",
       "                         Pct 1 Bedroom  Pct 2 Bedrooms  Pct 3 Bedrooms  \\\n",
       "households_with_dog_pct      -0.780737       -0.750665        0.052361   \n",
       "Pct No Bedroom                0.815648        0.671603       -0.278925   \n",
       "Pct 1 Bedroom                 1.000000        0.774296       -0.398553   \n",
       "Pct 2 Bedrooms                0.774296        1.000000       -0.088299   \n",
       "Pct 3 Bedrooms               -0.398553       -0.088299        1.000000   \n",
       "Pct 4 Bedrooms               -0.832930       -0.949280        0.052522   \n",
       "Pct 5+ Bedrooms              -0.657272       -0.735039       -0.289484   \n",
       "Pct Owner Occ                -0.909979       -0.822140        0.201701   \n",
       "Pct Renter Occ                0.909979        0.822140       -0.201701   \n",
       "Owner Occ Median Val         -0.526199       -0.516642       -0.204626   \n",
       "Median Rent                  -0.652002       -0.551818        0.162831   \n",
       "\n",
       "                         Pct 4 Bedrooms  Pct 5+ Bedrooms  Pct Owner Occ  \\\n",
       "households_with_dog_pct        0.772167         0.754760       0.845382   \n",
       "Pct No Bedroom                -0.744071        -0.626424      -0.853763   \n",
       "Pct 1 Bedroom                 -0.832930        -0.657272      -0.909979   \n",
       "Pct 2 Bedrooms                -0.949280        -0.735039      -0.822140   \n",
       "Pct 3 Bedrooms                 0.052522        -0.289484       0.201701   \n",
       "Pct 4 Bedrooms                 1.000000         0.691957       0.836644   \n",
       "Pct 5+ Bedrooms                0.691957         1.000000       0.799530   \n",
       "Pct Owner Occ                  0.836644         0.799530       1.000000   \n",
       "Pct Renter Occ                -0.836644        -0.799530      -1.000000   \n",
       "Owner Occ Median Val           0.515454         0.711311       0.525259   \n",
       "Median Rent                    0.592134         0.519151       0.652166   \n",
       "\n",
       "                         Pct Renter Occ  Owner Occ Median Val  Median Rent  \n",
       "households_with_dog_pct       -0.845382              0.540554     0.612641  \n",
       "Pct No Bedroom                 0.853763             -0.403941    -0.619127  \n",
       "Pct 1 Bedroom                  0.909979             -0.526199    -0.652002  \n",
       "Pct 2 Bedrooms                 0.822140             -0.516642    -0.551818  \n",
       "Pct 3 Bedrooms                -0.201701             -0.204626     0.162831  \n",
       "Pct 4 Bedrooms                -0.836644              0.515454     0.592134  \n",
       "Pct 5+ Bedrooms               -0.799530              0.711311     0.519151  \n",
       "Pct Owner Occ                 -1.000000              0.525259     0.652166  \n",
       "Pct Renter Occ                 1.000000             -0.525259    -0.652166  \n",
       "Owner Occ Median Val          -0.525259              1.000000     0.444171  \n",
       "Median Rent                   -0.652166              0.444171     1.000000  "
      ]
     },
     "execution_count": 395,
     "metadata": {},
     "output_type": "execute_result"
    }
   ],
   "source": [
    "DP04_select_ge1_df[['households_with_dog_pct','Pct No Bedroom',\n",
    "       'Pct 1 Bedroom', 'Pct 2 Bedrooms', 'Pct 3 Bedrooms', 'Pct 4 Bedrooms',\n",
    "       'Pct 5+ Bedrooms', 'Pct Owner Occ', 'Pct Renter Occ',\n",
    "       'Owner Occ Median Val', 'Median Rent']].corr()"
   ]
  }
 ],
 "metadata": {
  "kernelspec": {
   "display_name": "Python 3.10.4 ('IBMDS3-10-4')",
   "language": "python",
   "name": "python3"
  },
  "language_info": {
   "codemirror_mode": {
    "name": "ipython",
    "version": 3
   },
   "file_extension": ".py",
   "mimetype": "text/x-python",
   "name": "python",
   "nbconvert_exporter": "python",
   "pygments_lexer": "ipython3",
   "version": "3.10.4"
  },
  "orig_nbformat": 4,
  "vscode": {
   "interpreter": {
    "hash": "c2ee4b7f7eb954571bf947532a8780439ad7cc0706de47989c3983f8acf1841e"
   }
  }
 },
 "nbformat": 4,
 "nbformat_minor": 2
}
